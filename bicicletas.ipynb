{
 "cells": [
  {
   "cell_type": "markdown",
   "id": "8be13835",
   "metadata": {
    "canvas": {
     "comments": [],
     "componentType": "CodeCell",
     "copiedOriginId": null,
     "diskcache": false,
     "headerColor": "transparent",
     "id": "a177b078-d197-4a12-a304-5031c2fb49db",
     "isComponent": false,
     "name": "",
     "parents": []
    },
    "toc": true
   },
   "source": [
    "<h1>Table of Contents <span class=\"tocSkip\"></span></h1>\n",
    "<div class=\"toc\"><ul class=\"toc-item\"><li><span><a href=\"#Table-of-Contents\" data-toc-modified-id=\"Table-of-Contents-1\"><span class=\"toc-item-num\">1&nbsp;&nbsp;</span>Table of Contents</a></span></li><li><span><a href=\"#bibliotecas\" data-toc-modified-id=\"bibliotecas-2\"><span class=\"toc-item-num\">2&nbsp;&nbsp;</span>bibliotecas</a></span></li><li><span><a href=\"#download-dos-arquivos\" data-toc-modified-id=\"download-dos-arquivos-3\"><span class=\"toc-item-num\">3&nbsp;&nbsp;</span>download dos arquivos</a></span></li><li><span><a href=\"#dataframe\" data-toc-modified-id=\"dataframe-4\"><span class=\"toc-item-num\">4&nbsp;&nbsp;</span>dataframe</a></span><ul class=\"toc-item\"><li><span><a href=\"#lista-de-arquivos\" data-toc-modified-id=\"lista-de-arquivos-4.1\"><span class=\"toc-item-num\">4.1&nbsp;&nbsp;</span>lista de arquivos</a></span></li><li><span><a href=\"#Iteração\" data-toc-modified-id=\"Iteração-4.2\"><span class=\"toc-item-num\">4.2&nbsp;&nbsp;</span>Iteração</a></span></li></ul></li><li><span><a href=\"#analises\" data-toc-modified-id=\"analises-5\"><span class=\"toc-item-num\">5&nbsp;&nbsp;</span>analises</a></span><ul class=\"toc-item\"><li><span><a href=\"#analises-previas\" data-toc-modified-id=\"analises-previas-5.1\"><span class=\"toc-item-num\">5.1&nbsp;&nbsp;</span>analises previas</a></span></li><li><span><a href=\"#Limpeza-dos-dados\" data-toc-modified-id=\"Limpeza-dos-dados-5.2\"><span class=\"toc-item-num\">5.2&nbsp;&nbsp;</span>Limpeza dos dados</a></span></li><li><span><a href=\"#Corrigir-ou-descartar-linhas?\" data-toc-modified-id=\"Corrigir-ou-descartar-linhas?-5.3\"><span class=\"toc-item-num\">5.3&nbsp;&nbsp;</span>Corrigir ou descartar linhas?</a></span></li><li><span><a href=\"#Análise-descritiva\" data-toc-modified-id=\"Análise-descritiva-5.4\"><span class=\"toc-item-num\">5.4&nbsp;&nbsp;</span>Análise descritiva</a></span></li><li><span><a href=\"#limpeza-efetiva-dos-dados\" data-toc-modified-id=\"limpeza-efetiva-dos-dados-5.5\"><span class=\"toc-item-num\">5.5&nbsp;&nbsp;</span>limpeza efetiva dos dados</a></span></li></ul></li><li><span><a href=\"#análise-Descritiva-dos-dados-válidos\" data-toc-modified-id=\"análise-Descritiva-dos-dados-válidos-6\"><span class=\"toc-item-num\">6&nbsp;&nbsp;</span>análise Descritiva dos dados válidos</a></span><ul class=\"toc-item\"><li><span><a href=\"#Analise-inicial\" data-toc-modified-id=\"Analise-inicial-6.1\"><span class=\"toc-item-num\">6.1&nbsp;&nbsp;</span>Analise inicial</a></span></li><li><span><a href=\"#Mês-com-mais-viagens\" data-toc-modified-id=\"Mês-com-mais-viagens-6.2\"><span class=\"toc-item-num\">6.2&nbsp;&nbsp;</span>Mês com mais viagens</a></span><ul class=\"toc-item\"><li><span><a href=\"#Plotando-o-grfaico\" data-toc-modified-id=\"Plotando-o-grfaico-6.2.1\"><span class=\"toc-item-num\">6.2.1&nbsp;&nbsp;</span>Plotando o grfaico</a></span></li></ul></li><li><span><a href=\"#A-quantidade-de-estações\" data-toc-modified-id=\"A-quantidade-de-estações-6.3\"><span class=\"toc-item-num\">6.3&nbsp;&nbsp;</span>A quantidade de estações</a></span></li><li><span><a href=\"#Tabela-origem-destino\" data-toc-modified-id=\"Tabela-origem-destino-6.4\"><span class=\"toc-item-num\">6.4&nbsp;&nbsp;</span>Tabela origem-destino</a></span></li><li><span><a href=\"#Quais-as-rotas-mais-solicitadas?\" data-toc-modified-id=\"Quais-as-rotas-mais-solicitadas?-6.5\"><span class=\"toc-item-num\">6.5&nbsp;&nbsp;</span>Quais as rotas mais solicitadas?</a></span></li><li><span><a href=\"#Qual-a-duração-média-das-viagens?\" data-toc-modified-id=\"Qual-a-duração-média-das-viagens?-6.6\"><span class=\"toc-item-num\">6.6&nbsp;&nbsp;</span>Qual a duração média das viagens?</a></span><ul class=\"toc-item\"><li><span><a href=\"#Agrupamento-por-estações-do-ano\" data-toc-modified-id=\"Agrupamento-por-estações-do-ano-6.6.1\"><span class=\"toc-item-num\">6.6.1&nbsp;&nbsp;</span>Agrupamento por estações do ano</a></span><ul class=\"toc-item\"><li><span><a href=\"#Plotando-o-gráfico-das-estações\" data-toc-modified-id=\"Plotando-o-gráfico-das-estações-6.6.1.1\"><span class=\"toc-item-num\">6.6.1.1&nbsp;&nbsp;</span>Plotando o gráfico das estações</a></span></li></ul></li></ul></li><li><span><a href=\"#Quais-as-estações-mais-movimentadas?\" data-toc-modified-id=\"Quais-as-estações-mais-movimentadas?-6.7\"><span class=\"toc-item-num\">6.7&nbsp;&nbsp;</span>Quais as estações mais movimentadas?</a></span></li></ul></li><li><span><a href=\"#A-criação-de-um-banco-de-dados\" data-toc-modified-id=\"A-criação-de-um-banco-de-dados-7\"><span class=\"toc-item-num\">7&nbsp;&nbsp;</span>A criação de um banco de dados</a></span></li><li><span><a href=\"#Análise-por-grupo\" data-toc-modified-id=\"Análise-por-grupo-8\"><span class=\"toc-item-num\">8&nbsp;&nbsp;</span>Análise por grupo</a></span><ul class=\"toc-item\"><li><span><a href=\"#Análise-inicial,-por-grupo\" data-toc-modified-id=\"Análise-inicial,-por-grupo-8.1\"><span class=\"toc-item-num\">8.1&nbsp;&nbsp;</span>Análise inicial, por grupo</a></span></li><li><span><a href=\"#Plotando-o-gráfico\" data-toc-modified-id=\"Plotando-o-gráfico-8.2\"><span class=\"toc-item-num\">8.2&nbsp;&nbsp;</span>Plotando o gráfico</a></span></li><li><span><a href=\"#Média-de-viagens,-por-mês,-por-grupo\" data-toc-modified-id=\"Média-de-viagens,-por-mês,-por-grupo-8.3\"><span class=\"toc-item-num\">8.3&nbsp;&nbsp;</span>Média de viagens, por mês, por grupo</a></span></li><li><span><a href=\"#Plotando-o-gráfico\" data-toc-modified-id=\"Plotando-o-gráfico-8.4\"><span class=\"toc-item-num\">8.4&nbsp;&nbsp;</span>Plotando o gráfico</a></span></li><li><span><a href=\"#duração-média-das-viagens,-por-grupo\" data-toc-modified-id=\"duração-média-das-viagens,-por-grupo-8.5\"><span class=\"toc-item-num\">8.5&nbsp;&nbsp;</span>duração média das viagens, por grupo</a></span></li><li><span><a href=\"#Estações-mais-usadas,-por-grupo\" data-toc-modified-id=\"Estações-mais-usadas,-por-grupo-8.6\"><span class=\"toc-item-num\">8.6&nbsp;&nbsp;</span>Estações mais usadas, por grupo</a></span></li><li><span><a href=\"#Rotas-mais-usadas,-por-grupo\" data-toc-modified-id=\"Rotas-mais-usadas,-por-grupo-8.7\"><span class=\"toc-item-num\">8.7&nbsp;&nbsp;</span>Rotas mais usadas, por grupo</a></span><ul class=\"toc-item\"><li><span><a href=\"#Viagens-por-estação-do-ano,-por-grupo\" data-toc-modified-id=\"Viagens-por-estação-do-ano,-por-grupo-8.7.1\"><span class=\"toc-item-num\">8.7.1&nbsp;&nbsp;</span>Viagens por estação do ano, por grupo</a></span></li></ul></li></ul></li><li><span><a href=\"#Análises-usando-SQL\" data-toc-modified-id=\"Análises-usando-SQL-9\"><span class=\"toc-item-num\">9&nbsp;&nbsp;</span>Análises usando SQL</a></span></li><li><span><a href=\"#Plotando-as-viagens-em-um-mapa\" data-toc-modified-id=\"Plotando-as-viagens-em-um-mapa-10\"><span class=\"toc-item-num\">10&nbsp;&nbsp;</span>Plotando as viagens em um mapa</a></span></li><li><span><a href=\"#Teste-de-exportação\" data-toc-modified-id=\"Teste-de-exportação-11\"><span class=\"toc-item-num\">11&nbsp;&nbsp;</span>Teste de exportação</a></span></li></ul></div>"
   ]
  },
  {
   "cell_type": "markdown",
   "id": "2c69d3ab",
   "metadata": {
    "canvas": {
     "comments": [],
     "componentType": "CodeCell",
     "copiedOriginId": null,
     "diskcache": false,
     "headerColor": "transparent",
     "id": "af3a51d5-7ead-4d2a-ad40-4447a5bca3c7",
     "isComponent": false,
     "name": "",
     "parents": []
    },
    "id": "75d728aa-2b4c-4c64-929a-7051917ce73b",
    "tags": []
   },
   "source": [
    "# bibliotecas"
   ]
  },
  {
   "cell_type": "markdown",
   "id": "180f1258",
   "metadata": {
    "canvas": {
     "comments": [],
     "componentType": "CodeCell",
     "copiedOriginId": null,
     "diskcache": false,
     "headerColor": "transparent",
     "id": "a9e872fa-925e-46d9-a3e3-0d49ffcd9862",
     "isComponent": false,
     "name": "",
     "parents": []
    }
   },
   "source": [
    "Utilizei a biblioteca pathlib, ao inves da os.<br>\n",
    "A pathlib é mais nova, e oferece mais facilidade do que a os"
   ]
  },
  {
   "cell_type": "code",
   "execution_count": 1,
   "id": "2b41f62c",
   "metadata": {
    "canvas": {
     "comments": [],
     "componentType": "CodeCell",
     "copiedOriginId": null,
     "diskcache": false,
     "headerColor": "transparent",
     "id": "dce1979b-682e-4d66-88ed-ff42efec9e80",
     "isComponent": false,
     "name": "",
     "parents": []
    },
    "id": "06eae7aa-6260-4cf7-89d3-f3e2c03f748b",
    "tags": []
   },
   "outputs": [],
   "source": [
    "import zipfile\n",
    "from pathlib import Path\n",
    "import pandas as pd\n",
    "import warnings"
   ]
  },
  {
   "cell_type": "code",
   "execution_count": 2,
   "id": "1bae5968",
   "metadata": {
    "canvas": {
     "comments": [],
     "componentType": "CodeCell",
     "copiedOriginId": null,
     "diskcache": false,
     "headerColor": "transparent",
     "id": "0aa07c25-6783-4a60-9a30-dbac2e69a203",
     "isComponent": false,
     "name": "",
     "parents": []
    },
    "tags": []
   },
   "outputs": [],
   "source": [
    "# Suppress Warning messages\n",
    "warnings.filterwarnings(\"ignore\")"
   ]
  },
  {
   "cell_type": "markdown",
   "id": "3d4fb880",
   "metadata": {
    "canvas": {
     "comments": [],
     "componentType": "CodeCell",
     "copiedOriginId": "8f7c0b00-931b-4d98-862f-3c7c06d003d2",
     "diskcache": false,
     "headerColor": "transparent",
     "id": "97f00e0c-3d70-4acd-9ed8-963a114d541e",
     "isComponent": false,
     "name": "",
     "parents": []
    },
    "jp-MarkdownHeadingCollapsed": true,
    "tags": []
   },
   "source": [
    "# download dos arquivos"
   ]
  },
  {
   "cell_type": "code",
   "execution_count": 30,
   "id": "63951a1c",
   "metadata": {
    "canvas": {
     "comments": [],
     "componentType": "CodeCell",
     "copiedOriginId": null,
     "diskcache": false,
     "headerColor": "transparent",
     "id": "1206a9d5-23ef-4c93-9963-ec6b2734d669",
     "isComponent": false,
     "name": "",
     "parents": []
    },
    "id": "c1587e8d-c2cc-4353-a4fc-4cdd202bfad2"
   },
   "outputs": [],
   "source": [
    "url1 = 'https://divvy-tripdata.s3.amazonaws.com/index.html'"
   ]
  },
  {
   "cell_type": "markdown",
   "id": "cdda4d3c",
   "metadata": {
    "canvas": {
     "comments": [],
     "componentType": "CodeCell",
     "copiedOriginId": null,
     "diskcache": false,
     "headerColor": "transparent",
     "id": "27531afc-3500-4f66-802d-ba659d7bc36d",
     "isComponent": false,
     "name": "",
     "parents": []
    },
    "jp-MarkdownHeadingCollapsed": true,
    "tags": []
   },
   "source": [
    "Para automatizar o download, verifiquei que o nome dos arquivos variava apenas pelos números que definiam o período dos registros, iniciando em 2023-01 até 2023-10. Então, fiz um range entre 202301 e 202311, e um loop acrescentando o prefixo e o sufixo nesses ranges, transformando os valores numéricos em string para poder juntar as partes"
   ]
  },
  {
   "cell_type": "code",
   "execution_count": null,
   "id": "7a5ee063",
   "metadata": {
    "canvas": {
     "comments": [],
     "componentType": "CodeCell",
     "copiedOriginId": null,
     "diskcache": false,
     "headerColor": "transparent",
     "id": "68f92394-40f1-4040-9ae5-531aaab41a48",
     "isComponent": false,
     "name": "",
     "parents": []
    },
    "id": "cd039b2d-cf26-4ce3-a2c4-09e22cd012a8",
    "tags": []
   },
   "outputs": [],
   "source": [
    "lista = []\n",
    "for x in range(202301,202311):\n",
    "    #print ('https://divvy-tripdata.s3.amazonaws.com/' + str(x) + '-divvy-tripdata.zip')\n",
    "    lista.append('https://divvy-tripdata.s3.amazonaws.com/' + str(x) + '-divvy-tripdata.zip')"
   ]
  },
  {
   "cell_type": "markdown",
   "id": "411e1045",
   "metadata": {
    "canvas": {
     "comments": [],
     "componentType": "CodeCell",
     "copiedOriginId": null,
     "diskcache": false,
     "headerColor": "transparent",
     "id": "2a8a180b-f072-454c-b73d-5a1006a4d7ea",
     "isComponent": false,
     "name": "",
     "parents": []
    }
   },
   "source": [
    "O download em si foi feito usando a urllib. Mas a urllib exige o nome que o arquivo vai ser salvo. Como a string para download envolvia o caminho todo, incluindo barras, fiz um split do nome, salvando a última parte para ser usada como nome do arquivo."
   ]
  },
  {
   "cell_type": "code",
   "execution_count": null,
   "id": "cb935ddf",
   "metadata": {
    "canvas": {
     "comments": [],
     "componentType": "CodeCell",
     "copiedOriginId": null,
     "diskcache": false,
     "headerColor": "transparent",
     "id": "e84c6b89-ad21-45d7-878b-516bd4a4e363",
     "isComponent": false,
     "name": "",
     "parents": []
    },
    "id": "75a26de0-c363-4087-8f06-9f952cf6dbda",
    "outputId": "50a5bf37-0c8b-45e5-aece-3b1e2b51bf4c"
   },
   "outputs": [
    {
     "name": "stdout",
     "output_type": "stream",
     "text": [
      "Successfully downloaded 202301-divvy-tripdata.zip\n",
      "Successfully downloaded 202302-divvy-tripdata.zip\n",
      "Successfully downloaded 202303-divvy-tripdata.zip\n",
      "Successfully downloaded 202304-divvy-tripdata.zip\n",
      "Successfully downloaded 202305-divvy-tripdata.zip\n",
      "Successfully downloaded 202306-divvy-tripdata.zip\n",
      "Successfully downloaded 202307-divvy-tripdata.zip\n",
      "Successfully downloaded 202308-divvy-tripdata.zip\n",
      "Successfully downloaded 202309-divvy-tripdata.zip\n",
      "Successfully downloaded 202310-divvy-tripdata.zip\n"
     ]
    }
   ],
   "source": [
    "for arquivo in lista:\n",
    "    try:\n",
    "        filename = arquivo.split('/', 3)[3] #divide pelas '/' e pega a última parte\n",
    "        urllib.request.urlretrieve(arquivo, filename)\n",
    "        print(f'Successfully downloaded {filename}')\n",
    "    except Exception as e:\n",
    "        print(f'Error downloading {filename}: {e}')"
   ]
  },
  {
   "cell_type": "markdown",
   "id": "24db998c",
   "metadata": {
    "canvas": {
     "comments": [],
     "componentType": "CodeCell",
     "copiedOriginId": "d5b5c214-e275-4385-bd52-32f3c0a7607a",
     "diskcache": false,
     "headerColor": "transparent",
     "id": "71136bb2-e1fd-455b-8a2d-945c6ba2b244",
     "isComponent": false,
     "name": "",
     "parents": []
    },
    "tags": []
   },
   "source": [
    "# dataframe"
   ]
  },
  {
   "cell_type": "markdown",
   "id": "efee9313",
   "metadata": {
    "canvas": {
     "comments": [],
     "componentType": "CodeCell",
     "copiedOriginId": null,
     "diskcache": false,
     "headerColor": "transparent",
     "id": "706a1924-bd04-4b3c-a2a8-fbff9113bf54",
     "isComponent": false,
     "name": "",
     "parents": []
    }
   },
   "source": [
    "o processo comum seria fazer um dataframe vazio, criar um dataframe para arquivo lido, e concatenar este dataframe com o dataframe vazio inicial. Porém, os arquivos baixados são zip, contendo arquivos csv. É possível passar arquivos zip diretamente para o Pandas, porém é preciso especificar qual arquivo compactado dentro do .zip que será usado. Para isso, fiz uma lista de arquivos zip, e para cada arquivo zip, uma sublista de arquivos .csv, criando um dataframe para o primeiro arquivo csv encontrado. Nesse caso, havia somente 1 arquivo em cada zip, mas a opção de pegar o primeiro da lista facilita o entendimento e pode incluir o caso de haver eventualmente mais de um arquivo dentro do .zip"
   ]
  },
  {
   "cell_type": "markdown",
   "id": "09b6a77f",
   "metadata": {
    "canvas": {
     "comments": [],
     "componentType": "CodeCell",
     "copiedOriginId": null,
     "diskcache": false,
     "headerColor": "transparent",
     "id": "c9824a18-e9f0-41bc-b44b-1b8f5c669b88",
     "isComponent": false,
     "name": "",
     "parents": []
    }
   },
   "source": [
    "demais parâmetros: para o dataframe, usei o parse_dates para as colunas de data"
   ]
  },
  {
   "cell_type": "markdown",
   "id": "e2a34d16",
   "metadata": {
    "canvas": {
     "comments": [],
     "componentType": "CodeCell",
     "copiedOriginId": null,
     "diskcache": false,
     "headerColor": "transparent",
     "id": "614e4c36-7106-42e6-9c92-e38de03e406f",
     "isComponent": false,
     "name": "",
     "parents": []
    },
    "tags": []
   },
   "source": [
    "## lista de arquivos"
   ]
  },
  {
   "cell_type": "code",
   "execution_count": 3,
   "id": "63e93ebc",
   "metadata": {
    "canvas": {
     "comments": [],
     "componentType": "CodeCell",
     "copiedOriginId": null,
     "diskcache": false,
     "headerColor": "transparent",
     "id": "52b89bb0-db3b-4ab9-bf89-f0400692d3c5",
     "isComponent": false,
     "name": "",
     "parents": []
    },
    "id": "52921fec-5c48-4893-b914-0aae06985b08",
    "tags": []
   },
   "outputs": [],
   "source": [
    "path = Path()"
   ]
  },
  {
   "cell_type": "code",
   "execution_count": 4,
   "id": "8ee552c6",
   "metadata": {
    "canvas": {
     "comments": [],
     "componentType": "CodeCell",
     "copiedOriginId": null,
     "diskcache": false,
     "headerColor": "transparent",
     "id": "ac3d769f-dea8-4ea1-bc32-034ff3840462",
     "isComponent": false,
     "name": "",
     "parents": []
    },
    "id": "61cad602-ab31-4670-85e0-000e6806e15f",
    "tags": []
   },
   "outputs": [],
   "source": [
    "full_path = path.cwd()"
   ]
  },
  {
   "cell_type": "code",
   "execution_count": 5,
   "id": "f5062bd7",
   "metadata": {
    "canvas": {
     "comments": [],
     "componentType": "CodeCell",
     "copiedOriginId": null,
     "diskcache": false,
     "headerColor": "transparent",
     "id": "c164597c-e493-410a-ba14-64e3fabc676d",
     "isComponent": false,
     "name": "",
     "parents": []
    },
    "id": "a968ae24-4220-47e0-8eb9-ba1b6099efa9",
    "tags": []
   },
   "outputs": [],
   "source": [
    "lista2 = list(full_path.glob('*.zip'))"
   ]
  },
  {
   "cell_type": "markdown",
   "id": "844da464",
   "metadata": {
    "canvas": {
     "comments": [],
     "componentType": "CodeCell",
     "copiedOriginId": null,
     "diskcache": false,
     "headerColor": "transparent",
     "id": "29eb2d16-cbea-447a-bc6c-ffd879751e21",
     "isComponent": false,
     "name": "",
     "parents": []
    },
    "tags": []
   },
   "source": [
    "## Iteração"
   ]
  },
  {
   "cell_type": "code",
   "execution_count": 6,
   "id": "81dce4f2",
   "metadata": {
    "canvas": {
     "comments": [],
     "componentType": "CodeCell",
     "copiedOriginId": null,
     "diskcache": false,
     "headerColor": "transparent",
     "id": "a3c79fbc-392a-4b2f-9ef6-fe123e6e3cc5",
     "isComponent": false,
     "name": "",
     "parents": []
    },
    "id": "9cd8ba23-4088-42e6-94cb-ce1e95e26183",
    "tags": []
   },
   "outputs": [],
   "source": [
    "# Initialize an empty DataFrame to store the combined data\n",
    "combined_df = pd.DataFrame()"
   ]
  },
  {
   "cell_type": "code",
   "execution_count": 7,
   "id": "1c40d1cd",
   "metadata": {
    "canvas": {
     "comments": [],
     "componentType": "CodeCell",
     "copiedOriginId": null,
     "diskcache": false,
     "headerColor": "transparent",
     "id": "068db9de-c19d-4f5b-8187-d31f9f32252a",
     "isComponent": false,
     "name": "",
     "parents": []
    },
    "id": "d4a1bf01-c92b-4772-899f-69f9d3ad8353",
    "outputId": "9f094849-71f1-4922-b1b8-ec1a9d65d401",
    "tags": []
   },
   "outputs": [
    {
     "name": "stdout",
     "output_type": "stream",
     "text": [
      "processando arquivo 202301-divvy-tripdata.csv\n",
      "processando arquivo 202302-divvy-tripdata.csv\n",
      "processando arquivo 202303-divvy-tripdata.csv\n",
      "processando arquivo 202304-divvy-tripdata.csv\n",
      "processando arquivo 202305-divvy-tripdata.csv\n",
      "processando arquivo 202306-divvy-tripdata.csv\n",
      "processando arquivo 202307-divvy-tripdata.csv\n",
      "processando arquivo 202308-divvy-tripdata.csv\n",
      "processando arquivo 202309-divvy-tripdata.csv\n",
      "processando arquivo 202310-divvy-tripdata.csv\n"
     ]
    }
   ],
   "source": [
    "# Iterate through the list of zip files\n",
    "for zip_file_path in lista2:\n",
    "    with zipfile.ZipFile(zip_file_path, 'r') as zip_file:\n",
    "        # List all files in the zip archive\n",
    "        zip_file_contents = zip_file.namelist()\n",
    "\n",
    "        # Assume you want to read a CSV file, modify as needed\n",
    "        csv_files = [file for file in zip_file_contents if file.endswith('.csv')]\n",
    "\n",
    "        # Check if there's at least one CSV file in the zip archive\n",
    "        if csv_files:\n",
    "            # Assuming you want to read the first CSV file, modify as needed\n",
    "            csv_file_name = csv_files[0]\n",
    "            print(f\"processando arquivo {csv_file_name}\")\n",
    "\n",
    "            # Read the CSV file from the zip file into a DataFrame\n",
    "            df = pd.read_csv(zip_file.open(csv_file_name), parse_dates=['started_at', 'ended_at'])\n",
    "\n",
    "            # Concatenate the DataFrame to the combined DataFrame\n",
    "            combined_df = pd.concat([combined_df, df], ignore_index=True)"
   ]
  },
  {
   "cell_type": "code",
   "execution_count": 146,
   "id": "d0bf3c16",
   "metadata": {
    "canvas": {
     "comments": [],
     "componentType": "CodeCell",
     "copiedOriginId": null,
     "diskcache": false,
     "headerColor": "transparent",
     "id": "d6e71d5f-58f8-4bc8-b7f6-8ea5fbb9d98d",
     "isComponent": false,
     "name": "",
     "parents": []
    },
    "id": "063c7e1c-7da8-4f94-a275-792ae5af694c",
    "outputId": "dda21298-2506-49cc-d904-62f7852d8704",
    "tags": []
   },
   "outputs": [
    {
     "data": {
      "text/html": [
       "<div>\n",
       "<style scoped>\n",
       "    .dataframe tbody tr th:only-of-type {\n",
       "        vertical-align: middle;\n",
       "    }\n",
       "\n",
       "    .dataframe tbody tr th {\n",
       "        vertical-align: top;\n",
       "    }\n",
       "\n",
       "    .dataframe thead th {\n",
       "        text-align: right;\n",
       "    }\n",
       "</style>\n",
       "<table border=\"1\" class=\"dataframe\">\n",
       "  <thead>\n",
       "    <tr style=\"text-align: right;\">\n",
       "      <th></th>\n",
       "      <th>ride_id</th>\n",
       "      <th>rideable_type</th>\n",
       "      <th>started_at</th>\n",
       "      <th>ended_at</th>\n",
       "      <th>start_station_name</th>\n",
       "      <th>start_station_id</th>\n",
       "      <th>end_station_name</th>\n",
       "      <th>end_station_id</th>\n",
       "      <th>start_lat</th>\n",
       "      <th>start_lng</th>\n",
       "      <th>end_lat</th>\n",
       "      <th>end_lng</th>\n",
       "      <th>member_casual</th>\n",
       "      <th>travel_duration</th>\n",
       "      <th>dia_semana</th>\n",
       "    </tr>\n",
       "  </thead>\n",
       "  <tbody>\n",
       "    <tr>\n",
       "      <th>0</th>\n",
       "      <td>F96D5A74A3E41399</td>\n",
       "      <td>electric_bike</td>\n",
       "      <td>2023-01-21 20:05:42</td>\n",
       "      <td>2023-01-21 20:16:33</td>\n",
       "      <td>Lincoln Ave &amp; Fullerton Ave</td>\n",
       "      <td>TA1309000058</td>\n",
       "      <td>Hampden Ct &amp; Diversey Ave</td>\n",
       "      <td>202480.0</td>\n",
       "      <td>41.924074</td>\n",
       "      <td>-87.646278</td>\n",
       "      <td>41.930000</td>\n",
       "      <td>-87.640000</td>\n",
       "      <td>member</td>\n",
       "      <td>651.0</td>\n",
       "      <td>Sábado</td>\n",
       "    </tr>\n",
       "    <tr>\n",
       "      <th>1</th>\n",
       "      <td>13CB7EB698CEDB88</td>\n",
       "      <td>classic_bike</td>\n",
       "      <td>2023-01-10 15:37:36</td>\n",
       "      <td>2023-01-10 15:46:05</td>\n",
       "      <td>Kimbark Ave &amp; 53rd St</td>\n",
       "      <td>TA1309000037</td>\n",
       "      <td>Greenwood Ave &amp; 47th St</td>\n",
       "      <td>TA1308000002</td>\n",
       "      <td>41.799568</td>\n",
       "      <td>-87.594747</td>\n",
       "      <td>41.809835</td>\n",
       "      <td>-87.599383</td>\n",
       "      <td>member</td>\n",
       "      <td>509.0</td>\n",
       "      <td>Terça-feira</td>\n",
       "    </tr>\n",
       "    <tr>\n",
       "      <th>2</th>\n",
       "      <td>BD88A2E670661CE5</td>\n",
       "      <td>electric_bike</td>\n",
       "      <td>2023-01-02 07:51:57</td>\n",
       "      <td>2023-01-02 08:05:11</td>\n",
       "      <td>Western Ave &amp; Lunt Ave</td>\n",
       "      <td>RP-005</td>\n",
       "      <td>Valli Produce - Evanston Plaza</td>\n",
       "      <td>599</td>\n",
       "      <td>42.008571</td>\n",
       "      <td>-87.690483</td>\n",
       "      <td>42.039742</td>\n",
       "      <td>-87.699413</td>\n",
       "      <td>casual</td>\n",
       "      <td>794.0</td>\n",
       "      <td>Segunda-feira</td>\n",
       "    </tr>\n",
       "    <tr>\n",
       "      <th>3</th>\n",
       "      <td>C90792D034FED968</td>\n",
       "      <td>classic_bike</td>\n",
       "      <td>2023-01-22 10:52:58</td>\n",
       "      <td>2023-01-22 11:01:44</td>\n",
       "      <td>Kimbark Ave &amp; 53rd St</td>\n",
       "      <td>TA1309000037</td>\n",
       "      <td>Greenwood Ave &amp; 47th St</td>\n",
       "      <td>TA1308000002</td>\n",
       "      <td>41.799568</td>\n",
       "      <td>-87.594747</td>\n",
       "      <td>41.809835</td>\n",
       "      <td>-87.599383</td>\n",
       "      <td>member</td>\n",
       "      <td>526.0</td>\n",
       "      <td>Domingo</td>\n",
       "    </tr>\n",
       "    <tr>\n",
       "      <th>4</th>\n",
       "      <td>3397017529188E8A</td>\n",
       "      <td>classic_bike</td>\n",
       "      <td>2023-01-12 13:58:01</td>\n",
       "      <td>2023-01-12 14:13:20</td>\n",
       "      <td>Kimbark Ave &amp; 53rd St</td>\n",
       "      <td>TA1309000037</td>\n",
       "      <td>Greenwood Ave &amp; 47th St</td>\n",
       "      <td>TA1308000002</td>\n",
       "      <td>41.799568</td>\n",
       "      <td>-87.594747</td>\n",
       "      <td>41.809835</td>\n",
       "      <td>-87.599383</td>\n",
       "      <td>member</td>\n",
       "      <td>919.0</td>\n",
       "      <td>Quinta-feira</td>\n",
       "    </tr>\n",
       "  </tbody>\n",
       "</table>\n",
       "</div>"
      ],
      "text/plain": [
       "            ride_id  rideable_type          started_at            ended_at  \\\n",
       "0  F96D5A74A3E41399  electric_bike 2023-01-21 20:05:42 2023-01-21 20:16:33   \n",
       "1  13CB7EB698CEDB88   classic_bike 2023-01-10 15:37:36 2023-01-10 15:46:05   \n",
       "2  BD88A2E670661CE5  electric_bike 2023-01-02 07:51:57 2023-01-02 08:05:11   \n",
       "3  C90792D034FED968   classic_bike 2023-01-22 10:52:58 2023-01-22 11:01:44   \n",
       "4  3397017529188E8A   classic_bike 2023-01-12 13:58:01 2023-01-12 14:13:20   \n",
       "\n",
       "            start_station_name start_station_id  \\\n",
       "0  Lincoln Ave & Fullerton Ave     TA1309000058   \n",
       "1        Kimbark Ave & 53rd St     TA1309000037   \n",
       "2       Western Ave & Lunt Ave           RP-005   \n",
       "3        Kimbark Ave & 53rd St     TA1309000037   \n",
       "4        Kimbark Ave & 53rd St     TA1309000037   \n",
       "\n",
       "                 end_station_name end_station_id  start_lat  start_lng  \\\n",
       "0       Hampden Ct & Diversey Ave       202480.0  41.924074 -87.646278   \n",
       "1         Greenwood Ave & 47th St   TA1308000002  41.799568 -87.594747   \n",
       "2  Valli Produce - Evanston Plaza            599  42.008571 -87.690483   \n",
       "3         Greenwood Ave & 47th St   TA1308000002  41.799568 -87.594747   \n",
       "4         Greenwood Ave & 47th St   TA1308000002  41.799568 -87.594747   \n",
       "\n",
       "     end_lat    end_lng member_casual  travel_duration     dia_semana  \n",
       "0  41.930000 -87.640000        member            651.0         Sábado  \n",
       "1  41.809835 -87.599383        member            509.0    Terça-feira  \n",
       "2  42.039742 -87.699413        casual            794.0  Segunda-feira  \n",
       "3  41.809835 -87.599383        member            526.0        Domingo  \n",
       "4  41.809835 -87.599383        member            919.0   Quinta-feira  "
      ]
     },
     "execution_count": 146,
     "metadata": {},
     "output_type": "execute_result"
    }
   ],
   "source": [
    "combined_df.head()"
   ]
  },
  {
   "cell_type": "code",
   "execution_count": 60,
   "id": "e529a29e-b6dd-41a3-93cf-1a8cf1e0cab8",
   "metadata": {
    "tags": []
   },
   "outputs": [],
   "source": [
    "#teste: salvar um unico csv pra agilizar a retomada\n",
    "#combined_df.to_csv('teste.csv')\n",
    "#usar o arquivo unico\n",
    "combined_df2 = pd.read_csv('teste.csv', parse_dates=['started_at', 'ended_at'], usecols=list(range(1, 14)))"
   ]
  },
  {
   "cell_type": "code",
   "execution_count": 61,
   "id": "e53da402-efbf-44c9-9d70-fbd023d5dd33",
   "metadata": {
    "tags": []
   },
   "outputs": [
    {
     "data": {
      "text/plain": [
       "13"
      ]
     },
     "execution_count": 61,
     "metadata": {},
     "output_type": "execute_result"
    }
   ],
   "source": [
    "len(combined_df2.columns)"
   ]
  },
  {
   "cell_type": "code",
   "execution_count": 62,
   "id": "34adc099-6925-4644-844b-41b6627bc029",
   "metadata": {
    "tags": []
   },
   "outputs": [
    {
     "data": {
      "text/plain": [
       "ride_id                       object\n",
       "rideable_type                 object\n",
       "started_at            datetime64[ns]\n",
       "ended_at              datetime64[ns]\n",
       "start_station_name            object\n",
       "start_station_id              object\n",
       "end_station_name              object\n",
       "end_station_id                object\n",
       "start_lat                    float64\n",
       "start_lng                    float64\n",
       "end_lat                      float64\n",
       "end_lng                      float64\n",
       "member_casual                 object\n",
       "dtype: object"
      ]
     },
     "execution_count": 62,
     "metadata": {},
     "output_type": "execute_result"
    }
   ],
   "source": [
    "combined_df2.dtypes"
   ]
  },
  {
   "cell_type": "code",
   "execution_count": 67,
   "id": "24d7e037-4b61-4c36-b88f-ec69842bb990",
   "metadata": {
    "tags": []
   },
   "outputs": [],
   "source": [
    "combined_df2 = combined_df"
   ]
  },
  {
   "cell_type": "markdown",
   "id": "23b7d2cd",
   "metadata": {
    "canvas": {
     "comments": [],
     "componentType": "CodeCell",
     "copiedOriginId": null,
     "diskcache": false,
     "headerColor": "transparent",
     "id": "662b9877-3f94-4572-a204-9254abd2b1f4",
     "isComponent": false,
     "name": "",
     "parents": []
    },
    "tags": []
   },
   "source": [
    "# analises"
   ]
  },
  {
   "cell_type": "markdown",
   "id": "b3730382",
   "metadata": {
    "canvas": {
     "comments": [],
     "componentType": "CodeCell",
     "copiedOriginId": null,
     "diskcache": false,
     "headerColor": "transparent",
     "id": "ff9869c6-f159-4d34-87d2-28d7e8fb801b",
     "isComponent": false,
     "name": "",
     "parents": []
    },
    "tags": []
   },
   "source": [
    "## analises previas"
   ]
  },
  {
   "cell_type": "markdown",
   "id": "555c0ab9",
   "metadata": {
    "canvas": {
     "comments": [],
     "componentType": "CodeCell",
     "copiedOriginId": "d7b8d879-cf19-403c-a226-dcf52d8f0bf9",
     "diskcache": false,
     "headerColor": "transparent",
     "id": "846bef1c-61c4-4a94-b533-ffb5f29485c8",
     "isComponent": false,
     "name": "",
     "parents": []
    }
   },
   "source": [
    "<details> \n",
    "    <summary>Detalhes desta etapa</summary>\n",
    "    teste de detalhes </details>"
   ]
  },
  {
   "cell_type": "code",
   "execution_count": 68,
   "id": "fa4e356c",
   "metadata": {
    "canvas": {
     "comments": [],
     "componentType": "CodeCell",
     "copiedOriginId": null,
     "diskcache": false,
     "headerColor": "transparent",
     "id": "92700d33-32b2-4dea-a55e-4226ee39105a",
     "isComponent": false,
     "name": "",
     "parents": []
    },
    "id": "4ec1f6c9-7501-4de4-ba65-eefe2075c70f",
    "tags": []
   },
   "outputs": [],
   "source": [
    "#Calcular a duração da viagem\n",
    "#Para evitar decimais, fiz a conta em segundos. Os segundos são calculados com a função .dt.total_seconds\n",
    "combined_df[\"travel_duration\"] = (combined_df[\"ended_at\"] - combined_df[\"started_at\"]).dt.total_seconds()"
   ]
  },
  {
   "cell_type": "markdown",
   "id": "4f950e56",
   "metadata": {
    "canvas": {
     "comments": [],
     "componentType": "CodeCell",
     "copiedOriginId": null,
     "diskcache": false,
     "headerColor": "transparent",
     "id": "62af7db0-4299-444f-9a33-e26300ec4e8a",
     "isComponent": false,
     "name": "",
     "parents": []
    }
   },
   "source": [
    "Como a função dt.day_name retorna os nomes dos dias em inglês, tive que fazer um dicionário convertendo os nomes para português.\n",
    "Após, usei a função map junto com a dt.day_name para criar uma coluna 'dia_semana' no dataframe"
   ]
  },
  {
   "cell_type": "code",
   "execution_count": 69,
   "id": "d5e0f3ed",
   "metadata": {
    "canvas": {
     "comments": [],
     "componentType": "CodeCell",
     "copiedOriginId": null,
     "diskcache": false,
     "headerColor": "transparent",
     "id": "02ebafff-0f6a-40bc-bc6b-68d928f622f2",
     "isComponent": false,
     "name": "",
     "parents": []
    },
    "id": "84ca93c8-1293-4762-81e5-9627cbe5cd6e",
    "tags": []
   },
   "outputs": [],
   "source": [
    "#tradução dos nomes dos dias da semana\n",
    "day_name_translation = {\n",
    "    'Monday': 'Segunda-feira',\n",
    "    'Tuesday': 'Terça-feira',\n",
    "    'Wednesday': 'Quarta-feira',\n",
    "    'Thursday': 'Quinta-feira',\n",
    "    'Friday': 'Sexta-feira',\n",
    "    'Saturday': 'Sábado',\n",
    "    'Sunday': 'Domingo'\n",
    "}\n",
    "#aplicar a tradução\n",
    "combined_df[\"dia_semana\"] = combined_df[\"started_at\"].dt.day_name().map(day_name_translation)"
   ]
  },
  {
   "cell_type": "markdown",
   "id": "326f05cb",
   "metadata": {
    "canvas": {
     "comments": [],
     "componentType": "CodeCell",
     "copiedOriginId": null,
     "diskcache": false,
     "headerColor": "transparent",
     "id": "1522e82c-e49e-4404-b139-521d8713f4fc",
     "isComponent": false,
     "name": "",
     "parents": []
    },
    "id": "c2cad91d-3a1e-4831-922d-eb47476831e3",
    "tags": []
   },
   "source": [
    "## Limpeza dos dados"
   ]
  },
  {
   "cell_type": "markdown",
   "id": "8ea865cc",
   "metadata": {
    "canvas": {
     "comments": [],
     "componentType": "CodeCell",
     "copiedOriginId": null,
     "diskcache": false,
     "headerColor": "transparent",
     "id": "5615ac59-90cb-4dcf-9c44-4d43e28a777c",
     "isComponent": false,
     "name": "",
     "parents": []
    }
   },
   "source": [
    "usando as funções describe, info, isnull.sum e count, é possível verificar dados gerais das colunas e se tem valores vazios."
   ]
  },
  {
   "cell_type": "code",
   "execution_count": null,
   "id": "398fa357",
   "metadata": {
    "canvas": {
     "comments": [],
     "componentType": "CodeCell",
     "copiedOriginId": null,
     "diskcache": false,
     "headerColor": "transparent",
     "id": "3d74b793-9129-42f7-8947-5861e992d2e2",
     "isComponent": false,
     "name": "",
     "parents": []
    },
    "id": "f30bece6-ddb5-469a-98ef-c66174b6d1d8"
   },
   "outputs": [],
   "source": [
    "# combined_df.describe() #medidas de estatística descritiva\n",
    "# combined_df.info() #descreve o tipo de dados em cada coluna\n",
    "# combined_df.isnull().sum()\n",
    "# combined_df.count() #conta os valores não vazios, assim dá pra ver onde tá faltando dado, mas dá mais trabalho"
   ]
  },
  {
   "cell_type": "code",
   "execution_count": 100,
   "id": "12129ce2-3637-4dc1-9952-ae1ce287c701",
   "metadata": {
    "tags": []
   },
   "outputs": [
    {
     "name": "stdout",
     "output_type": "stream",
     "text": [
      "Colunas com valores vazios:\n",
      "start_station_name, Value: 785003\n",
      "start_station_id, Value: 785135\n",
      "end_station_name, Value: 833379\n",
      "end_station_id, Value: 833520\n",
      "end_lat, Value: 6401\n",
      "end_lng, Value: 6401\n"
     ]
    }
   ],
   "source": [
    "#conta os vazios e mostra as colunas que tem vazios\n",
    "x = combined_df.isnull().sum()\n",
    "# Iterando sobre as chaves e valores\n",
    "print('Colunas com valores vazios:')\n",
    "for key, value in x.items():\n",
    "    if value > 0:\n",
    "        print(f'{key}, Value: {value}')"
   ]
  },
  {
   "cell_type": "code",
   "execution_count": null,
   "id": "7446c58a-e710-4b40-a02e-cdf648c81b65",
   "metadata": {
    "tags": []
   },
   "outputs": [],
   "source": [
    "#outra opção (mais completa)\n",
    "# # Conta os vazios e mostra as colunas que têm valores vazios\n",
    "# #x = combined_df.isnull().sum()\n",
    "\n",
    "# # Verifica se há valores vazios e imprime as colunas correspondentes\n",
    "# colunas_com_vazios = [(key, value) for key, value in x.items() if value > 0]\n",
    "\n",
    "# # Mensagem inicial\n",
    "# if colunas_com_vazios:\n",
    "#     print('Colunas com valores vazios:')\n",
    "#     for key, value in colunas_com_vazios:\n",
    "#         print(f'{key}, Value: {value}')\n",
    "# else:\n",
    "#     print('Não há valores vazios nas colunas.')"
   ]
  },
  {
   "cell_type": "markdown",
   "id": "42057ae1",
   "metadata": {
    "canvas": {
     "comments": [],
     "componentType": "CodeCell",
     "copiedOriginId": null,
     "diskcache": false,
     "headerColor": "transparent",
     "id": "7e7b3212-69df-41f5-87ed-be99fee03d0d",
     "isComponent": false,
     "name": "",
     "parents": []
    },
    "tags": []
   },
   "source": [
    "## Corrigir ou descartar linhas?"
   ]
  },
  {
   "cell_type": "markdown",
   "id": "b2bb6d7d",
   "metadata": {
    "canvas": {
     "comments": [],
     "componentType": "CodeCell",
     "copiedOriginId": null,
     "diskcache": false,
     "headerColor": "transparent",
     "id": "8f04abb7-1e5d-49e1-975f-c18451fbd686",
     "isComponent": false,
     "name": "",
     "parents": []
    }
   },
   "source": [
    "Depois de verificar os tipos de valores ausentes, é possível decidir se a gente completa os dados vazios, ou se descarta as linhas.  \n",
    "Optei por descartar linhas, mas deu pra ver que a maioria dos valores vazios é possível de preencher, por inferência com base nas outras colunas"
   ]
  },
  {
   "cell_type": "code",
   "execution_count": 104,
   "id": "a16f7335",
   "metadata": {
    "canvas": {
     "comments": [],
     "componentType": "CodeCell",
     "copiedOriginId": null,
     "diskcache": false,
     "headerColor": "transparent",
     "id": "7a8dcd91-fb2e-48d1-b57e-5e3660968346",
     "isComponent": false,
     "name": "",
     "parents": []
    },
    "id": "aae178ae-1b5c-433f-b1d0-15f5ffd6225d",
    "tags": []
   },
   "outputs": [],
   "source": [
    "#Para viagens sem o nome da estação de inicio:\n",
    "null_df = combined_df[combined_df['start_station_name'].isna()]\n",
    "null_df = null_df.sort_values(by='start_station_name')\n",
    "short_null_df = null_df.head(5)\n",
    "#CONCLUSÃO: não tem o id nem o nome da estação de inicio, mas tem as coordenadas de inicio"
   ]
  },
  {
   "cell_type": "markdown",
   "id": "f3e9eba4-013b-45ca-9399-af5e3e75c93a",
   "metadata": {
    "tags": []
   },
   "source": [
    "### estudo das coordenadas"
   ]
  },
  {
   "cell_type": "code",
   "execution_count": 109,
   "id": "af248051-d80c-46fc-829a-2d5b47d1490e",
   "metadata": {
    "tags": []
   },
   "outputs": [],
   "source": [
    "null_df = combined_df[combined_df['start_station_name'].isna()].sort_values(by='start_station_name')\n",
    "#analisando pelo nome das estações de início, dá pra ver que a mesma estação tem dados de latitude diferentes"
   ]
  },
  {
   "cell_type": "code",
   "execution_count": null,
   "id": "4af8687e-03b5-42d5-a5ac-f76c7d170c46",
   "metadata": {
    "tags": []
   },
   "outputs": [],
   "source": [
    "#ordenando pela start_lat\n",
    "combined_df[ combined_df['start_station_name'] == 'Greenwood Ave & 47th St'        ].sort_values(by='start_lat')"
   ]
  },
  {
   "cell_type": "code",
   "execution_count": 118,
   "id": "17531e54-e320-4e19-b279-ab2e1e08aa01",
   "metadata": {
    "tags": []
   },
   "outputs": [
    {
     "data": {
      "text/plain": [
       "840"
      ]
     },
     "execution_count": 118,
     "metadata": {},
     "output_type": "execute_result"
    }
   ],
   "source": [
    "#contando quantos números diferentes tem em start_lat\n",
    "combined_df[ combined_df['start_station_name'] == 'Greenwood Ave & 47th St'        ]['start_lat'].nunique()"
   ]
  },
  {
   "cell_type": "code",
   "execution_count": 121,
   "id": "88fbe1e4-d4bb-4b47-8b18-7bd0dcd83a62",
   "metadata": {
    "tags": []
   },
   "outputs": [
    {
     "data": {
      "text/plain": [
       "65         41.809835\n",
       "66         41.809835\n",
       "69         41.809835\n",
       "70         41.809747\n",
       "2391       41.809835\n",
       "             ...    \n",
       "4982757    41.809835\n",
       "4983045    41.809822\n",
       "5014680    41.809835\n",
       "5015075    41.809808\n",
       "5015185    41.809835\n",
       "Name: start_lat, Length: 2376, dtype: float64"
      ]
     },
     "execution_count": 121,
     "metadata": {},
     "output_type": "execute_result"
    }
   ],
   "source": [
    "#pegando uma estação de exemplo, para ver as diferenças de latitude\n",
    "combined_df[ combined_df['start_station_name'] == 'Greenwood Ave & 47th St'        ]['start_lat']"
   ]
  },
  {
   "cell_type": "code",
   "execution_count": null,
   "id": "cdb307c9-44c5-40da-b84f-50af15c10a21",
   "metadata": {
    "tags": []
   },
   "outputs": [],
   "source": [
    "#exibindo todos os 840 valores de 'start_lat' para a estação de exemplo\n",
    "# Filtrando as linhas específicas\n",
    "filtered_df = combined_df[combined_df['start_station_name'] == 'Greenwood Ave & 47th St']\n",
    "# Exibindo os valores únicos em 'start_lat'\n",
    "unique_start_lat_values = filtered_df['start_lat'].unique()\n",
    "\n",
    "# Exibindo o número de valores únicos e os próprios valores\n",
    "print(f'Número de valores únicos em start_lat: {len(unique_start_lat_values)}')\n",
    "print('Valores únicos em start_lat:')\n",
    "print(unique_start_lat_values)\n"
   ]
  },
  {
   "cell_type": "code",
   "execution_count": 143,
   "id": "c505689a-e93e-4bf7-9839-6eaab22c13d0",
   "metadata": {
    "tags": []
   },
   "outputs": [
    {
     "name": "stdout",
     "output_type": "stream",
     "text": [
      "Diferença entre o menor e o maior valor em start_lat: 0.0006704330000033565\n"
     ]
    }
   ],
   "source": [
    "#como o resultado de 'unique' é um ndarray, dá pra calcular a diferença entre extremos\n",
    "# Filtrando as linhas específicas\n",
    "filtered_df = combined_df[combined_df['start_station_name'] == 'Greenwood Ave & 47th St']\n",
    "\n",
    "# Obtendo os valores únicos em 'start_lat'\n",
    "unique_start_lat_values = filtered_df['start_lat'].unique()\n",
    "\n",
    "# Calculando a diferença entre o menor e o maior valor usando np.ptp()\n",
    "diferenca_entre_extremos = np.ptp(unique_start_lat_values)\n",
    "\n",
    "# Exibindo a diferença\n",
    "print(f'Diferença entre o menor e o maior valor em start_lat: {diferenca_entre_extremos}')\n",
    "\n",
    "#ou com min(unique_start_lat_values) e max(unique_start_lat_values) também daria"
   ]
  },
  {
   "cell_type": "markdown",
   "id": "1eda7689-3f72-4395-84c6-588559649c5a",
   "metadata": {},
   "source": [
    "Essa é a diferença entre os extremos dos dados de latitude da estação de início pegada como exemplo.  \n",
    "Mas quantos metros isso representa? É significativo para nossa análise?  "
   ]
  },
  {
   "cell_type": "code",
   "execution_count": 144,
   "id": "9c6433df-f9c8-4c7a-9ad5-2f0dc5473869",
   "metadata": {
    "tags": []
   },
   "outputs": [
    {
     "name": "stdout",
     "output_type": "stream",
     "text": [
      "Distância aproximada em metros: 74.63 metros\n"
     ]
    }
   ],
   "source": [
    "#calculando a diferença aproximada, em metros\n",
    "# Filtrando as linhas específicas\n",
    "filtered_df = combined_df[combined_df['start_station_name'] == 'Greenwood Ave & 47th St']\n",
    "\n",
    "# Obtendo os valores únicos em 'start_lat'\n",
    "unique_start_lat_values = filtered_df['start_lat'].unique()\n",
    "\n",
    "# Calculando a diferença entre o menor e o maior valor em latitude\n",
    "diferenca_latitude = max(unique_start_lat_values) - min(unique_start_lat_values)\n",
    "\n",
    "# Constante de conversão (aproximadamente 111.320 metros por grau)\n",
    "constante_conversao = 111320\n",
    "\n",
    "# Calculando a distância em metros\n",
    "distancia_metros = diferenca_latitude * constante_conversao\n",
    "\n",
    "# Exibindo a distância\n",
    "print(f'Distância aproximada em metros: {distancia_metros:.2f} metros')\n"
   ]
  },
  {
   "cell_type": "markdown",
   "id": "c1095e3d-dc05-4de1-81aa-bcd379b57add",
   "metadata": {},
   "source": [
    "Ou seja, se eu excluir essas casas decimais, e deixar somente 3 casas decimais, não vou perder muita coisa.  \n",
    "Aliás, posso deixar o valor médio dos dados, com 3 casas decimais, e vai ficar bom."
   ]
  },
  {
   "cell_type": "code",
   "execution_count": null,
   "id": "0d0b608a-2756-4ae8-80ea-224a996c0076",
   "metadata": {
    "tags": []
   },
   "outputs": [],
   "source": [
    "#sugestão do ChatGPT para calcular o valor médio para cada estação. NÃO RODAR AINDA\n",
    "\n",
    "# # Supondo que 'combined_df' já está definido\n",
    "\n",
    "# # Calculando as médias de latitude e longitude por 'start_station_name'\n",
    "# coordenadas_medias = combined_df.groupby('start_station_name')[['start_lat', 'start_lng']].mean()\n",
    "\n",
    "# # Juntando as médias com o DataFrame original com base no 'start_station_name'\n",
    "# combined_df = pd.merge(combined_df, coordenadas_medias, on='start_station_name', suffixes=('', '_media'))\n",
    "\n",
    "# # Atualizando as colunas 'start_lat' e 'start_lon' com as médias calculadas\n",
    "# combined_df['start_lat'] = combined_df['start_lat_media']\n",
    "# combined_df['start_lng'] = combined_df['start_lng_media']\n",
    "\n",
    "# # Removendo colunas auxiliares\n",
    "# combined_df = combined_df.drop(['start_lat_media', 'start_lng_media'], axis=1)\n",
    "\n",
    "# # Exibindo o DataFrame corrigido\n",
    "# print(combined_df)\n",
    "\n",
    "# Neste exemplo, groupby('start_station_name')[['start_lat', 'start_lon']].mean() calcula as médias de latitude e longitude para cada estação. \n",
    "# Em seguida, o DataFrame original é mesclado (merge) com essas médias com base no 'start_station_name'. \n",
    "# As colunas 'start_lat' e 'start_lon' são atualizadas com as médias calculadas, e as colunas auxiliares ('start_lat_media' e 'start_lon_media') são removidas."
   ]
  },
  {
   "cell_type": "code",
   "execution_count": null,
   "id": "baac870d-8e68-4904-8438-8f3ff485d8ae",
   "metadata": {
    "tags": []
   },
   "outputs": [],
   "source": [
    "combined_df.groupby('start_station_name')[['start_lat', 'start_lng']].mean()"
   ]
  },
  {
   "cell_type": "markdown",
   "id": "21f54b3b-2eff-4fad-9e2b-cde4a561c76c",
   "metadata": {
    "jp-MarkdownHeadingCollapsed": true,
    "tags": []
   },
   "source": [
    "### prosseguindo..."
   ]
  },
  {
   "cell_type": "code",
   "execution_count": null,
   "id": "db143625",
   "metadata": {
    "canvas": {
     "comments": [],
     "componentType": "CodeCell",
     "copiedOriginId": null,
     "diskcache": false,
     "headerColor": "transparent",
     "id": "043cdda0-9d43-437b-b259-b5269c8aa5c9",
     "isComponent": false,
     "name": "",
     "parents": []
    },
    "id": "b581b654-6455-41b4-8b0c-567369410f72"
   },
   "outputs": [],
   "source": [
    "#Para viagens sem o id da estação de inicio:\n",
    "null_df = combined_df[combined_df['start_station_id'].isna()]\n",
    "null_df = null_df.sort_values(by='start_station_id')\n",
    "short_null_df = null_df.head(5)\n",
    "#CONCLUSÃO: não tem o id nem o nome da estação de inicio, mas tem as coordenadas de inicio"
   ]
  },
  {
   "cell_type": "code",
   "execution_count": null,
   "id": "a0dec63d",
   "metadata": {
    "canvas": {
     "comments": [],
     "componentType": "CodeCell",
     "copiedOriginId": null,
     "diskcache": false,
     "headerColor": "transparent",
     "id": "dd91ec0e-0be6-4e6a-86ec-498c818b5bb6",
     "isComponent": false,
     "name": "",
     "parents": []
    },
    "id": "9bc402ee-4e49-42ef-a239-b0f68d8dd252"
   },
   "outputs": [],
   "source": [
    "#Para viagens sem o nome da estação de fim:\n",
    "null_df = combined_df[combined_df['end_station_name'].isna()]\n",
    "null_df = null_df.sort_values(by='end_station_name')\n",
    "short_null_df = null_df.head(5)\n",
    "#CONCLUSÃO: não tem o id nem o nome da estação de fim, mas tem as coordenadas de fim"
   ]
  },
  {
   "cell_type": "code",
   "execution_count": null,
   "id": "f5496c0a",
   "metadata": {
    "canvas": {
     "comments": [],
     "componentType": "CodeCell",
     "copiedOriginId": null,
     "diskcache": false,
     "headerColor": "transparent",
     "id": "1461f972-bdeb-41b4-84b1-ca57065fade6",
     "isComponent": false,
     "name": "",
     "parents": []
    },
    "id": "4e493a72-d722-44ce-84f0-076a3848e501"
   },
   "outputs": [],
   "source": [
    "#Para viagens sem o id da estação de fim:\n",
    "null_df = combined_df[combined_df['end_station_id'].isna()]\n",
    "null_df = null_df.sort_values(by='end_station_id')\n",
    "short_null_df = null_df.head(5)\n",
    "#CONCLUSÃO: não tem o id nem o nome da estação de fim, mas tem as coordenadas de fim"
   ]
  },
  {
   "cell_type": "code",
   "execution_count": null,
   "id": "ab7e461e",
   "metadata": {
    "canvas": {
     "comments": [],
     "componentType": "CodeCell",
     "copiedOriginId": null,
     "diskcache": false,
     "headerColor": "transparent",
     "id": "16072181-06d6-4306-84ff-ee23b6fb55b4",
     "isComponent": false,
     "name": "",
     "parents": []
    },
    "id": "037bc3be-c604-4ca5-9b49-86bbc8941a0a"
   },
   "outputs": [],
   "source": [
    "#Para viagens sem as coordenadas da estação de fim:\n",
    "null_df = combined_df[combined_df['end_lat'].isna()]\n",
    "null_df = null_df.sort_values(by='end_lat')\n",
    "short_null_df = null_df.head(5)\n",
    "#CONCLUSÃO: essas ferrou, porque não tem mesmo nem o id nem o nome nem as coordenadas de fim.\n",
    "#Uai, mas elas tem 'ended_at'. Como que terminou e não salvou os dados da estação que foi entregue?"
   ]
  },
  {
   "cell_type": "raw",
   "id": "24c4dd4a",
   "metadata": {
    "canvas": {
     "comments": [],
     "componentType": "CodeCell",
     "copiedOriginId": null,
     "diskcache": false,
     "headerColor": "transparent",
     "id": "542a4ee6-9146-4f29-8af1-46fa7edec6f2",
     "isComponent": false,
     "name": "",
     "parents": []
    },
    "id": "a34e9edf-5c8b-4e26-b9ac-2836f671f438"
   },
   "source": [
    "#VOU DEIXAR ESSA TENTATIVA DE PREENCHER OS DADOS PRA DEPOIS"
   ]
  },
  {
   "cell_type": "markdown",
   "id": "2af6dd6b",
   "metadata": {
    "canvas": {
     "comments": [],
     "componentType": "CodeCell",
     "copiedOriginId": null,
     "diskcache": false,
     "headerColor": "transparent",
     "id": "45db8671-1f16-486a-8b5e-fee2e2cc560b",
     "isComponent": false,
     "name": "",
     "parents": []
    },
    "id": "6d208b78-a9b7-4a47-a76c-5e8881b0b4a0",
    "tags": []
   },
   "source": [
    "## Análise descritiva"
   ]
  },
  {
   "cell_type": "markdown",
   "id": "83f8c903",
   "metadata": {
    "canvas": {
     "comments": [],
     "componentType": "CodeCell",
     "copiedOriginId": null,
     "diskcache": false,
     "headerColor": "transparent",
     "id": "59e1ad33-d50c-4b7c-ae5d-1906c044cf57",
     "isComponent": false,
     "name": "",
     "parents": []
    },
    "id": "cd6e9caf-53d2-4bcc-80c4-92a51396c364"
   },
   "source": [
    "Sem separar por grupo"
   ]
  },
  {
   "cell_type": "markdown",
   "id": "bb47c1fa",
   "metadata": {
    "canvas": {
     "comments": [],
     "componentType": "CodeCell",
     "copiedOriginId": null,
     "diskcache": false,
     "headerColor": "transparent",
     "id": "ba89c160-298b-44a8-8d69-c72bd60e9000",
     "isComponent": false,
     "name": "",
     "parents": []
    }
   },
   "source": [
    "Agrupei os dados por dia da semana, e contando as ocorrências por dia da semana, ordenando os valores"
   ]
  },
  {
   "cell_type": "code",
   "execution_count": 11,
   "id": "8137274b",
   "metadata": {
    "canvas": {
     "comments": [],
     "componentType": "CodeCell",
     "copiedOriginId": null,
     "diskcache": false,
     "headerColor": "transparent",
     "id": "ebc20ad1-df51-4350-95e4-795668548b0c",
     "isComponent": false,
     "name": "",
     "parents": []
    },
    "id": "e352d4af-df77-47f9-9eca-f4af0aceba1f",
    "outputId": "785033b0-62ed-4527-ce3b-0e90a62c61f2"
   },
   "outputs": [
    {
     "data": {
      "text/plain": [
       "dia_semana\n",
       "Segunda-feira    654736\n",
       "Domingo          679509\n",
       "Quarta-feira     739191\n",
       "Terça-feira      744853\n",
       "Quinta-feira     755020\n",
       "Sexta-feira      758152\n",
       "Sábado           801825\n",
       "Name: dia_semana, dtype: int64"
      ]
     },
     "execution_count": 11,
     "metadata": {},
     "output_type": "execute_result"
    }
   ],
   "source": [
    "#Qual o dia que tem mais viagens?\n",
    "combined_df.groupby(by='dia_semana')['dia_semana'].count().sort_values()"
   ]
  },
  {
   "cell_type": "markdown",
   "id": "49c55969",
   "metadata": {
    "canvas": {
     "comments": [],
     "componentType": "CodeCell",
     "copiedOriginId": "e8e920cd-f19c-4e2b-9208-c74829da1a49",
     "diskcache": false,
     "headerColor": "transparent",
     "id": "0649a4d9-19b1-4ae8-bdf9-6ebb5d5d03f8",
     "isComponent": false,
     "name": "",
     "parents": []
    }
   },
   "source": [
    "A duração da viagem calculada anteriormente não pode ser negativa, ne. Então analisei os resultados verificando se ocorreu algum caso negativo."
   ]
  },
  {
   "cell_type": "code",
   "execution_count": 12,
   "id": "232a95a4",
   "metadata": {
    "canvas": {
     "comments": [],
     "componentType": "CodeCell",
     "copiedOriginId": null,
     "diskcache": false,
     "headerColor": "transparent",
     "id": "8b45a46a-1d47-475d-a05f-45d761717196",
     "isComponent": false,
     "name": "",
     "parents": []
    },
    "id": "1cd723a7-ebdb-44bb-80dc-c84479c69b01"
   },
   "outputs": [],
   "source": [
    "#Checando a coluna de duração da viagem. Não pode ter duração negativa, né\n",
    "null_df = combined_df.sort_values(by='travel_duration', ascending=True).head(10)\n",
    "null_df = combined_df[combined_df['travel_duration'] < 0]"
   ]
  },
  {
   "cell_type": "code",
   "execution_count": 13,
   "id": "58de3a54",
   "metadata": {
    "canvas": {
     "comments": [],
     "componentType": "CodeCell",
     "copiedOriginId": null,
     "diskcache": false,
     "headerColor": "transparent",
     "id": "20b1402e-22dd-477e-867a-04023953704c",
     "isComponent": false,
     "name": "",
     "parents": []
    },
    "id": "83444b42-c31a-497f-b6b3-05feebe833fa"
   },
   "outputs": [],
   "source": [
    "null_df = combined_df.describe() #salvar em um df pra ver todas as colunas\n",
    "#olhando o resultado, deu pra ver que tem linhas com lat ou long = 0."
   ]
  },
  {
   "cell_type": "code",
   "execution_count": 14,
   "id": "7d9c7c25",
   "metadata": {
    "canvas": {
     "comments": [],
     "componentType": "CodeCell",
     "copiedOriginId": null,
     "diskcache": false,
     "headerColor": "transparent",
     "id": "cfd8255f-db79-4bf6-8b1f-bc447ae509f3",
     "isComponent": false,
     "name": "",
     "parents": []
    },
    "id": "8b351375-9feb-45b3-9d21-0e72dc3fe52b"
   },
   "outputs": [],
   "source": [
    "#Fazendo uma lista de estações, não tem estação com lat long = 0\n",
    "df_stations = combined_df[['start_station_id', 'start_station_name', 'start_lat', \\\n",
    "  'start_lng']].drop_duplicates(subset=['start_station_id'])\n",
    "#Confirmando filtrando as linhas\n",
    "null_df = combined_df[combined_df['end_lat'] == 0]"
   ]
  },
  {
   "cell_type": "markdown",
   "id": "fe6e5194",
   "metadata": {
    "canvas": {
     "comments": [],
     "componentType": "CodeCell",
     "copiedOriginId": null,
     "diskcache": false,
     "headerColor": "transparent",
     "id": "722ea251-3e08-4071-8f93-6d0bb78dd992",
     "isComponent": false,
     "name": "",
     "parents": []
    },
    "id": "79f6b040-cd84-4a6a-abc0-2d161d7bf3e9"
   },
   "source": [
    "Mas precisa limpar os dados primeiro"
   ]
  },
  {
   "cell_type": "markdown",
   "id": "9b47eb9d",
   "metadata": {
    "canvas": {
     "comments": [],
     "componentType": "CodeCell",
     "copiedOriginId": null,
     "diskcache": false,
     "headerColor": "transparent",
     "id": "72898584-ef85-45e8-83e4-a1560b7eac5c",
     "isComponent": false,
     "name": "",
     "parents": []
    },
    "tags": []
   },
   "source": [
    "## limpeza efetiva dos dados"
   ]
  },
  {
   "cell_type": "code",
   "execution_count": 46,
   "id": "00b2c890",
   "metadata": {
    "canvas": {
     "comments": [],
     "componentType": "CodeCell",
     "copiedOriginId": null,
     "diskcache": false,
     "headerColor": "transparent",
     "id": "af3dc844-3b89-411e-913c-eea3e61f72a4",
     "isComponent": false,
     "name": "",
     "parents": []
    },
    "id": "d13ae081-aa16-46c1-87ae-0c01338ac28f",
    "tags": []
   },
   "outputs": [],
   "source": [
    "#LIMPEZA DOS DADOS:\n",
    "#Excluída qualquer linha com algum valor vazio\n",
    "rows_with_null = combined_df[combined_df.isnull().any(axis=1)] #busca por null ou NaN\n",
    "rows_with_nan = combined_df[combined_df.isna().any(axis=1)]  #busca por null ou NaN\n",
    "\n",
    "#mantém o oposto; linhas sem null ou NaN\n",
    "valid_rows = combined_df[~combined_df.isna().any(axis=1)]"
   ]
  },
  {
   "cell_type": "markdown",
   "id": "ac846f03-7d39-4fc2-8765-3dd911cd8b7a",
   "metadata": {
    "tags": []
   },
   "source": [
    "atualização em 20/01/24:  \n",
    "incluí na limpeza a orientação no site da empresa, de excluir dados com duração de viagem menor que 60 segundos ou maiores que 24 horas (86.400 segundos)  \n",
    "Divy bikes, em <https://divvybikes.com/system-data>  \n",
    "(na verdade as maiores que 24 horas foi orientação de um artigo no linkedin, mas tem sentido)"
   ]
  },
  {
   "cell_type": "code",
   "execution_count": 48,
   "id": "be254836-e74f-47b8-bef7-1f9b9ef6eb92",
   "metadata": {
    "tags": []
   },
   "outputs": [],
   "source": [
    "#valid_rows[(valid_rows['travel_duration'] > 60) & (valid_rows['travel_duration'] < 86400)].shape[0] #3.809.080 linhas\n",
    "#valid_rows[(valid_rows['travel_duration'] <= 60)].shape[0] #80.565 linhas\n",
    "#valid_rows[(valid_rows['travel_duration'] >= 86400)].shape[0] #121 linhas\n"
   ]
  },
  {
   "cell_type": "code",
   "execution_count": null,
   "id": "897c21be",
   "metadata": {
    "canvas": {
     "comments": [],
     "componentType": "CodeCell",
     "copiedOriginId": null,
     "diskcache": false,
     "headerColor": "transparent",
     "id": "008d0b70-16bb-403e-a0b9-7e967d1fdb9a",
     "isComponent": false,
     "name": "",
     "parents": []
    },
    "id": "a1cc47cc-966f-4076-963f-a55d640eb181",
    "tags": []
   },
   "outputs": [],
   "source": [
    "\n",
    "#Excluída linha com duração de viameqgem negativa ou nula (com zer#o)\n",
    "valid_rows.shape[0] #3.889.766 linhas (antes da limpez#a)\n",
    "valid_rows[valid_rows['travel_duration'] == 0].shape[0] #438 linhas com duração# 0\n",
    "valid_rows[valid_rows['travel_duration'] < 0].shape[0] #30 linhas com duração negati#va\n",
    "valid_rows[valid_rows['travel_duration'] > 0].shape[0] #3.889.766 - 438 - 30 = 3.889.298 linhas com duração válid#a\n",
    "\n",
    "valid_rows2 = valid_rows[valid_rows['travel_duration'] > 0]\n",
    "\n",
    "#Excluída linha com lat long igual a ze#ro\n",
    "valid_rows2.shape[0] #3.889.298 linh#as\n",
    "valid_rows2[valid_rows2['end_lat'] == 0] #3 linh#as\n",
    "valid_rows2[valid_rows2['end_lng'] == 0] #3 linh#as\n",
    "valid_rows2[valid_rows2['end_lat'] != 0].shape[0] #3.889.295 linhas validas\n",
    "#ou seja, posso excluir as com lat != 0 ou long != 0, vai excluir as mesmas 3 linhas, tanto f#az\n",
    "valid_rows3 = valid_rows2[valid_rows2['end_lat'] !=\n",
    "\"\"\""
   ]
  },
  {
   "cell_type": "code",
   "execution_count": 50,
   "id": "7c480cbd-b24f-40c0-9a04-d73a9d91fba5",
   "metadata": {
    "tags": []
   },
   "outputs": [],
   "source": [
    "#Excluída linha com duração de viagem menor que 60 segundos\n",
    "valid_rows.shape[0] #3.889.766 linhas (antes da limpeza)\n",
    "valid_rows[valid_rows['travel_duration'] <= 60].shape[0] #80.565 linhas com duração menor ou igual a  60 segundos\n",
    "valid_rows[valid_rows['travel_duration'] >= 86400].shape[0] #121 linhas com duração maior ou igual a 86400 segundos\n",
    "valid_rows[valid_rows['travel_duration'] > 0].shape[0] #3.889.766 - 80.565 - 121 = 3.809.080 linhas com duração válida\n",
    "\n",
    "valid_rows2 = valid_rows[valid_rows['travel_duration'] > 60]\n",
    "valid_rows2 = valid_rows2[valid_rows2['travel_duration'] < 86400]\n",
    "valid_rows2.shape[0] #3.809.080\n",
    "\n",
    "#Excluída linha com lat long igual a zero\n",
    "valid_rows2.shape[0] #3.809.080 linhas\n",
    "valid_rows2[valid_rows2['end_lat'] == 0] #2 linhas\n",
    "valid_rows2[valid_rows2['end_lng'] == 0] #2 linhas\n",
    "valid_rows2[valid_rows2['end_lat'] != 0].shape[0] #3.809.078 linhas validas\n",
    "#ou seja, posso excluir as com lat != 0 ou long != 0, vai excluir as mesmas 2 linhas, tanto faz\n",
    "valid_rows3 = valid_rows2[valid_rows2['end_lat'] != 0]"
   ]
  },
  {
   "cell_type": "code",
   "execution_count": 51,
   "id": "b2540341",
   "metadata": {
    "canvas": {
     "comments": [],
     "componentType": "CodeCell",
     "copiedOriginId": null,
     "diskcache": false,
     "headerColor": "transparent",
     "id": "66fb5034-e94d-4c25-a2bf-6a6b4102bcac",
     "isComponent": false,
     "name": "",
     "parents": []
    },
    "id": "15ad259c-7e0b-4ee8-afe3-aaffa389111a",
    "outputId": "b2ee2777-bdf0-448e-c5fe-df260d1e50fd",
    "tags": []
   },
   "outputs": [
    {
     "data": {
      "text/plain": [
       "member_casual\n",
       "casual    1397710\n",
       "member    2411368\n",
       "Name: member_casual, dtype: int64"
      ]
     },
     "execution_count": 51,
     "metadata": {},
     "output_type": "execute_result"
    }
   ],
   "source": [
    "#checar os valores da coluna member_casual\n",
    "valid_rows3.groupby(by='member_casual')['member_casual'].count() #ufa, tá certo"
   ]
  },
  {
   "cell_type": "code",
   "execution_count": 53,
   "id": "9b8be067-385a-4d6d-9f4d-8e774b406f19",
   "metadata": {
    "tags": []
   },
   "outputs": [
    {
     "data": {
      "text/plain": [
       "3809078"
      ]
     },
     "execution_count": 53,
     "metadata": {},
     "output_type": "execute_result"
    }
   ],
   "source": [
    "#conferência qtde de linhas após a limpeza\n",
    "valid_rows3.shape[0] #3.809.078 linhas"
   ]
  },
  {
   "cell_type": "markdown",
   "id": "6907a78e-f221-47ef-8b53-b79c2c62e885",
   "metadata": {
    "tags": []
   },
   "source": [
    "## estudando o tipo de bicicleta usada"
   ]
  },
  {
   "cell_type": "code",
   "execution_count": 58,
   "id": "e5760b90-58a4-4f34-93b7-010a9dc2e5ea",
   "metadata": {
    "tags": []
   },
   "outputs": [
    {
     "data": {
      "text/plain": [
       "rideable_type\n",
       "classic_bike     2373016\n",
       "docked_bike        75372\n",
       "electric_bike    1360690\n",
       "Name: rideable_type, dtype: int64"
      ]
     },
     "execution_count": 58,
     "metadata": {},
     "output_type": "execute_result"
    }
   ],
   "source": [
    "#estudando o tipo de bicicleta usada\n",
    "valid_rows3.groupby('rideable_type')['rideable_type'].count()\n",
    "#ou valid_rows3['rideable_type'].value_counts()"
   ]
  },
  {
   "cell_type": "code",
   "execution_count": 63,
   "id": "82dd360b-9894-4a63-af1f-15a57adfa74f",
   "metadata": {
    "tags": []
   },
   "outputs": [
    {
     "data": {
      "text/plain": [
       "3809078"
      ]
     },
     "execution_count": 63,
     "metadata": {},
     "output_type": "execute_result"
    }
   ],
   "source": [
    "total = valid_rows3['ride_id'].count()\n",
    "#ou valid_rows3['rideable_type'].value_counts().sum()"
   ]
  },
  {
   "cell_type": "code",
   "execution_count": 67,
   "id": "ee11b939-beff-451a-b889-11294994ad6d",
   "metadata": {
    "tags": []
   },
   "outputs": [
    {
     "name": "stdout",
     "output_type": "stream",
     "text": [
      "rideable_type\n",
      "classic_bike     62.30%\n",
      "electric_bike    35.72%\n",
      "docked_bike       1.98%\n",
      "Name: count, dtype: object\n"
     ]
    }
   ],
   "source": [
    "#expressando o resultado em % do total\n",
    "contagem_por_tipo = valid_rows3['rideable_type'].value_counts()\n",
    "porcentagem_do_total = (contagem_por_tipo / contagem_por_tipo.sum()) * 100\n",
    "porcentagem_do_total_formatada = porcentagem_do_total.map(\"{:.2f}%\".format)\n",
    "\n",
    "print(porcentagem_do_total_formatada)\n"
   ]
  },
  {
   "cell_type": "code",
   "execution_count": null,
   "id": "a053af48-f0a1-4596-a05e-496d04f002eb",
   "metadata": {},
   "outputs": [],
   "source": [
    "#o site não fala nada sobre as 'docked_bike'.\n",
    "#vi uma análise onde o autor diz que 'docked_bike' é o nome antigo para 'classic_bike' (<https://www.linkedin.com/pulse/data-analysis-visualizations-chicago-divvy-bikes-sharing-mazarei>), e\n",
    "#outra análise onde o autor diz que 'docked_bike' inclui as scooters (<https://medium.com/@aswinpushkar11/exploratory-data-analysis-of-divvy-bike-sharing-a5ce4498e723>).\n",
    "#aliás, um exemplo bonito de visualização está em <https://github.com/rizkilaks/DivvyBikes>\n",
    "#Então, eu tenho que tomar uma decisão\n"
   ]
  },
  {
   "cell_type": "code",
   "execution_count": 76,
   "id": "f68aac0f-8797-49e3-962a-a96fb64f5276",
   "metadata": {
    "tags": []
   },
   "outputs": [],
   "source": [
    "#valid_rows3[\"started_at\"].dt.year\n",
    "valid_rows3['Month'] = valid_rows3[\"started_at\"].dt.month_name()"
   ]
  },
  {
   "cell_type": "code",
   "execution_count": 82,
   "id": "cf06b24a-bab8-4cf5-b1db-2c97dcd2d801",
   "metadata": {
    "tags": []
   },
   "outputs": [
    {
     "data": {
      "text/plain": [
       "rideable_type  Month    \n",
       "classic_bike   April        166785\n",
       "               August       390191\n",
       "               February      88312\n",
       "               January       88849\n",
       "               July         355423\n",
       "               June         307685\n",
       "               March        105414\n",
       "               May          265106\n",
       "               October      263840\n",
       "               September    341411\n",
       "docked_bike    April          8574\n",
       "               August        15333\n",
       "               February       2127\n",
       "               January        1672\n",
       "               July          17663\n",
       "               June          14403\n",
       "               March          2919\n",
       "               May           12681\n",
       "electric_bike  April        139488\n",
       "               August       168836\n",
       "               February      55375\n",
       "               January       53906\n",
       "               July         189645\n",
       "               June         202517\n",
       "               March         86166\n",
       "               May          175052\n",
       "               October      133047\n",
       "               September    156658\n",
       "Name: rideable_type, dtype: int64"
      ]
     },
     "execution_count": 82,
     "metadata": {},
     "output_type": "execute_result"
    }
   ],
   "source": [
    "valid_rows3.groupby(['rideable_type', 'Month'])['rideable_type'].count()\n",
    "#de fato, não tem registro de uso das 'docked_bike' depois de Agosto. Como os dados vão até Outubro, é estranho não ter mais registro em Setembro e Outubro.\n",
    "#Então dá mesmo pra supor que, a partir de Setembro, esse nome 'docked_bike' deixou de ser usado"
   ]
  },
  {
   "cell_type": "code",
   "execution_count": 94,
   "id": "6ed3ff53-b2c7-407c-8029-c8bd983fab69",
   "metadata": {
    "tags": []
   },
   "outputs": [
    {
     "data": {
      "image/png": "[encoded data removed]",
      "text/plain": [
       "<Figure size 640x480 with 1 Axes>"
      ]
     },
     "metadata": {},
     "output_type": "display_data"
    }
   ],
   "source": [
    "#grafico por tipo de bike e por mês (tem que usar o unstack pra tirar o multinivel, deixando month como índice)\n",
    "df_contagem = valid_rows3.groupby(['rideable_type', 'Month'])['rideable_type'].count().unstack()\n",
    "\n",
    "# Plota o gráfico de barras empilhadas\n",
    "df_contagem.plot(kind='bar', stacked=True)\n",
    "\n",
    "# Adiciona rótulos e título\n",
    "plt.xlabel('Mês')\n",
    "plt.ylabel('Contagem')\n",
    "plt.title('Contagem de rideables por tipo e mês')\n",
    "\n",
    "# Exibe o gráfico\n",
    "plt.show()\n"
   ]
  },
  {
   "cell_type": "code",
   "execution_count": 91,
   "id": "512b9e58-fee2-4dd7-9e3b-8db4b5794554",
   "metadata": {
    "tags": []
   },
   "outputs": [
    {
     "data": {
      "text/html": [
       "<div>\n",
       "<style scoped>\n",
       "    .dataframe tbody tr th:only-of-type {\n",
       "        vertical-align: middle;\n",
       "    }\n",
       "\n",
       "    .dataframe tbody tr th {\n",
       "        vertical-align: top;\n",
       "    }\n",
       "\n",
       "    .dataframe thead th {\n",
       "        text-align: right;\n",
       "    }\n",
       "</style>\n",
       "<table border=\"1\" class=\"dataframe\">\n",
       "  <thead>\n",
       "    <tr style=\"text-align: right;\">\n",
       "      <th>Month</th>\n",
       "      <th>rideable_type</th>\n",
       "      <th>April</th>\n",
       "      <th>August</th>\n",
       "      <th>February</th>\n",
       "      <th>January</th>\n",
       "      <th>July</th>\n",
       "      <th>June</th>\n",
       "      <th>March</th>\n",
       "      <th>May</th>\n",
       "      <th>October</th>\n",
       "      <th>September</th>\n",
       "    </tr>\n",
       "  </thead>\n",
       "  <tbody>\n",
       "    <tr>\n",
       "      <th>0</th>\n",
       "      <td>classic_bike</td>\n",
       "      <td>166785.0</td>\n",
       "      <td>390191.0</td>\n",
       "      <td>88312.0</td>\n",
       "      <td>88849.0</td>\n",
       "      <td>355423.0</td>\n",
       "      <td>307685.0</td>\n",
       "      <td>105414.0</td>\n",
       "      <td>265106.0</td>\n",
       "      <td>263840.0</td>\n",
       "      <td>341411.0</td>\n",
       "    </tr>\n",
       "    <tr>\n",
       "      <th>1</th>\n",
       "      <td>docked_bike</td>\n",
       "      <td>8574.0</td>\n",
       "      <td>15333.0</td>\n",
       "      <td>2127.0</td>\n",
       "      <td>1672.0</td>\n",
       "      <td>17663.0</td>\n",
       "      <td>14403.0</td>\n",
       "      <td>2919.0</td>\n",
       "      <td>12681.0</td>\n",
       "      <td>NaN</td>\n",
       "      <td>NaN</td>\n",
       "    </tr>\n",
       "    <tr>\n",
       "      <th>2</th>\n",
       "      <td>electric_bike</td>\n",
       "      <td>139488.0</td>\n",
       "      <td>168836.0</td>\n",
       "      <td>55375.0</td>\n",
       "      <td>53906.0</td>\n",
       "      <td>189645.0</td>\n",
       "      <td>202517.0</td>\n",
       "      <td>86166.0</td>\n",
       "      <td>175052.0</td>\n",
       "      <td>133047.0</td>\n",
       "      <td>156658.0</td>\n",
       "    </tr>\n",
       "  </tbody>\n",
       "</table>\n",
       "</div>"
      ],
      "text/plain": [
       "Month  rideable_type     April    August  February  January      July  \\\n",
       "0       classic_bike  166785.0  390191.0   88312.0  88849.0  355423.0   \n",
       "1        docked_bike    8574.0   15333.0    2127.0   1672.0   17663.0   \n",
       "2      electric_bike  139488.0  168836.0   55375.0  53906.0  189645.0   \n",
       "\n",
       "Month      June     March       May   October  September  \n",
       "0      307685.0  105414.0  265106.0  263840.0   341411.0  \n",
       "1       14403.0    2919.0   12681.0       NaN        NaN  \n",
       "2      202517.0   86166.0  175052.0  133047.0   156658.0  "
      ]
     },
     "execution_count": 91,
     "metadata": {},
     "output_type": "execute_result"
    }
   ],
   "source": [
    "#tabela de dados (o certo deveria analisar como timeseries, para os meses ficarem em ordem)\n",
    "df_contagem\n",
    "#mas já dá pra ver que em Setembro já não tem mais o nome 'docked_bike'"
   ]
  },
  {
   "cell_type": "markdown",
   "id": "eb4c52f1-610d-435c-839f-845df2f13ea0",
   "metadata": {
    "tags": []
   },
   "source": [
    "Assim sendo, decidi renomear todas as 'docked_bike' por 'classic_bike'"
   ]
  },
  {
   "cell_type": "markdown",
   "id": "3ff2aac1",
   "metadata": {
    "canvas": {
     "comments": [],
     "componentType": "CodeCell",
     "copiedOriginId": null,
     "diskcache": false,
     "headerColor": "transparent",
     "id": "46652a7c-a514-403f-b8f2-789496009395",
     "isComponent": false,
     "name": "",
     "parents": []
    },
    "id": "a0ef2d76-568e-4e67-9a11-2f1140b1be5a"
   },
   "source": [
    "Agora sim Análise Descritiva dos dados válidos"
   ]
  },
  {
   "cell_type": "markdown",
   "id": "c2e72a0b-ea32-4713-9fcc-4e26acc147d5",
   "metadata": {},
   "source": [
    "## ajuste final dos dados"
   ]
  },
  {
   "cell_type": "code",
   "execution_count": null,
   "id": "b28d225f-6b1d-4c53-a779-83ff7293fc4a",
   "metadata": {},
   "outputs": [],
   "source": [
    "#renomear os tipos de bike\n",
    "#atualizar o valid_rows3\n",
    "#depois tenho que ver a questão das viagens sem nome de start, mas que daria pra preencher com base nas coordenadas"
   ]
  },
  {
   "cell_type": "markdown",
   "id": "338d7492",
   "metadata": {
    "canvas": {
     "comments": [],
     "componentType": "CodeCell",
     "copiedOriginId": null,
     "diskcache": false,
     "headerColor": "transparent",
     "id": "aeb9a133-aac4-48cc-a32e-5c50c38ee155",
     "isComponent": false,
     "name": "",
     "parents": []
    },
    "tags": []
   },
   "source": [
    "# análise Descritiva dos dados válidos"
   ]
  },
  {
   "cell_type": "markdown",
   "id": "e766621c",
   "metadata": {
    "canvas": {
     "comments": [],
     "componentType": "CodeCell",
     "copiedOriginId": null,
     "diskcache": false,
     "headerColor": "transparent",
     "id": "df89a288-93f3-4f00-998f-92dda5729dc9",
     "isComponent": false,
     "name": "",
     "parents": []
    },
    "tags": []
   },
   "source": [
    "## Analise inicial"
   ]
  },
  {
   "cell_type": "markdown",
   "id": "58d1c45f",
   "metadata": {
    "canvas": {
     "comments": [],
     "componentType": "CodeCell",
     "copiedOriginId": null,
     "diskcache": false,
     "headerColor": "transparent",
     "id": "bc4dd799-ad4e-4127-9d4b-9964b10c7cd3",
     "isComponent": false,
     "name": "",
     "parents": []
    }
   },
   "source": [
    "Como optei por excluir as linhas com algum valor vazio, procurei por valores null ou nan, e filtrei o dataframe mantendo somente os registros válidos"
   ]
  },
  {
   "cell_type": "markdown",
   "id": "57548ba3",
   "metadata": {
    "canvas": {
     "comments": [],
     "componentType": "CodeCell",
     "copiedOriginId": null,
     "diskcache": false,
     "headerColor": "transparent",
     "id": "e86bdb27-c3db-443f-8474-a02a87879f26",
     "isComponent": false,
     "name": "",
     "parents": []
    }
   },
   "source": [
    "* exclusão de outras linhas  \n",
    "Retirei também as linhas com duração de viagem menor que 60 segundos ou maior que 24 horas (86400 segundos)  \n",
    "Retirei também as linhas com coordenadas de latitude ou longitude igual a zero  \n",
    "Conferi também a coluna de member_casual, pra ver se só tinha mesmo membro ou casual  \n",
    "Renomeei as 'docked_bike' por 'classic_bike'"
   ]
  },
  {
   "cell_type": "code",
   "execution_count": null,
   "id": "a586cc12",
   "metadata": {
    "canvas": {
     "comments": [],
     "componentType": "CodeCell",
     "copiedOriginId": null,
     "diskcache": false,
     "headerColor": "transparent",
     "id": "306b2445-62c2-4633-a2d8-fc79f9de6c39",
     "isComponent": false,
     "name": "",
     "parents": []
    },
    "id": "6a99106b-b847-47d6-b8bc-392dd15e4996"
   },
   "outputs": [],
   "source": [
    "df_descritive = valid_rows3.describe()"
   ]
  },
  {
   "cell_type": "code",
   "execution_count": null,
   "id": "a7572f45",
   "metadata": {
    "canvas": {
     "comments": [],
     "componentType": "CodeCell",
     "copiedOriginId": null,
     "diskcache": false,
     "headerColor": "transparent",
     "id": "2d3e560c-a21b-4b8f-9cf6-ab320b491153",
     "isComponent": false,
     "name": "",
     "parents": []
    },
    "id": "69056371-f137-46c2-a3c6-5d99430c303f",
    "outputId": "b296558e-b24f-46d2-a480-f6164d5953f4"
   },
   "outputs": [
    {
     "data": {
      "text/plain": [
       "dia_semana\n",
       "Segunda-feira    504773\n",
       "Domingo          513842\n",
       "Quarta-feira     562342\n",
       "Sexta-feira      564618\n",
       "Terça-feira      571019\n",
       "Quinta-feira     572462\n",
       "Sábado           600239\n",
       "Name: dia_semana, dtype: int64"
      ]
     },
     "execution_count": 18,
     "metadata": {},
     "output_type": "execute_result"
    }
   ],
   "source": [
    "#contagem do numero de viagens por dia da semana\n",
    "valid_rows3.groupby(by='dia_semana')['dia_semana'].count().sort_values()"
   ]
  },
  {
   "cell_type": "markdown",
   "id": "78b032ce",
   "metadata": {
    "canvas": {
     "comments": [],
     "componentType": "CodeCell",
     "copiedOriginId": null,
     "diskcache": false,
     "headerColor": "transparent",
     "id": "5d973a46-6129-4fe0-9aa9-5ce717c56e12",
     "isComponent": false,
     "name": "",
     "parents": []
    },
    "tags": []
   },
   "source": [
    "## Mês com mais viagens"
   ]
  },
  {
   "cell_type": "markdown",
   "id": "1b8db074",
   "metadata": {
    "canvas": {
     "comments": [],
     "componentType": "CodeCell",
     "copiedOriginId": null,
     "diskcache": false,
     "headerColor": "transparent",
     "id": "54f6c4fb-93ec-415f-852b-2f5c91cb5a91",
     "isComponent": false,
     "name": "",
     "parents": []
    }
   },
   "source": [
    "* mes que teve mais viagens<br>\n",
    "agrupei os dados pela coluna de início da viagem, mas fazendo um reagrupamento por mês, e depois usando a função size para contar os registros, e resetando o index deixando o nome 'counts' no resultado. O resultado é um pandas series, com o mês sendo o index, e o 'counts' sendo a quantidade<br>\n",
    "Também poderia ser feito criando uma nova coluna para o nome do mês, e aí sim agrupando por month, pegando o size, e resetando o index"
   ]
  },
  {
   "cell_type": "code",
   "execution_count": 13,
   "id": "227e1e0a",
   "metadata": {
    "canvas": {
     "comments": [],
     "componentType": "CodeCell",
     "copiedOriginId": null,
     "diskcache": false,
     "headerColor": "transparent",
     "id": "6399b6a9-ce73-4484-ac7e-4117ae3ce459",
     "isComponent": false,
     "name": "",
     "parents": []
    },
    "id": "c730e4f4-c7e6-42e1-8070-26e23f2e5628",
    "outputId": "b31c247d-1343-46fe-9318-3d01aa632252",
    "tags": []
   },
   "outputs": [],
   "source": [
    "#mês que teve mais viagem\n",
    "# Now, group by month and count the occurrences\n",
    "monthly_counts = valid_rows3.groupby(pd.Grouper(key='started_at', freq='M')).size().reset_index(name='counts')\n",
    "#OR\n",
    "valid_rows3['month'] = valid_rows3['started_at'].dt.month\n",
    "monthly_counts = valid_rows3.groupby('month').size().reset_index(name='counts')"
   ]
  },
  {
   "cell_type": "markdown",
   "id": "9df031b0",
   "metadata": {
    "canvas": {
     "comments": [],
     "componentType": "CodeCell",
     "copiedOriginId": null,
     "diskcache": false,
     "headerColor": "transparent",
     "id": "3abf98d3-cafc-4fee-85e5-e4f9cc31bcb4",
     "isComponent": false,
     "name": "",
     "parents": []
    },
    "jp-MarkdownHeadingCollapsed": true,
    "tags": []
   },
   "source": [
    "### Plotando o grafico"
   ]
  },
  {
   "cell_type": "code",
   "execution_count": 23,
   "id": "73be419c",
   "metadata": {
    "canvas": {
     "comments": [],
     "componentType": "CodeCell",
     "copiedOriginId": null,
     "diskcache": false,
     "headerColor": "transparent",
     "id": "7c102960-5139-4a1f-b633-3f21c5c26bbb",
     "isComponent": false,
     "name": "",
     "parents": []
    },
    "id": "a8e7dc34-56b6-46b0-8a55-b42f0037883b",
    "outputId": "0cf8d6f7-69e7-4a43-b41e-bd977f2467a3"
   },
   "outputs": [
    {
     "data": {
      "text/plain": [
       "<Axes: xlabel='month'>"
      ]
     },
     "execution_count": 23,
     "metadata": {},
     "output_type": "execute_result"
    },
    {
     "data": {
      "image/png": "[encoded data removed]",
      "text/plain": [
       "<Figure size 1000x600 with 1 Axes>"
      ]
     },
     "metadata": {},
     "output_type": "display_data"
    },
    {
     "data": {
      "image/png": "[encoded data removed]",
      "text/plain": [
       "<Figure size 640x480 with 1 Axes>"
      ]
     },
     "metadata": {},
     "output_type": "display_data"
    }
   ],
   "source": [
    "##plotando esse gráfico\n",
    "monthly_counts.plot(kind='bar', x='month', y='counts', figsize=(10, 6), legend=False, color='skyblue',\n",
    "                    title='Monthly Counts', xlabel='Month', ylabel='Counts')\n",
    "monthly_counts.plot(kind='bar', x='month', y='counts', legend=False, rot=0)"
   ]
  },
  {
   "cell_type": "markdown",
   "id": "dbca4f3a",
   "metadata": {
    "canvas": {
     "comments": [],
     "componentType": "CodeCell",
     "copiedOriginId": null,
     "diskcache": false,
     "headerColor": "transparent",
     "id": "576b98d5-4d82-4888-b789-76e5cd4abe98",
     "isComponent": false,
     "name": "",
     "parents": []
    },
    "tags": []
   },
   "source": [
    "## A quantidade de estações"
   ]
  },
  {
   "cell_type": "markdown",
   "id": "ee8b02c3",
   "metadata": {
    "canvas": {
     "comments": [],
     "componentType": "CodeCell",
     "copiedOriginId": null,
     "diskcache": false,
     "headerColor": "transparent",
     "id": "9de48bbc-6707-4598-b0e3-2a4a5b0c68f8",
     "isComponent": false,
     "name": "",
     "parents": []
    }
   },
   "source": [
    "Os dados não possuíam uma tabela contendo os nomes das estações, então criei uma lista juntando os dados das colunas de estação de início e de fim, e retirando as duplicadas e resetando o index. Por desencargo, usei a função unique pra ter certeza de que não peguei nomes duplicados"
   ]
  },
  {
   "cell_type": "code",
   "execution_count": null,
   "id": "bbb62676",
   "metadata": {
    "canvas": {
     "comments": [],
     "componentType": "CodeCell",
     "copiedOriginId": null,
     "diskcache": false,
     "headerColor": "transparent",
     "id": "21171830-33aa-4d98-86a3-29fe9c338e9d",
     "isComponent": false,
     "name": "",
     "parents": []
    },
    "id": "40e8f3a0-6c0f-498e-9f20-286f6d9ddab6"
   },
   "outputs": [],
   "source": [
    "#quantidade de estações\n",
    "num_stations = combined_df[['start_station_id', 'start_station_name', 'start_lat', \\\n",
    "  'start_lng']].drop_duplicates(subset=['start_station_id']).reset_index(drop=True)"
   ]
  },
  {
   "cell_type": "code",
   "execution_count": null,
   "id": "06f5ab02",
   "metadata": {
    "canvas": {
     "comments": [],
     "componentType": "CodeCell",
     "copiedOriginId": null,
     "diskcache": false,
     "headerColor": "transparent",
     "id": "6e04c6b4-1b29-4cb1-b6d0-f4d8dc47a311",
     "isComponent": false,
     "name": "",
     "parents": []
    },
    "id": "a80b09d4-e7f0-44ca-8e57-62dfba83a8a7"
   },
   "outputs": [],
   "source": [
    "num_stations = combined_df[['start_station_name']].drop_duplicates(subset=['start_station_name']).reset_index(drop=True)"
   ]
  },
  {
   "cell_type": "code",
   "execution_count": null,
   "id": "b2e4951a",
   "metadata": {
    "canvas": {
     "comments": [],
     "componentType": "CodeCell",
     "copiedOriginId": null,
     "diskcache": false,
     "headerColor": "transparent",
     "id": "e7eb34bd-e852-4623-a9a0-5353faab37b3",
     "isComponent": false,
     "name": "",
     "parents": []
    },
    "id": "3f38a633-6a32-48ed-a1dc-35a39640a06b"
   },
   "outputs": [],
   "source": [
    "num_stations = combined_df[['start_lng']].drop_duplicates(subset=['start_lng']).reset_index(drop=True)"
   ]
  },
  {
   "cell_type": "code",
   "execution_count": null,
   "id": "9256bd77",
   "metadata": {
    "canvas": {
     "comments": [],
     "componentType": "CodeCell",
     "copiedOriginId": null,
     "diskcache": false,
     "headerColor": "transparent",
     "id": "b99eca5b-7200-4571-a99e-c785f1ae0671",
     "isComponent": false,
     "name": "",
     "parents": []
    },
    "id": "63e6b001-bb68-44d6-8591-84091aba9a52"
   },
   "outputs": [],
   "source": [
    "unique_names = valid_rows3.groupby('start_station_id')['start_station_name'].unique()"
   ]
  },
  {
   "cell_type": "markdown",
   "id": "8b8db5e1",
   "metadata": {
    "canvas": {
     "comments": [],
     "componentType": "CodeCell",
     "copiedOriginId": null,
     "diskcache": false,
     "headerColor": "transparent",
     "id": "2336d0df-309a-40e6-b53b-cd0640bb1cda",
     "isComponent": false,
     "name": "",
     "parents": []
    }
   },
   "source": [
    "* Eis que aí deu merda, porque tem várias estações com um id e vários nomes. não parei pra pensar em como resolver isso"
   ]
  },
  {
   "cell_type": "code",
   "execution_count": null,
   "id": "349355f7",
   "metadata": {
    "canvas": {
     "comments": [],
     "componentType": "CodeCell",
     "copiedOriginId": null,
     "diskcache": false,
     "headerColor": "transparent",
     "id": "6a209694-ceef-41f3-a5c5-ecb4ff8769f2",
     "isComponent": false,
     "name": "",
     "parents": []
    },
    "id": "52efb20a-12e7-422e-952b-2f19118d3d78",
    "outputId": "494651b1-8ad3-4827-aa67-5d02b9dd006b"
   },
   "outputs": [
    {
     "name": "stdout",
     "output_type": "stream",
     "text": [
      "Station ID 13259 has multiple names: ['California Ave & Francis Pl (Temp)' 'California Ave & Francis Pl']\n",
      "Station ID 13290 has multiple names: ['Noble St & Milwaukee Ave' 'Noble St & Milwaukee Ave (Temp)']\n",
      "Station ID 15541 has multiple names: ['Buckingham Fountain' 'Buckingham Fountain (Temp)'\n",
      " 'Buckingham Fountain (Columbus/Balbo)']\n",
      "Station ID 15541.1.1 has multiple names: ['Buckingham - Fountain' 'Buckingham Fountain']\n",
      "Station ID 15623 has multiple names: ['Campbell Ave & Montrose Ave' 'Campbell Ave & Montrose Ave (Temp)']\n",
      "Station ID 20133 has multiple names: ['Woodlawn & 103rd - Olive Harvey Vaccination Site' 'Woodlawn & 103rd']\n",
      "Station ID 303 has multiple names: ['Kildare Ave & Division St' 'Public Rack - Kildare Ave & Division St']\n",
      "Station ID 335.0 has multiple names: ['Public Rack - Komensky Ave & 31st St' 'Komensky Ave & 31st St']\n",
      "Station ID 390 has multiple names: ['Public Rack - California Ave & Marquette Rd'\n",
      " 'California Ave & Marquette Rd']\n",
      "Station ID 410 has multiple names: ['410' 'Campbell Ave & Augusta Blvd']\n",
      "Station ID 514 has multiple names: ['Ridge Blvd & Howard St' 'Public Rack - Hamlin Ave & Grand Ave']\n",
      "Station ID 517 has multiple names: ['Clark St & Jarvis Ave' 'Public Rack - Pulaski Rd & Armitage Ave']\n",
      "Station ID 518 has multiple names: ['Conservatory Dr & Lake St' 'Public Rack - Keystone Ave & North Ave']\n",
      "Station ID 519 has multiple names: ['Wolcott Ave & Fargo Ave' 'Public Rack - Kostner Ave & North Ave']\n",
      "Station ID 520 has multiple names: ['Greenview Ave & Jarvis Ave' 'Public Rack - Karlov Ave & Kamerling Ave']\n",
      "Station ID 523 has multiple names: ['Eastlake Ter & Howard St' 'Public Rack - Pulaski Rd & Roosevelt Rd']\n",
      "Station ID 525 has multiple names: ['Glenwood Ave & Touhy Ave' 'Public Rack - Kedzie Ave & Arthington St']\n",
      "Station ID 528 has multiple names: ['Pulaski Rd & Lake St' 'Public Rack - Pulaski Rd & 15th St']\n",
      "Station ID 534 has multiple names: ['Karlov Ave & Madison St' 'Public Rack - California Ave & Ogden Ave']\n",
      "Station ID 536 has multiple names: ['Kostner Ave & Lake St' 'Public Rack - Keeler Ave & 26th St']\n",
      "Station ID 537 has multiple names: ['Kenton Ave & Madison St' 'Public Rack - 2302 S Pulaski Rd']\n",
      "Station ID 543 has multiple names: ['Laramie Ave & Gladys Ave' 'Public Rack - Cicero Ave & Roscoe St']\n",
      "Station ID 545 has multiple names: ['Kostner Ave & Adams St' 'Public Rack - Linder Ave & Belmont Ave']\n",
      "Station ID 546 has multiple names: ['Damen Ave & Pershing Rd' 'Public Rack - Cicero Ave & Wellington Ave']\n",
      "Station ID 549 has multiple names: ['Marshfield Ave & 44th St' 'Public Rack - Laramie Ave & Fullerton Ave']\n",
      "Station ID 554 has multiple names: ['Damen Ave & 51st St' 'Public Rack - Cicero Ave & Le Moyne St - midblock']\n",
      "Station ID 559 has multiple names: ['Racine Ave & Garfield Blvd'\n",
      " 'Public Rack - Menard Ave & Dakin St - midblock']\n",
      "Station ID 560 has multiple names: ['Marshfield Ave & 59th St' 'Public Rack - Austin Ave & Roscoe St']\n",
      "Station ID 561 has multiple names: ['Public Rack - Melvina Ave & Belmont Ave' 'Damen Ave & 59th St']\n",
      "Station ID 562 has multiple names: ['Racine Ave & 61st St' 'Public Rack - Menard Ave & Belmont Ave']\n",
      "Station ID 564 has multiple names: ['Racine Ave & 65th St' 'Public Rack - Austin Ave & Wellington Ave']\n",
      "Station ID 567 has multiple names: ['May St & 69th St' 'Public Rack - Harvey Ave & North Ave']\n",
      "Station ID 569 has multiple names: ['Woodlawn Ave & 75th St' 'Public Rack - Menard Ave & Grand Ave']\n",
      "Station ID 570 has multiple names: ['Evans Ave & 75th St' 'Public Rack - McVicker Ave & Grand Ave']\n",
      "Station ID 571 has multiple names: ['Vernon Ave & 75th St' 'Public Rack - Austin Blvd & North Ave']\n",
      "Station ID 572 has multiple names: ['State St & 76th St' 'Public Rack - Hiawatha Park']\n",
      "Station ID 573 has multiple names: ['State St & 79th St' 'Public Rack - Panama Ave & Forest Preserve Ave']\n",
      "Station ID 574 has multiple names: ['Vernon Ave & 79th St' 'Public Rack - Canty Elementary School']\n",
      "Station ID 575 has multiple names: ['Cottage Grove Ave & 78th St'\n",
      " 'Public Rack - Pittsburgh Ave & Irving Park']\n",
      "Station ID 577 has multiple names: ['Stony Island Ave & South Chicago Ave'\n",
      " 'Public Rack - Ozark Ave & Addison St']\n",
      "Station ID 579 has multiple names: ['Phillips Ave & 79th St' 'Public Rack - Oketo Ave & Belmont Ave']\n",
      "Station ID 583 has multiple names: ['Stony Island Ave & 82nd St' 'Public Rack - Baltimore Ave & 134th St']\n",
      "Station ID 584 has multiple names: ['Ellis Ave & 83rd St' 'Public Rack - Baltimore Ave & 132nd St']\n",
      "Station ID 585 has multiple names: ['Cottage Grove Ave & 83rd St' 'Public Rack - Houston Ave & 131st St']\n",
      "Station ID 586 has multiple names: ['MLK Jr Dr & 83rd St' 'Public Rack - Stewart Ave & 123rd St']\n",
      "Station ID 588 has multiple names: ['South Chicago Ave & 83rd St' 'Public Rack - Yale Ave & 119th St']\n",
      "Station ID 594 has multiple names: ['Western Blvd & 48th Pl' 'Public Rack - Indiana Ave & 111th St']\n",
      "Station ID 595 has multiple names: ['Wabash Ave & 87th St' 'Public Rack - Michigan Ave & 113th St']\n",
      "Station ID 620 has multiple names: ['Orleans St & Chestnut St (NEXT Apts)' 'Public Rack - Ada St & 95th St']\n",
      "Station ID 623 has multiple names: ['Michigan Ave & 8th St' 'Public Rack - Halsted St & 102nd St']\n",
      "Station ID 624 has multiple names: ['Dearborn St & Van Buren St' 'Public Rack - Parnell Ave & 98th St']\n",
      "Station ID 631 has multiple names: ['Malcolm X College' 'Public Rack - Yates Ave & 100th St']\n",
      "Station ID 636 has multiple names: ['Orleans St & Hubbard St' 'Public Rack - Ewing Ave & 101st St']\n",
      "Station ID 637 has multiple names: ['Wood St & Chicago Ave' 'Public Rack - Ewing Ave & 96th St N']\n",
      "Station ID 638 has multiple names: ['Clinton St & Jackson Blvd' 'Public Rack - Ewing Ave & Indianapolis Ave']\n",
      "Station ID 639 has multiple names: ['Lakefront Trail & Wilson Ave' 'Public Rack - Ewing Ave & 99th St']\n",
      "Station ID 642 has multiple names: ['Latrobe Ave & Chicago Ave' 'Public Rack - Justine St & 87th St']\n",
      "Station ID 643 has multiple names: ['Smith Park' 'Public Rack - Vincennes Ave & 87th St']\n",
      "Station ID 644 has multiple names: ['Western Ave & Fillmore St' 'Public Rack - Wabash Ave & 87th St']\n",
      "Station ID 646 has multiple names: ['State St & 54th St' 'Public Rack - Cottage Grove Ave & 87th St']\n",
      "Station ID 649 has multiple names: ['Stewart Ave & 63rd St' 'Public Rack - Cottage Grove Ave & 92nd St']\n",
      "Station ID 650 has multiple names: ['Eggleston Ave & 69th St' 'Public Rack - Houston Ave & 91st St']\n",
      "Station ID 651 has multiple names: ['Michigan Ave & 71st St' 'Public Rack - Commercial Ave & 89th St']\n",
      "Station ID 654 has multiple names: ['Racine Ave & Washington Blvd' 'Public Rack - Racine Ave & 83rd St']\n",
      "Station ID 657 has multiple names: ['Wood St & Augusta Blvd' 'Public Rack - Wentworth Ave & 79th St']\n",
      "Station ID 658 has multiple names: ['Leavitt St & Division St' 'Public Rack - King Dr & 83rd St']\n",
      "Station ID 661 has multiple names: ['Evanston Civic Center' 'Public Rack - Langley Ave & 79th St']\n",
      "Station ID 662 has multiple names: ['Dodge Ave & Mulford St' 'Public Rack - Cottage Grove & 86th St']\n",
      "Station ID KA1504000086 has multiple names: ['Kedzie Ave & 24th St' 'Kedzie Ave & 24th St (Temp)']\n",
      "Station ID KA1504000141 has multiple names: ['Pulaski Rd & Eddy St (Temp)' 'Pulaski Rd & Eddy St']\n",
      "Station ID TA1306000026 has multiple names: ['Racine Ave & Fullerton Ave' 'Racine Ave & Fullerton Ave (Temp)']\n",
      "Station ID TA1308000026 has multiple names: ['Wentworth Ave & 24th St (Temp)' 'Wentworth Ave & 24th St']\n",
      "Station ID TA1309000042 has multiple names: ['Lincoln Ave & Belmont Ave (Temp)' 'Lincoln Ave & Melrose St']\n",
      " total de 73 estações com mais de um nome\n"
     ]
    }
   ],
   "source": [
    "# Iterate over the Series\n",
    "total_stations = 0\n",
    "for station_id, names in unique_names.items():\n",
    "    if len(names) > 1:\n",
    "        print(f\"Station ID {station_id} has multiple names: {names}\")\n",
    "        total_stations = total_stations  + 1\n",
    "print(f\" total de {total_stations} estações com mais de um nome\")"
   ]
  },
  {
   "cell_type": "raw",
   "id": "c7e9fd56",
   "metadata": {
    "canvas": {
     "comments": [],
     "componentType": "CodeCell",
     "copiedOriginId": null,
     "diskcache": false,
     "headerColor": "transparent",
     "id": "bc433026-8333-4a0e-919b-1f02f88f1d55",
     "isComponent": false,
     "name": "",
     "parents": []
    },
    "id": "2bac2555-8e4d-4bde-aa6b-ec201a77f1fa"
   },
   "source": [
    "#Como tem mais de um nome em 73 ids, tenho que mudar esses nomes pra deixar somente o primeiro nome da lista\n",
    "#Mas e se eu adotar o primeiro nome, e o segundo nome estiver sendo usado em outro lugar?\n",
    "#Decidi deixar assim mesmo, sem excluir nem mudar os nomes\n",
    "# # Step 1: Create the mapping dictionary\n",
    "# name_mapping = {station_id: names[0] for station_id, names in unique_names.items()}\n",
    "\n",
    "# # Step 2: Replace all station names in the DataFrame using the mapping\n",
    "# df['station_name'] = df['station_id'].map(name_mapping)"
   ]
  },
  {
   "cell_type": "markdown",
   "id": "8939a17a",
   "metadata": {
    "canvas": {
     "comments": [],
     "componentType": "CodeCell",
     "copiedOriginId": null,
     "diskcache": false,
     "headerColor": "transparent",
     "id": "c167398f-aee2-4003-aa9b-f39d3a532400",
     "isComponent": false,
     "name": "",
     "parents": []
    },
    "tags": []
   },
   "source": [
    "## Tabela origem-destino"
   ]
  },
  {
   "cell_type": "markdown",
   "id": "fc6f57b2",
   "metadata": {
    "canvas": {
     "comments": [],
     "componentType": "CodeCell",
     "copiedOriginId": null,
     "diskcache": false,
     "headerColor": "transparent",
     "id": "a0ee0907-f645-4fce-8dc9-eedc0de12e07",
     "isComponent": false,
     "name": "",
     "parents": []
    }
   },
   "source": [
    "Fiz um tabelão cruzando origens com destino, para ver qual o trecho mais demandado.\n",
    "A pivot table exige um dado de agregação, então usei o 'size', para contar a quantidade de viagens.\n",
    "Para saber qual a linha e coluna com o maior dado (ou seja, o trecho origem-destino com mais demanda), usei o stack junto com o idxmax, que retorna uma tupla (número da linha e da coluna), e conferi o resultado com o .loc"
   ]
  },
  {
   "cell_type": "code",
   "execution_count": 13,
   "id": "72e99e1d",
   "metadata": {
    "canvas": {
     "comments": [],
     "componentType": "CodeCell",
     "copiedOriginId": null,
     "diskcache": false,
     "headerColor": "transparent",
     "id": "09d915b9-45db-4c46-9c1d-0bc8f1c1bc58",
     "isComponent": false,
     "name": "",
     "parents": []
    },
    "id": "e4bd2366-0c43-444e-a3c8-f33db8762945",
    "tags": []
   },
   "outputs": [],
   "source": [
    "##pivot table, mostrando as viagens por origem-destino\n",
    "pivot_table = valid_rows3.pivot_table(index='start_station_name', columns='end_station_name', aggfunc='size', fill_value=0)"
   ]
  },
  {
   "cell_type": "code",
   "execution_count": 14,
   "id": "697aa3f5",
   "metadata": {
    "canvas": {
     "comments": [],
     "componentType": "CodeCell",
     "copiedOriginId": null,
     "diskcache": false,
     "headerColor": "transparent",
     "id": "71d2a809-bf4b-4459-afc9-1ce9a54a306e",
     "isComponent": false,
     "name": "",
     "parents": []
    },
    "id": "44165ec8-8d1a-4829-8c07-eec8a0e8ca55",
    "outputId": "38ca630c-b257-477e-919c-48a220b29d1d",
    "tags": []
   },
   "outputs": [
    {
     "data": {
      "text/plain": [
       "9624"
      ]
     },
     "execution_count": 14,
     "metadata": {},
     "output_type": "execute_result"
    }
   ],
   "source": [
    "#para ver o numero maximo do dataframe\n",
    "pivot_table.to_numpy().max()"
   ]
  },
  {
   "cell_type": "code",
   "execution_count": 15,
   "id": "694694d8",
   "metadata": {
    "canvas": {
     "comments": [],
     "componentType": "CodeCell",
     "copiedOriginId": null,
     "diskcache": false,
     "headerColor": "transparent",
     "id": "bef39e7d-b135-4e8a-81f9-cb2a16086ad5",
     "isComponent": false,
     "name": "",
     "parents": []
    },
    "id": "535d29e6-5e3b-41ae-90fe-ae4b311915d6",
    "outputId": "7151d820-8621-40b0-b46b-a084900bc9a2",
    "tags": []
   },
   "outputs": [
    {
     "data": {
      "text/plain": [
       "728178.0"
      ]
     },
     "execution_count": 15,
     "metadata": {},
     "output_type": "execute_result"
    }
   ],
   "source": [
    "#se fosse um df com colunas que não sejam numéricas, teria que filtrar:\n",
    "valid_rows3.max(numeric_only=True).max()"
   ]
  },
  {
   "cell_type": "code",
   "execution_count": 16,
   "id": "230fb275",
   "metadata": {
    "canvas": {
     "comments": [],
     "componentType": "CodeCell",
     "copiedOriginId": null,
     "diskcache": false,
     "headerColor": "transparent",
     "id": "9f4f697d-dd93-40a4-9638-091eaee868cc",
     "isComponent": false,
     "name": "",
     "parents": []
    },
    "id": "91e31543-f907-4016-8a2e-ad75eea70f91",
    "outputId": "b3ec6650-3446-4a47-83fd-29ab1b0b6031",
    "tags": []
   },
   "outputs": [
    {
     "name": "stdout",
     "output_type": "stream",
     "text": [
      "The maximum value is in the row: Streeter Dr & Grand Ave and column: Streeter Dr & Grand Ave\n"
     ]
    }
   ],
   "source": [
    "#Mas preciso saber a linha e a coluna desse máximo:\n",
    "max_value_index = pivot_table.stack().idxmax()\n",
    "# max_value_index is a tuple (row_name, column_name)\n",
    "print(f\"The maximum value is in the row: {max_value_index[0]} and column: {max_value_index[1]}\")"
   ]
  },
  {
   "cell_type": "code",
   "execution_count": 28,
   "id": "e138fe2d",
   "metadata": {
    "canvas": {
     "comments": [],
     "componentType": "CodeCell",
     "copiedOriginId": null,
     "diskcache": false,
     "headerColor": "transparent",
     "id": "f8cd1aff-d0ed-4a9e-a6a5-f9704f904f59",
     "isComponent": false,
     "name": "",
     "parents": []
    },
    "id": "b8461025-7a22-4581-8b50-05f24813d6e3",
    "outputId": "7220bc10-6e32-4ba8-838c-7c1083ba236a"
   },
   "outputs": [
    {
     "data": {
      "text/plain": [
       "9624"
      ]
     },
     "execution_count": 28,
     "metadata": {},
     "output_type": "execute_result"
    }
   ],
   "source": [
    "#Conferindo o resultado, pegando a linha e coluna obtidos\n",
    "pivot_table.loc[max_value_index[0], max_value_index[1]]"
   ]
  },
  {
   "cell_type": "markdown",
   "id": "27c3f4e3-ad55-4675-989d-d9213ec9f65d",
   "metadata": {},
   "source": [
    "### Gráfico Sankey"
   ]
  },
  {
   "cell_type": "code",
   "execution_count": 14,
   "id": "48f08d81-f12f-43ea-b18c-c01212f62c5b",
   "metadata": {
    "tags": []
   },
   "outputs": [],
   "source": [
    "#como eu tenho as estações de origem e destino, dá pra tentar fazer um gráfico Sankey\n",
    "import plotly.graph_objects as go"
   ]
  },
  {
   "cell_type": "code",
   "execution_count": 15,
   "id": "89a5520a-5977-41b1-94e7-9fd3ee1bde3b",
   "metadata": {
    "tags": []
   },
   "outputs": [
    {
     "data": {
      "text/html": [
       "<div>\n",
       "<style scoped>\n",
       "    .dataframe tbody tr th:only-of-type {\n",
       "        vertical-align: middle;\n",
       "    }\n",
       "\n",
       "    .dataframe tbody tr th {\n",
       "        vertical-align: top;\n",
       "    }\n",
       "\n",
       "    .dataframe thead th {\n",
       "        text-align: right;\n",
       "    }\n",
       "</style>\n",
       "<table border=\"1\" class=\"dataframe\">\n",
       "  <thead>\n",
       "    <tr style=\"text-align: right;\">\n",
       "      <th></th>\n",
       "      <th>start_station_name</th>\n",
       "      <th>end_station_name</th>\n",
       "    </tr>\n",
       "  </thead>\n",
       "  <tbody>\n",
       "    <tr>\n",
       "      <th>0</th>\n",
       "      <td>Lincoln Ave &amp; Fullerton Ave</td>\n",
       "      <td>Hampden Ct &amp; Diversey Ave</td>\n",
       "    </tr>\n",
       "    <tr>\n",
       "      <th>1</th>\n",
       "      <td>Kimbark Ave &amp; 53rd St</td>\n",
       "      <td>Greenwood Ave &amp; 47th St</td>\n",
       "    </tr>\n",
       "    <tr>\n",
       "      <th>2</th>\n",
       "      <td>Western Ave &amp; Lunt Ave</td>\n",
       "      <td>Valli Produce - Evanston Plaza</td>\n",
       "    </tr>\n",
       "    <tr>\n",
       "      <th>3</th>\n",
       "      <td>Kimbark Ave &amp; 53rd St</td>\n",
       "      <td>Greenwood Ave &amp; 47th St</td>\n",
       "    </tr>\n",
       "    <tr>\n",
       "      <th>4</th>\n",
       "      <td>Kimbark Ave &amp; 53rd St</td>\n",
       "      <td>Greenwood Ave &amp; 47th St</td>\n",
       "    </tr>\n",
       "    <tr>\n",
       "      <th>...</th>\n",
       "      <td>...</td>\n",
       "      <td>...</td>\n",
       "    </tr>\n",
       "    <tr>\n",
       "      <th>3889290</th>\n",
       "      <td>Clinton St &amp; Washington Blvd</td>\n",
       "      <td>Fairbanks Ct &amp; Grand Ave</td>\n",
       "    </tr>\n",
       "    <tr>\n",
       "      <th>3889291</th>\n",
       "      <td>Clark St &amp; Lincoln Ave</td>\n",
       "      <td>Fairbanks Ct &amp; Grand Ave</td>\n",
       "    </tr>\n",
       "    <tr>\n",
       "      <th>3889292</th>\n",
       "      <td>Clinton St &amp; Washington Blvd</td>\n",
       "      <td>Fairbanks Ct &amp; Grand Ave</td>\n",
       "    </tr>\n",
       "    <tr>\n",
       "      <th>3889293</th>\n",
       "      <td>Michigan Ave &amp; 14th St</td>\n",
       "      <td>Michigan Ave &amp; 14th St</td>\n",
       "    </tr>\n",
       "    <tr>\n",
       "      <th>3889294</th>\n",
       "      <td>Clinton St &amp; Washington Blvd</td>\n",
       "      <td>Clark St &amp; 9th St (AMLI)</td>\n",
       "    </tr>\n",
       "  </tbody>\n",
       "</table>\n",
       "<p>3889295 rows × 2 columns</p>\n",
       "</div>"
      ],
      "text/plain": [
       "                   start_station_name                end_station_name\n",
       "0         Lincoln Ave & Fullerton Ave       Hampden Ct & Diversey Ave\n",
       "1               Kimbark Ave & 53rd St         Greenwood Ave & 47th St\n",
       "2              Western Ave & Lunt Ave  Valli Produce - Evanston Plaza\n",
       "3               Kimbark Ave & 53rd St         Greenwood Ave & 47th St\n",
       "4               Kimbark Ave & 53rd St         Greenwood Ave & 47th St\n",
       "...                               ...                             ...\n",
       "3889290  Clinton St & Washington Blvd        Fairbanks Ct & Grand Ave\n",
       "3889291        Clark St & Lincoln Ave        Fairbanks Ct & Grand Ave\n",
       "3889292  Clinton St & Washington Blvd        Fairbanks Ct & Grand Ave\n",
       "3889293        Michigan Ave & 14th St          Michigan Ave & 14th St\n",
       "3889294  Clinton St & Washington Blvd        Clark St & 9th St (AMLI)\n",
       "\n",
       "[3889295 rows x 2 columns]"
      ]
     },
     "execution_count": 15,
     "metadata": {},
     "output_type": "execute_result"
    }
   ],
   "source": [
    "#vou usar como dados os nomes das estações\n",
    "df_stations_names = valid_rows3[['start_station_name', 'end_station_name']].reset_index(drop=True)\n",
    "df_stations_names"
   ]
  },
  {
   "cell_type": "code",
   "execution_count": 16,
   "id": "c063ded0-73a3-4920-84c0-cd1368147090",
   "metadata": {
    "tags": []
   },
   "outputs": [],
   "source": [
    "#e agora adicionando a contagem\n",
    "grouped_df_stations_names = df_stations_names.groupby(['start_station_name', 'end_station_name']).size().reset_index(name='num_viagens')\n",
    "grouped_df_stations_names\n",
    "df1 = grouped_df_stations_names\n",
    "#df1 = df1.sample(frac=0.01)"
   ]
  },
  {
   "cell_type": "code",
   "execution_count": 18,
   "id": "ea1b4135-2bd2-46cb-afdf-eddb7b37348f",
   "metadata": {
    "tags": []
   },
   "outputs": [],
   "source": [
    "#pegando as 10 maiores rotas (as mais usadas)\n",
    "df1 = df1.sort_values(by='num_viagens', ascending=False).reset_index(drop=True).head(10)"
   ]
  },
  {
   "cell_type": "code",
   "execution_count": 19,
   "id": "235a2b08-7c5f-442a-8e01-dcd6beb4abea",
   "metadata": {
    "tags": []
   },
   "outputs": [],
   "source": [
    "# Create a Sankey diagram: - data\n",
    "# Extract unique station names\n",
    "unique_stations = pd.unique(df1[['start_station_name', 'end_station_name']].values.ravel('K'))\n",
    "\n",
    "# Create a dictionary to map station names to indices\n",
    "node_dict = {station: idx for idx, station in enumerate(unique_stations)}\n",
    "\n",
    "# Map station names to indices for sources and targets\n",
    "sources = df1['start_station_name'].map(node_dict)\n",
    "targets = df1['end_station_name'].map(node_dict)\n",
    "\n"
   ]
  },
  {
   "cell_type": "code",
   "execution_count": 34,
   "id": "e45f6c12-1013-478b-b915-6d3a0f82d34b",
   "metadata": {
    "tags": []
   },
   "outputs": [
    {
     "data": {
      "application/vnd.plotly.v1+json": {
       "config": {
        "plotlyServerURL": "https://plot.ly"
       },
       "data": [
        {
         "link": {
          "source": [
           0,
           1,
           2,
           2,
           3,
           4,
           5,
           1,
           6,
           7
          ],
          "target": [
           0,
           1,
           3,
           4,
           2,
           2,
           5,
           0,
           7,
           6
          ],
          "value": [
           9624,
           7107,
           6202,
           5837,
           5706,
           5422,
           5065,
           4853,
           4485,
           4424
          ]
         },
         "node": {
          "label": [
           "Streeter Dr & Grand Ave",
           "DuSable Lake Shore Dr & Monroe St",
           "Ellis Ave & 60th St",
           "Ellis Ave & 55th St",
           "University Ave & 57th St",
           "Michigan Ave & Oak St",
           "Calumet Ave & 33rd St",
           "State St & 33rd St"
          ],
          "line": {
           "color": "black",
           "width": 0.5
          },
          "pad": 15,
          "thickness": 20,
          "x": [
           0.8740749727252038,
           0.0770050257659245,
           0.0770050257659245,
           0.8740749727252038,
           0.8740749727252038,
           0.0770050257659245,
           0.0770050257659245,
           0.8740749727252038
          ],
          "y": [
           0.2627796710736048,
           0.24720738023750677,
           0.5853658148552644,
           0.5973053211747579,
           0.4893463725286984,
           0.3653651259555202,
           0.4682328580127122,
           0.3848995246793788
          ]
         },
         "type": "sankey"
        }
       ],
       "layout": {
        "autosize": true,
        "font": {
         "size": 10
        },
        "template": {
         "data": {
          "bar": [
           {
            "error_x": {
             "color": "#2a3f5f"
            },
            "error_y": {
             "color": "#2a3f5f"
            },
            "marker": {
             "line": {
              "color": "#E5ECF6",
              "width": 0.5
             },
             "pattern": {
              "fillmode": "overlay",
              "size": 10,
              "solidity": 0.2
             }
            },
            "type": "bar"
           }
          ],
          "barpolar": [
           {
            "marker": {
             "line": {
              "color": "#E5ECF6",
              "width": 0.5
             },
             "pattern": {
              "fillmode": "overlay",
              "size": 10,
              "solidity": 0.2
             }
            },
            "type": "barpolar"
           }
          ],
          "carpet": [
           {
            "aaxis": {
             "endlinecolor": "#2a3f5f",
             "gridcolor": "white",
             "linecolor": "white",
             "minorgridcolor": "white",
             "startlinecolor": "#2a3f5f"
            },
            "baxis": {
             "endlinecolor": "#2a3f5f",
             "gridcolor": "white",
             "linecolor": "white",
             "minorgridcolor": "white",
             "startlinecolor": "#2a3f5f"
            },
            "type": "carpet"
           }
          ],
          "choropleth": [
           {
            "colorbar": {
             "outlinewidth": 0,
             "ticks": ""
            },
            "type": "choropleth"
           }
          ],
          "contour": [
           {
            "colorbar": {
             "outlinewidth": 0,
             "ticks": ""
            },
            "colorscale": [
             [
              0,
              "#0d0887"
             ],
             [
              0.1111111111111111,
              "#46039f"
             ],
             [
              0.2222222222222222,
              "#7201a8"
             ],
             [
              0.3333333333333333,
              "#9c179e"
             ],
             [
              0.4444444444444444,
              "#bd3786"
             ],
             [
              0.5555555555555556,
              "#d8576b"
             ],
             [
              0.6666666666666666,
              "#ed7953"
             ],
             [
              0.7777777777777778,
              "#fb9f3a"
             ],
             [
              0.8888888888888888,
              "#fdca26"
             ],
             [
              1,
              "#f0f921"
             ]
            ],
            "type": "contour"
           }
          ],
          "contourcarpet": [
           {
            "colorbar": {
             "outlinewidth": 0,
             "ticks": ""
            },
            "type": "contourcarpet"
           }
          ],
          "heatmap": [
           {
            "colorbar": {
             "outlinewidth": 0,
             "ticks": ""
            },
            "colorscale": [
             [
              0,
              "#0d0887"
             ],
             [
              0.1111111111111111,
              "#46039f"
             ],
             [
              0.2222222222222222,
              "#7201a8"
             ],
             [
              0.3333333333333333,
              "#9c179e"
             ],
             [
              0.4444444444444444,
              "#bd3786"
             ],
             [
              0.5555555555555556,
              "#d8576b"
             ],
             [
              0.6666666666666666,
              "#ed7953"
             ],
             [
              0.7777777777777778,
              "#fb9f3a"
             ],
             [
              0.8888888888888888,
              "#fdca26"
             ],
             [
              1,
              "#f0f921"
             ]
            ],
            "type": "heatmap"
           }
          ],
          "heatmapgl": [
           {
            "colorbar": {
             "outlinewidth": 0,
             "ticks": ""
            },
            "colorscale": [
             [
              0,
              "#0d0887"
             ],
             [
              0.1111111111111111,
              "#46039f"
             ],
             [
              0.2222222222222222,
              "#7201a8"
             ],
             [
              0.3333333333333333,
              "#9c179e"
             ],
             [
              0.4444444444444444,
              "#bd3786"
             ],
             [
              0.5555555555555556,
              "#d8576b"
             ],
             [
              0.6666666666666666,
              "#ed7953"
             ],
             [
              0.7777777777777778,
              "#fb9f3a"
             ],
             [
              0.8888888888888888,
              "#fdca26"
             ],
             [
              1,
              "#f0f921"
             ]
            ],
            "type": "heatmapgl"
           }
          ],
          "histogram": [
           {
            "marker": {
             "pattern": {
              "fillmode": "overlay",
              "size": 10,
              "solidity": 0.2
             }
            },
            "type": "histogram"
           }
          ],
          "histogram2d": [
           {
            "colorbar": {
             "outlinewidth": 0,
             "ticks": ""
            },
            "colorscale": [
             [
              0,
              "#0d0887"
             ],
             [
              0.1111111111111111,
              "#46039f"
             ],
             [
              0.2222222222222222,
              "#7201a8"
             ],
             [
              0.3333333333333333,
              "#9c179e"
             ],
             [
              0.4444444444444444,
              "#bd3786"
             ],
             [
              0.5555555555555556,
              "#d8576b"
             ],
             [
              0.6666666666666666,
              "#ed7953"
             ],
             [
              0.7777777777777778,
              "#fb9f3a"
             ],
             [
              0.8888888888888888,
              "#fdca26"
             ],
             [
              1,
              "#f0f921"
             ]
            ],
            "type": "histogram2d"
           }
          ],
          "histogram2dcontour": [
           {
            "colorbar": {
             "outlinewidth": 0,
             "ticks": ""
            },
            "colorscale": [
             [
              0,
              "#0d0887"
             ],
             [
              0.1111111111111111,
              "#46039f"
             ],
             [
              0.2222222222222222,
              "#7201a8"
             ],
             [
              0.3333333333333333,
              "#9c179e"
             ],
             [
              0.4444444444444444,
              "#bd3786"
             ],
             [
              0.5555555555555556,
              "#d8576b"
             ],
             [
              0.6666666666666666,
              "#ed7953"
             ],
             [
              0.7777777777777778,
              "#fb9f3a"
             ],
             [
              0.8888888888888888,
              "#fdca26"
             ],
             [
              1,
              "#f0f921"
             ]
            ],
            "type": "histogram2dcontour"
           }
          ],
          "mesh3d": [
           {
            "colorbar": {
             "outlinewidth": 0,
             "ticks": ""
            },
            "type": "mesh3d"
           }
          ],
          "parcoords": [
           {
            "line": {
             "colorbar": {
              "outlinewidth": 0,
              "ticks": ""
             }
            },
            "type": "parcoords"
           }
          ],
          "pie": [
           {
            "automargin": true,
            "type": "pie"
           }
          ],
          "scatter": [
           {
            "fillpattern": {
             "fillmode": "overlay",
             "size": 10,
             "solidity": 0.2
            },
            "type": "scatter"
           }
          ],
          "scatter3d": [
           {
            "line": {
             "colorbar": {
              "outlinewidth": 0,
              "ticks": ""
             }
            },
            "marker": {
             "colorbar": {
              "outlinewidth": 0,
              "ticks": ""
             }
            },
            "type": "scatter3d"
           }
          ],
          "scattercarpet": [
           {
            "marker": {
             "colorbar": {
              "outlinewidth": 0,
              "ticks": ""
             }
            },
            "type": "scattercarpet"
           }
          ],
          "scattergeo": [
           {
            "marker": {
             "colorbar": {
              "outlinewidth": 0,
              "ticks": ""
             }
            },
            "type": "scattergeo"
           }
          ],
          "scattergl": [
           {
            "marker": {
             "colorbar": {
              "outlinewidth": 0,
              "ticks": ""
             }
            },
            "type": "scattergl"
           }
          ],
          "scattermapbox": [
           {
            "marker": {
             "colorbar": {
              "outlinewidth": 0,
              "ticks": ""
             }
            },
            "type": "scattermapbox"
           }
          ],
          "scatterpolar": [
           {
            "marker": {
             "colorbar": {
              "outlinewidth": 0,
              "ticks": ""
             }
            },
            "type": "scatterpolar"
           }
          ],
          "scatterpolargl": [
           {
            "marker": {
             "colorbar": {
              "outlinewidth": 0,
              "ticks": ""
             }
            },
            "type": "scatterpolargl"
           }
          ],
          "scatterternary": [
           {
            "marker": {
             "colorbar": {
              "outlinewidth": 0,
              "ticks": ""
             }
            },
            "type": "scatterternary"
           }
          ],
          "surface": [
           {
            "colorbar": {
             "outlinewidth": 0,
             "ticks": ""
            },
            "colorscale": [
             [
              0,
              "#0d0887"
             ],
             [
              0.1111111111111111,
              "#46039f"
             ],
             [
              0.2222222222222222,
              "#7201a8"
             ],
             [
              0.3333333333333333,
              "#9c179e"
             ],
             [
              0.4444444444444444,
              "#bd3786"
             ],
             [
              0.5555555555555556,
              "#d8576b"
             ],
             [
              0.6666666666666666,
              "#ed7953"
             ],
             [
              0.7777777777777778,
              "#fb9f3a"
             ],
             [
              0.8888888888888888,
              "#fdca26"
             ],
             [
              1,
              "#f0f921"
             ]
            ],
            "type": "surface"
           }
          ],
          "table": [
           {
            "cells": {
             "fill": {
              "color": "#EBF0F8"
             },
             "line": {
              "color": "white"
             }
            },
            "header": {
             "fill": {
              "color": "#C8D4E3"
             },
             "line": {
              "color": "white"
             }
            },
            "type": "table"
           }
          ]
         },
         "layout": {
          "annotationdefaults": {
           "arrowcolor": "#2a3f5f",
           "arrowhead": 0,
           "arrowwidth": 1
          },
          "autotypenumbers": "strict",
          "coloraxis": {
           "colorbar": {
            "outlinewidth": 0,
            "ticks": ""
           }
          },
          "colorscale": {
           "diverging": [
            [
             0,
             "#8e0152"
            ],
            [
             0.1,
             "#c51b7d"
            ],
            [
             0.2,
             "#de77ae"
            ],
            [
             0.3,
             "#f1b6da"
            ],
            [
             0.4,
             "#fde0ef"
            ],
            [
             0.5,
             "#f7f7f7"
            ],
            [
             0.6,
             "#e6f5d0"
            ],
            [
             0.7,
             "#b8e186"
            ],
            [
             0.8,
             "#7fbc41"
            ],
            [
             0.9,
             "#4d9221"
            ],
            [
             1,
             "#276419"
            ]
           ],
           "sequential": [
            [
             0,
             "#0d0887"
            ],
            [
             0.1111111111111111,
             "#46039f"
            ],
            [
             0.2222222222222222,
             "#7201a8"
            ],
            [
             0.3333333333333333,
             "#9c179e"
            ],
            [
             0.4444444444444444,
             "#bd3786"
            ],
            [
             0.5555555555555556,
             "#d8576b"
            ],
            [
             0.6666666666666666,
             "#ed7953"
            ],
            [
             0.7777777777777778,
             "#fb9f3a"
            ],
            [
             0.8888888888888888,
             "#fdca26"
            ],
            [
             1,
             "#f0f921"
            ]
           ],
           "sequentialminus": [
            [
             0,
             "#0d0887"
            ],
            [
             0.1111111111111111,
             "#46039f"
            ],
            [
             0.2222222222222222,
             "#7201a8"
            ],
            [
             0.3333333333333333,
             "#9c179e"
            ],
            [
             0.4444444444444444,
             "#bd3786"
            ],
            [
             0.5555555555555556,
             "#d8576b"
            ],
            [
             0.6666666666666666,
             "#ed7953"
            ],
            [
             0.7777777777777778,
             "#fb9f3a"
            ],
            [
             0.8888888888888888,
             "#fdca26"
            ],
            [
             1,
             "#f0f921"
            ]
           ]
          },
          "colorway": [
           "#636efa",
           "#EF553B",
           "#00cc96",
           "#ab63fa",
           "#FFA15A",
           "#19d3f3",
           "#FF6692",
           "#B6E880",
           "#FF97FF",
           "#FECB52"
          ],
          "font": {
           "color": "#2a3f5f"
          },
          "geo": {
           "bgcolor": "white",
           "lakecolor": "white",
           "landcolor": "#E5ECF6",
           "showlakes": true,
           "showland": true,
           "subunitcolor": "white"
          },
          "hoverlabel": {
           "align": "left"
          },
          "hovermode": "closest",
          "mapbox": {
           "style": "light"
          },
          "paper_bgcolor": "white",
          "plot_bgcolor": "#E5ECF6",
          "polar": {
           "angularaxis": {
            "gridcolor": "white",
            "linecolor": "white",
            "ticks": ""
           },
           "bgcolor": "#E5ECF6",
           "radialaxis": {
            "gridcolor": "white",
            "linecolor": "white",
            "ticks": ""
           }
          },
          "scene": {
           "xaxis": {
            "backgroundcolor": "#E5ECF6",
            "gridcolor": "white",
            "gridwidth": 2,
            "linecolor": "white",
            "showbackground": true,
            "ticks": "",
            "zerolinecolor": "white"
           },
           "yaxis": {
            "backgroundcolor": "#E5ECF6",
            "gridcolor": "white",
            "gridwidth": 2,
            "linecolor": "white",
            "showbackground": true,
            "ticks": "",
            "zerolinecolor": "white"
           },
           "zaxis": {
            "backgroundcolor": "#E5ECF6",
            "gridcolor": "white",
            "gridwidth": 2,
            "linecolor": "white",
            "showbackground": true,
            "ticks": "",
            "zerolinecolor": "white"
           }
          },
          "shapedefaults": {
           "line": {
            "color": "#2a3f5f"
           }
          },
          "ternary": {
           "aaxis": {
            "gridcolor": "white",
            "linecolor": "white",
            "ticks": ""
           },
           "baxis": {
            "gridcolor": "white",
            "linecolor": "white",
            "ticks": ""
           },
           "bgcolor": "#E5ECF6",
           "caxis": {
            "gridcolor": "white",
            "linecolor": "white",
            "ticks": ""
           }
          },
          "title": {
           "x": 0.05
          },
          "xaxis": {
           "automargin": true,
           "gridcolor": "white",
           "linecolor": "white",
           "ticks": "",
           "title": {
            "standoff": 15
           },
           "zerolinecolor": "white",
           "zerolinewidth": 2
          },
          "yaxis": {
           "automargin": true,
           "gridcolor": "white",
           "linecolor": "white",
           "ticks": "",
           "title": {
            "standoff": 15
           },
           "zerolinecolor": "white",
           "zerolinewidth": 2
          }
         }
        },
        "title": {
         "text": "Sankey Diagram for Travels between Stations"
        }
       }
      },
      "image/png": "[encoded data removed]",
      "text/html": [
       "<div>                            <div id=\"36eb437e-7602-41cc-bb72-4e1b6bcc2ff9\" class=\"plotly-graph-div\" style=\"height:525px; width:100%;\"></div>            <script type=\"text/javascript\">                require([\"plotly\"], function(Plotly) {                    window.PLOTLYENV=window.PLOTLYENV || {};                                    if (document.getElementById(\"36eb437e-7602-41cc-bb72-4e1b6bcc2ff9\")) {                    Plotly.newPlot(                        \"36eb437e-7602-41cc-bb72-4e1b6bcc2ff9\",                        [{\"link\":{\"source\":[0,1,2,2,3,4,5,1,6,7],\"target\":[0,1,3,4,2,2,5,0,7,6],\"value\":[9624,7107,6202,5837,5706,5422,5065,4853,4485,4424]},\"node\":{\"label\":[\"Streeter Dr & Grand Ave\",\"DuSable Lake Shore Dr & Monroe St\",\"Ellis Ave & 60th St\",\"Ellis Ave & 55th St\",\"University Ave & 57th St\",\"Michigan Ave & Oak St\",\"Calumet Ave & 33rd St\",\"State St & 33rd St\"],\"line\":{\"color\":\"black\",\"width\":0.5},\"pad\":15,\"thickness\":20},\"type\":\"sankey\"}],                        {\"template\":{\"data\":{\"histogram2dcontour\":[{\"type\":\"histogram2dcontour\",\"colorbar\":{\"outlinewidth\":0,\"ticks\":\"\"},\"colorscale\":[[0.0,\"#0d0887\"],[0.1111111111111111,\"#46039f\"],[0.2222222222222222,\"#7201a8\"],[0.3333333333333333,\"#9c179e\"],[0.4444444444444444,\"#bd3786\"],[0.5555555555555556,\"#d8576b\"],[0.6666666666666666,\"#ed7953\"],[0.7777777777777778,\"#fb9f3a\"],[0.8888888888888888,\"#fdca26\"],[1.0,\"#f0f921\"]]}],\"choropleth\":[{\"type\":\"choropleth\",\"colorbar\":{\"outlinewidth\":0,\"ticks\":\"\"}}],\"histogram2d\":[{\"type\":\"histogram2d\",\"colorbar\":{\"outlinewidth\":0,\"ticks\":\"\"},\"colorscale\":[[0.0,\"#0d0887\"],[0.1111111111111111,\"#46039f\"],[0.2222222222222222,\"#7201a8\"],[0.3333333333333333,\"#9c179e\"],[0.4444444444444444,\"#bd3786\"],[0.5555555555555556,\"#d8576b\"],[0.6666666666666666,\"#ed7953\"],[0.7777777777777778,\"#fb9f3a\"],[0.8888888888888888,\"#fdca26\"],[1.0,\"#f0f921\"]]}],\"heatmap\":[{\"type\":\"heatmap\",\"colorbar\":{\"outlinewidth\":0,\"ticks\":\"\"},\"colorscale\":[[0.0,\"#0d0887\"],[0.1111111111111111,\"#46039f\"],[0.2222222222222222,\"#7201a8\"],[0.3333333333333333,\"#9c179e\"],[0.4444444444444444,\"#bd3786\"],[0.5555555555555556,\"#d8576b\"],[0.6666666666666666,\"#ed7953\"],[0.7777777777777778,\"#fb9f3a\"],[0.8888888888888888,\"#fdca26\"],[1.0,\"#f0f921\"]]}],\"heatmapgl\":[{\"type\":\"heatmapgl\",\"colorbar\":{\"outlinewidth\":0,\"ticks\":\"\"},\"colorscale\":[[0.0,\"#0d0887\"],[0.1111111111111111,\"#46039f\"],[0.2222222222222222,\"#7201a8\"],[0.3333333333333333,\"#9c179e\"],[0.4444444444444444,\"#bd3786\"],[0.5555555555555556,\"#d8576b\"],[0.6666666666666666,\"#ed7953\"],[0.7777777777777778,\"#fb9f3a\"],[0.8888888888888888,\"#fdca26\"],[1.0,\"#f0f921\"]]}],\"contourcarpet\":[{\"type\":\"contourcarpet\",\"colorbar\":{\"outlinewidth\":0,\"ticks\":\"\"}}],\"contour\":[{\"type\":\"contour\",\"colorbar\":{\"outlinewidth\":0,\"ticks\":\"\"},\"colorscale\":[[0.0,\"#0d0887\"],[0.1111111111111111,\"#46039f\"],[0.2222222222222222,\"#7201a8\"],[0.3333333333333333,\"#9c179e\"],[0.4444444444444444,\"#bd3786\"],[0.5555555555555556,\"#d8576b\"],[0.6666666666666666,\"#ed7953\"],[0.7777777777777778,\"#fb9f3a\"],[0.8888888888888888,\"#fdca26\"],[1.0,\"#f0f921\"]]}],\"surface\":[{\"type\":\"surface\",\"colorbar\":{\"outlinewidth\":0,\"ticks\":\"\"},\"colorscale\":[[0.0,\"#0d0887\"],[0.1111111111111111,\"#46039f\"],[0.2222222222222222,\"#7201a8\"],[0.3333333333333333,\"#9c179e\"],[0.4444444444444444,\"#bd3786\"],[0.5555555555555556,\"#d8576b\"],[0.6666666666666666,\"#ed7953\"],[0.7777777777777778,\"#fb9f3a\"],[0.8888888888888888,\"#fdca26\"],[1.0,\"#f0f921\"]]}],\"mesh3d\":[{\"type\":\"mesh3d\",\"colorbar\":{\"outlinewidth\":0,\"ticks\":\"\"}}],\"scatter\":[{\"fillpattern\":{\"fillmode\":\"overlay\",\"size\":10,\"solidity\":0.2},\"type\":\"scatter\"}],\"parcoords\":[{\"type\":\"parcoords\",\"line\":{\"colorbar\":{\"outlinewidth\":0,\"ticks\":\"\"}}}],\"scatterpolargl\":[{\"type\":\"scatterpolargl\",\"marker\":{\"colorbar\":{\"outlinewidth\":0,\"ticks\":\"\"}}}],\"bar\":[{\"error_x\":{\"color\":\"#2a3f5f\"},\"error_y\":{\"color\":\"#2a3f5f\"},\"marker\":{\"line\":{\"color\":\"#E5ECF6\",\"width\":0.5},\"pattern\":{\"fillmode\":\"overlay\",\"size\":10,\"solidity\":0.2}},\"type\":\"bar\"}],\"scattergeo\":[{\"type\":\"scattergeo\",\"marker\":{\"colorbar\":{\"outlinewidth\":0,\"ticks\":\"\"}}}],\"scatterpolar\":[{\"type\":\"scatterpolar\",\"marker\":{\"colorbar\":{\"outlinewidth\":0,\"ticks\":\"\"}}}],\"histogram\":[{\"marker\":{\"pattern\":{\"fillmode\":\"overlay\",\"size\":10,\"solidity\":0.2}},\"type\":\"histogram\"}],\"scattergl\":[{\"type\":\"scattergl\",\"marker\":{\"colorbar\":{\"outlinewidth\":0,\"ticks\":\"\"}}}],\"scatter3d\":[{\"type\":\"scatter3d\",\"line\":{\"colorbar\":{\"outlinewidth\":0,\"ticks\":\"\"}},\"marker\":{\"colorbar\":{\"outlinewidth\":0,\"ticks\":\"\"}}}],\"scattermapbox\":[{\"type\":\"scattermapbox\",\"marker\":{\"colorbar\":{\"outlinewidth\":0,\"ticks\":\"\"}}}],\"scatterternary\":[{\"type\":\"scatterternary\",\"marker\":{\"colorbar\":{\"outlinewidth\":0,\"ticks\":\"\"}}}],\"scattercarpet\":[{\"type\":\"scattercarpet\",\"marker\":{\"colorbar\":{\"outlinewidth\":0,\"ticks\":\"\"}}}],\"carpet\":[{\"aaxis\":{\"endlinecolor\":\"#2a3f5f\",\"gridcolor\":\"white\",\"linecolor\":\"white\",\"minorgridcolor\":\"white\",\"startlinecolor\":\"#2a3f5f\"},\"baxis\":{\"endlinecolor\":\"#2a3f5f\",\"gridcolor\":\"white\",\"linecolor\":\"white\",\"minorgridcolor\":\"white\",\"startlinecolor\":\"#2a3f5f\"},\"type\":\"carpet\"}],\"table\":[{\"cells\":{\"fill\":{\"color\":\"#EBF0F8\"},\"line\":{\"color\":\"white\"}},\"header\":{\"fill\":{\"color\":\"#C8D4E3\"},\"line\":{\"color\":\"white\"}},\"type\":\"table\"}],\"barpolar\":[{\"marker\":{\"line\":{\"color\":\"#E5ECF6\",\"width\":0.5},\"pattern\":{\"fillmode\":\"overlay\",\"size\":10,\"solidity\":0.2}},\"type\":\"barpolar\"}],\"pie\":[{\"automargin\":true,\"type\":\"pie\"}]},\"layout\":{\"autotypenumbers\":\"strict\",\"colorway\":[\"#636efa\",\"#EF553B\",\"#00cc96\",\"#ab63fa\",\"#FFA15A\",\"#19d3f3\",\"#FF6692\",\"#B6E880\",\"#FF97FF\",\"#FECB52\"],\"font\":{\"color\":\"#2a3f5f\"},\"hovermode\":\"closest\",\"hoverlabel\":{\"align\":\"left\"},\"paper_bgcolor\":\"white\",\"plot_bgcolor\":\"#E5ECF6\",\"polar\":{\"bgcolor\":\"#E5ECF6\",\"angularaxis\":{\"gridcolor\":\"white\",\"linecolor\":\"white\",\"ticks\":\"\"},\"radialaxis\":{\"gridcolor\":\"white\",\"linecolor\":\"white\",\"ticks\":\"\"}},\"ternary\":{\"bgcolor\":\"#E5ECF6\",\"aaxis\":{\"gridcolor\":\"white\",\"linecolor\":\"white\",\"ticks\":\"\"},\"baxis\":{\"gridcolor\":\"white\",\"linecolor\":\"white\",\"ticks\":\"\"},\"caxis\":{\"gridcolor\":\"white\",\"linecolor\":\"white\",\"ticks\":\"\"}},\"coloraxis\":{\"colorbar\":{\"outlinewidth\":0,\"ticks\":\"\"}},\"colorscale\":{\"sequential\":[[0.0,\"#0d0887\"],[0.1111111111111111,\"#46039f\"],[0.2222222222222222,\"#7201a8\"],[0.3333333333333333,\"#9c179e\"],[0.4444444444444444,\"#bd3786\"],[0.5555555555555556,\"#d8576b\"],[0.6666666666666666,\"#ed7953\"],[0.7777777777777778,\"#fb9f3a\"],[0.8888888888888888,\"#fdca26\"],[1.0,\"#f0f921\"]],\"sequentialminus\":[[0.0,\"#0d0887\"],[0.1111111111111111,\"#46039f\"],[0.2222222222222222,\"#7201a8\"],[0.3333333333333333,\"#9c179e\"],[0.4444444444444444,\"#bd3786\"],[0.5555555555555556,\"#d8576b\"],[0.6666666666666666,\"#ed7953\"],[0.7777777777777778,\"#fb9f3a\"],[0.8888888888888888,\"#fdca26\"],[1.0,\"#f0f921\"]],\"diverging\":[[0,\"#8e0152\"],[0.1,\"#c51b7d\"],[0.2,\"#de77ae\"],[0.3,\"#f1b6da\"],[0.4,\"#fde0ef\"],[0.5,\"#f7f7f7\"],[0.6,\"#e6f5d0\"],[0.7,\"#b8e186\"],[0.8,\"#7fbc41\"],[0.9,\"#4d9221\"],[1,\"#276419\"]]},\"xaxis\":{\"gridcolor\":\"white\",\"linecolor\":\"white\",\"ticks\":\"\",\"title\":{\"standoff\":15},\"zerolinecolor\":\"white\",\"automargin\":true,\"zerolinewidth\":2},\"yaxis\":{\"gridcolor\":\"white\",\"linecolor\":\"white\",\"ticks\":\"\",\"title\":{\"standoff\":15},\"zerolinecolor\":\"white\",\"automargin\":true,\"zerolinewidth\":2},\"scene\":{\"xaxis\":{\"backgroundcolor\":\"#E5ECF6\",\"gridcolor\":\"white\",\"linecolor\":\"white\",\"showbackground\":true,\"ticks\":\"\",\"zerolinecolor\":\"white\",\"gridwidth\":2},\"yaxis\":{\"backgroundcolor\":\"#E5ECF6\",\"gridcolor\":\"white\",\"linecolor\":\"white\",\"showbackground\":true,\"ticks\":\"\",\"zerolinecolor\":\"white\",\"gridwidth\":2},\"zaxis\":{\"backgroundcolor\":\"#E5ECF6\",\"gridcolor\":\"white\",\"linecolor\":\"white\",\"showbackground\":true,\"ticks\":\"\",\"zerolinecolor\":\"white\",\"gridwidth\":2}},\"shapedefaults\":{\"line\":{\"color\":\"#2a3f5f\"}},\"annotationdefaults\":{\"arrowcolor\":\"#2a3f5f\",\"arrowhead\":0,\"arrowwidth\":1},\"geo\":{\"bgcolor\":\"white\",\"landcolor\":\"#E5ECF6\",\"subunitcolor\":\"white\",\"showland\":true,\"showlakes\":true,\"lakecolor\":\"white\"},\"title\":{\"x\":0.05},\"mapbox\":{\"style\":\"light\"}}},\"title\":{\"text\":\"Sankey Diagram for Travels between Stations\"},\"font\":{\"size\":10}},                        {\"responsive\": true}                    ).then(function(){\n",
       "                            \n",
       "var gd = document.getElementById('36eb437e-7602-41cc-bb72-4e1b6bcc2ff9');\n",
       "var x = new MutationObserver(function (mutations, observer) {{\n",
       "        var display = window.getComputedStyle(gd).display;\n",
       "        if (!display || display === 'none') {{\n",
       "            console.log([gd, 'removed!']);\n",
       "            Plotly.purge(gd);\n",
       "            observer.disconnect();\n",
       "        }}\n",
       "}});\n",
       "\n",
       "// Listen for the removal of the full notebook cells\n",
       "var notebookContainer = gd.closest('#notebook-container');\n",
       "if (notebookContainer) {{\n",
       "    x.observe(notebookContainer, {childList: true});\n",
       "}}\n",
       "\n",
       "// Listen for the clearing of the current output cell\n",
       "var outputEl = gd.closest('.output');\n",
       "if (outputEl) {{\n",
       "    x.observe(outputEl, {childList: true});\n",
       "}}\n",
       "\n",
       "                        })                };                });            </script>        </div>"
      ]
     },
     "metadata": {},
     "output_type": "display_data"
    }
   ],
   "source": [
    "# Create a Sankey diagram: - image\n",
    "fig = go.Figure(data=[go.Sankey(\n",
    "    node=dict(\n",
    "        pad=15,\n",
    "        thickness=20,\n",
    "        line=dict(color='black', width=0.5),\n",
    "        label=unique_stations\n",
    "    ),\n",
    "    link=dict(\n",
    "        source=sources,\n",
    "        target=targets,\n",
    "        value=df1['num_viagens']\n",
    "    )\n",
    ")])\n",
    "\n",
    "# Update layout\n",
    "fig.update_layout(title_text=\"Sankey Diagram for Travels between Stations\", font_size=10)\n",
    "\n",
    "# Show the plot\n",
    "fig.show()"
   ]
  },
  {
   "cell_type": "markdown",
   "id": "8562f01a",
   "metadata": {
    "canvas": {
     "comments": [],
     "componentType": "CodeCell",
     "copiedOriginId": null,
     "diskcache": false,
     "headerColor": "transparent",
     "id": "3f1143f3-b1db-4bc2-bde5-2fd6de11a765",
     "isComponent": false,
     "name": "",
     "parents": []
    },
    "id": "2c3fde64-2a98-4201-b458-342f9898df42",
    "jp-MarkdownHeadingCollapsed": true,
    "tags": []
   },
   "source": [
    "## Quais as rotas mais solicitadas?"
   ]
  },
  {
   "cell_type": "markdown",
   "id": "b1132e3f",
   "metadata": {
    "canvas": {
     "comments": [],
     "componentType": "CodeCell",
     "copiedOriginId": null,
     "diskcache": false,
     "headerColor": "transparent",
     "id": "bedf9003-d579-477e-8d11-4aadab958a2e",
     "isComponent": false,
     "name": "",
     "parents": []
    }
   },
   "source": [
    "Para ver as rotas mais solicitadas, aproveitei a tabela origem-destino.<br>\n",
    "Usei a função 'stack' para obter um Series multiIndex, resetando o índice e deixando a contagem com o nome 'quantity'<br>"
   ]
  },
  {
   "cell_type": "code",
   "execution_count": null,
   "id": "1a0a5de9",
   "metadata": {
    "canvas": {
     "comments": [],
     "componentType": "CodeCell",
     "copiedOriginId": null,
     "diskcache": false,
     "headerColor": "transparent",
     "id": "d5532279-0d37-48b2-a892-30a652b1743e",
     "isComponent": false,
     "name": "",
     "parents": []
    },
    "id": "062d7adb-d352-47f7-8e0c-bae5836bdedc"
   },
   "outputs": [],
   "source": [
    "# Assuming 'pivot_table' is your DataFrame created from the pivot operation\n",
    "# Stack the pivot table to get a MultiIndex Series\n",
    "stacked_pivot = pivot_table.stack()"
   ]
  },
  {
   "cell_type": "code",
   "execution_count": null,
   "id": "7b89a8df",
   "metadata": {
    "canvas": {
     "comments": [],
     "componentType": "CodeCell",
     "copiedOriginId": null,
     "diskcache": false,
     "headerColor": "transparent",
     "id": "17531490-6393-4ef2-9734-952639fdb20b",
     "isComponent": false,
     "name": "",
     "parents": []
    },
    "id": "a44113e4-e6da-45d3-b039-1a4985b2a639"
   },
   "outputs": [],
   "source": [
    "# Reset the index to turn it into a DataFrame\n",
    "routes_df = stacked_pivot.reset_index(name='quantity')"
   ]
  },
  {
   "cell_type": "markdown",
   "id": "1dcfa30f",
   "metadata": {
    "canvas": {
     "comments": [],
     "componentType": "CodeCell",
     "copiedOriginId": null,
     "diskcache": false,
     "headerColor": "transparent",
     "id": "d7167204-4ce0-41c2-888d-87f813e762fa",
     "isComponent": false,
     "name": "",
     "parents": []
    }
   },
   "source": [
    "Depois, criei uma coluna única juntando as estações de início e fim, e agrupando pela quantidade (e resetando o índice)<br>\n",
    "Um dataframe foi criado somente com as colunas relevantes ('quantity' e 'route')"
   ]
  },
  {
   "cell_type": "code",
   "execution_count": null,
   "id": "45ca94f2",
   "metadata": {
    "canvas": {
     "comments": [],
     "componentType": "CodeCell",
     "copiedOriginId": null,
     "diskcache": false,
     "headerColor": "transparent",
     "id": "d0032854-fac4-4289-b3ce-acf227ccea4c",
     "isComponent": false,
     "name": "",
     "parents": []
    },
    "id": "c3bb0c95-10e8-4640-9def-6b441ea11380"
   },
   "outputs": [],
   "source": [
    "# Create a 'route' column by concatenating 'start_station' and 'end_station' with a separator\n",
    "routes_df['route'] = routes_df['start_station_name'] + ' to ' + routes_df['end_station_name']"
   ]
  },
  {
   "cell_type": "code",
   "execution_count": null,
   "id": "252db7ae",
   "metadata": {
    "canvas": {
     "comments": [],
     "componentType": "CodeCell",
     "copiedOriginId": null,
     "diskcache": false,
     "headerColor": "transparent",
     "id": "1d6eef9e-462b-4ab8-a66f-65b274ccbb10",
     "isComponent": false,
     "name": "",
     "parents": []
    },
    "id": "9f7588f0-5a6a-4d95-afce-e8fef1f8d886"
   },
   "outputs": [],
   "source": [
    "most_used_routes_df = routes_df.sort_values(by='quantity', ascending=False).reset_index()\n",
    "sdf = most_used_routes_df[['quantity', 'route']].head() #só pra ler uma parte dos resultados"
   ]
  },
  {
   "cell_type": "markdown",
   "id": "ea20f74b",
   "metadata": {
    "canvas": {
     "comments": [],
     "componentType": "CodeCell",
     "copiedOriginId": null,
     "diskcache": false,
     "headerColor": "transparent",
     "id": "c157fd34-cb7d-4fe3-a3ab-e5cd8cb7bdb2",
     "isComponent": false,
     "name": "",
     "parents": []
    },
    "jp-MarkdownHeadingCollapsed": true,
    "tags": []
   },
   "source": [
    "## Qual a duração média das viagens?"
   ]
  },
  {
   "cell_type": "code",
   "execution_count": null,
   "id": "36ad7c32",
   "metadata": {
    "canvas": {
     "comments": [],
     "componentType": "CodeCell",
     "copiedOriginId": null,
     "diskcache": false,
     "headerColor": "transparent",
     "id": "3e286157-a4ad-42ef-a5c3-a1f05faf0401",
     "isComponent": false,
     "name": "",
     "parents": []
    },
    "id": "a3fe660a-22c0-4fc8-b009-2e52631698fa",
    "outputId": "e4b2dc20-24e1-4135-88e5-fed8664ad07f"
   },
   "outputs": [
    {
     "data": {
      "text/plain": [
       "980.4489494882748"
      ]
     },
     "execution_count": 55,
     "metadata": {},
     "output_type": "execute_result"
    }
   ],
   "source": [
    "#Qual a duração média das viagens?\n",
    "valid_rows3['travel_duration'].mean()"
   ]
  },
  {
   "cell_type": "code",
   "execution_count": null,
   "id": "b6fd94b2",
   "metadata": {
    "canvas": {
     "comments": [],
     "componentType": "CodeCell",
     "copiedOriginId": null,
     "diskcache": false,
     "headerColor": "transparent",
     "id": "b2abdc99-a8e2-4887-ac22-6cc7dab5534f",
     "isComponent": false,
     "name": "",
     "parents": []
    },
    "id": "e8585ada-8169-456d-aeb4-4dfd21f7f174",
    "outputId": "9ffe9fb0-f211-48f4-dd71-fbed4dd18457"
   },
   "outputs": [
    {
     "data": {
      "text/plain": [
       "dia_semana\n",
       "Domingo          1195.477254\n",
       "Quarta-feira      851.940413\n",
       "Quinta-feira      866.699849\n",
       "Segunda-feira     920.413200\n",
       "Sexta-feira       969.614226\n",
       "Sábado           1189.376930\n",
       "Terça-feira       871.708950\n",
       "Name: travel_duration, dtype: float64"
      ]
     },
     "execution_count": 56,
     "metadata": {},
     "output_type": "execute_result"
    }
   ],
   "source": [
    "#Qual a média de viagens por dia da semana?\n",
    "valid_rows3.groupby('dia_semana')['travel_duration'].mean()"
   ]
  },
  {
   "cell_type": "markdown",
   "id": "aa314c33",
   "metadata": {
    "canvas": {
     "comments": [],
     "componentType": "CodeCell",
     "copiedOriginId": null,
     "diskcache": false,
     "headerColor": "transparent",
     "id": "50eb59ad-dd12-47c2-af57-bc6699986716",
     "isComponent": false,
     "name": "",
     "parents": []
    },
    "id": "a8e83cfc-e73d-47b8-8d33-dbfb570da9f4",
    "tags": []
   },
   "source": [
    "### Agrupamento por estações do ano"
   ]
  },
  {
   "cell_type": "markdown",
   "id": "929baa01",
   "metadata": {
    "canvas": {
     "comments": [],
     "componentType": "CodeCell",
     "copiedOriginId": null,
     "diskcache": false,
     "headerColor": "transparent",
     "id": "3801164f-7640-4c60-973d-88e1e823195f",
     "isComponent": false,
     "name": "",
     "parents": []
    }
   },
   "source": [
    "Para criar as estações do ano, foi preciso criar uma função que retornasse a estação de acordo com o número do mês, extraído da coluna 'start_date'<br>\n",
    "Depois, essa função foi aplicada ao dataframe, usando a função 'apply'"
   ]
  },
  {
   "cell_type": "code",
   "execution_count": 14,
   "id": "290a0230",
   "metadata": {
    "canvas": {
     "comments": [],
     "componentType": "CodeCell",
     "copiedOriginId": null,
     "diskcache": false,
     "headerColor": "transparent",
     "id": "fb937558-e8ba-49dd-8dc9-51ce7cbdfecd",
     "isComponent": false,
     "name": "",
     "parents": []
    },
    "id": "34a6dd9a-5272-4a95-9d57-2349c412c112",
    "tags": []
   },
   "outputs": [],
   "source": [
    "# Function to map quarter start dates to season names\n",
    "def get_season_name(start_date):\n",
    "    month = start_date.month\n",
    "    if month in [12, 1, 2]:\n",
    "        return 'Winter'\n",
    "    elif month in [3, 4, 5]:\n",
    "        return 'Spring'\n",
    "    elif month in [6, 7, 8]:\n",
    "        return 'Summer'\n",
    "    elif month in [9, 10, 11]:\n",
    "        return 'Fall'"
   ]
  },
  {
   "cell_type": "code",
   "execution_count": 15,
   "id": "1921b7c8",
   "metadata": {
    "canvas": {
     "comments": [],
     "componentType": "CodeCell",
     "copiedOriginId": null,
     "diskcache": false,
     "headerColor": "transparent",
     "id": "786088d6-20ca-4575-801b-ed86a721ae8b",
     "isComponent": false,
     "name": "",
     "parents": []
    },
    "id": "e9c3f692-63e2-43c5-a586-c2fca07b0b5d",
    "outputId": "b23fb327-b0e1-4164-fb4d-728a293cf231",
    "tags": []
   },
   "outputs": [],
   "source": [
    "# Apply the function to create a new column 'season'\n",
    "valid_rows3['season'] = valid_rows3['started_at'].apply(get_season_name)"
   ]
  },
  {
   "cell_type": "markdown",
   "id": "47878c8f",
   "metadata": {
    "canvas": {
     "comments": [],
     "componentType": "CodeCell",
     "copiedOriginId": null,
     "diskcache": false,
     "headerColor": "transparent",
     "id": "cdc33768-d703-42cc-b0df-d92e21ae4306",
     "isComponent": false,
     "name": "",
     "parents": []
    },
    "jp-MarkdownHeadingCollapsed": true,
    "tags": []
   },
   "source": [
    "#### Plotando o gráfico das estações"
   ]
  },
  {
   "cell_type": "code",
   "execution_count": null,
   "id": "e8a7bb97",
   "metadata": {
    "canvas": {
     "comments": [],
     "componentType": "CodeCell",
     "copiedOriginId": null,
     "diskcache": false,
     "headerColor": "transparent",
     "id": "9d7e0332-a621-4e51-813b-81e44f0d21d7",
     "isComponent": false,
     "name": "",
     "parents": []
    },
    "id": "b7affc0b-a61b-43c3-913d-612f6817519b",
    "outputId": "ca535b31-82f7-40af-af41-aa6f9ab1d00b"
   },
   "outputs": [
    {
     "data": {
      "text/plain": [
       "<Axes: xlabel='season'>"
      ]
     },
     "execution_count": 60,
     "metadata": {},
     "output_type": "execute_result"
    },
    {
     "data": {
      "image/png": "[encoded data removed]",
      "text/plain": [
       "<Figure size 640x480 with 1 Axes>"
      ]
     },
     "metadata": {},
     "output_type": "display_data"
    }
   ],
   "source": [
    "# Group by the 'season' column and count the occurrences\n",
    "seasonly_counts = valid_rows3.groupby('season').size().reset_index(name='counts').sort_values(by='counts', ascending=False).reset_index()\n",
    "seasonly_counts.plot(kind='bar', x='season', y='counts', legend=False)\n",
    "#RESPOSTA: No verão tem mais procura, seguido de primavera, outono, e inverno por último"
   ]
  },
  {
   "cell_type": "markdown",
   "id": "7183c655",
   "metadata": {
    "canvas": {
     "comments": [],
     "componentType": "CodeCell",
     "copiedOriginId": null,
     "diskcache": false,
     "headerColor": "transparent",
     "id": "1dcd0825-a2d8-4572-a43c-6e51a72f504a",
     "isComponent": false,
     "name": "",
     "parents": []
    },
    "tags": []
   },
   "source": [
    "## Quais as estações mais movimentadas?"
   ]
  },
  {
   "cell_type": "markdown",
   "id": "f1ab5e5f",
   "metadata": {
    "canvas": {
     "comments": [],
     "componentType": "CodeCell",
     "copiedOriginId": null,
     "diskcache": false,
     "headerColor": "transparent",
     "id": "e27bb01b-26ec-4c23-a981-6011951bc7d5",
     "isComponent": false,
     "name": "",
     "parents": []
    }
   },
   "source": [
    "As 10 estações mais movimentadas, seja na contagem de início ou de fim de viagem"
   ]
  },
  {
   "cell_type": "code",
   "execution_count": null,
   "id": "18de434d",
   "metadata": {
    "canvas": {
     "comments": [],
     "componentType": "CodeCell",
     "copiedOriginId": null,
     "diskcache": false,
     "headerColor": "transparent",
     "id": "f780b7ca-8f80-4107-b4a6-9f3358fdde62",
     "isComponent": false,
     "name": "",
     "parents": []
    },
    "id": "04b3dd51-98aa-4fa9-aafd-750795db1844"
   },
   "outputs": [],
   "source": [
    "#Quais as estações com mais partidas ou chegadas?\n",
    "most_started_stations = valid_rows3.groupby('start_station_id')['start_station_id'].count().sort_values(ascending=False).head(10)\n",
    "most_started_destination = valid_rows3.groupby('end_station_id')['end_station_id'].count().sort_values(ascending=False).head(10)"
   ]
  },
  {
   "cell_type": "markdown",
   "id": "6137b037",
   "metadata": {
    "canvas": {
     "comments": [],
     "componentType": "CodeCell",
     "copiedOriginId": null,
     "diskcache": false,
     "headerColor": "transparent",
     "id": "bd2aba3d-44a1-487b-917d-90b1146f9d27",
     "isComponent": false,
     "name": "",
     "parents": []
    },
    "jp-MarkdownHeadingCollapsed": true,
    "tags": []
   },
   "source": [
    "# A criação de um banco de dados"
   ]
  },
  {
   "cell_type": "markdown",
   "id": "c41010ab",
   "metadata": {
    "canvas": {
     "comments": [],
     "componentType": "CodeCell",
     "copiedOriginId": null,
     "diskcache": false,
     "headerColor": "transparent",
     "id": "390755fb-55b3-433b-bee0-bd970c406979",
     "isComponent": false,
     "name": "",
     "parents": []
    }
   },
   "source": [
    "Optei por criar um banco de dados com as informações, para que não fosse necessário gerar novamente o dataframe com todos os dados dos arquivos csv<br>\n",
    "Deixei o código em outro arquivo .py, para facilitar a leitura, mas os passos serão descritos aqui"
   ]
  },
  {
   "cell_type": "markdown",
   "id": "45da79dc",
   "metadata": {
    "canvas": {
     "comments": [],
     "componentType": "CodeCell",
     "copiedOriginId": null,
     "diskcache": false,
     "headerColor": "transparent",
     "id": "0d276eb3-a959-4510-b486-8d87451249d4",
     "isComponent": false,
     "name": "",
     "parents": []
    }
   },
   "source": [
    "[Other notebook](./database.ipynb)"
   ]
  },
  {
   "cell_type": "code",
   "execution_count": null,
   "id": "148c6200",
   "metadata": {
    "canvas": {
     "comments": [],
     "componentType": "CodeCell",
     "copiedOriginId": null,
     "diskcache": false,
     "headerColor": "transparent",
     "id": "2d9cd7a1-e31a-4345-b82e-8c9bdb67958a",
     "isComponent": false,
     "name": "",
     "parents": []
    },
    "id": "8249cd93-ce2a-4b7b-b111-c238f9e4c8a1"
   },
   "outputs": [],
   "source": [
    "####criação do db com várias tabelas\n",
    "from create_database import create_database\n"
   ]
  },
  {
   "cell_type": "code",
   "execution_count": null,
   "id": "0a422459",
   "metadata": {
    "canvas": {
     "comments": [],
     "componentType": "CodeCell",
     "copiedOriginId": null,
     "diskcache": false,
     "headerColor": "transparent",
     "id": "66c11db8-3b10-4d13-be47-753834b28e9c",
     "isComponent": false,
     "name": "",
     "parents": []
    },
    "id": "f48622f7-4443-4fb9-87e4-6740c5a27c24"
   },
   "outputs": [],
   "source": [
    "# Call the create_database function\n",
    "#create_database(valid_rows3, 'newdb9.db')"
   ]
  },
  {
   "cell_type": "markdown",
   "id": "14df4d99",
   "metadata": {
    "canvas": {
     "comments": [],
     "componentType": "CodeCell",
     "copiedOriginId": null,
     "diskcache": false,
     "headerColor": "transparent",
     "id": "67320eba-9487-41d3-a584-e22debaddc1f",
     "isComponent": false,
     "name": "",
     "parents": []
    },
    "id": "e797c3d4-5a21-4e9e-a88c-eeb0b798034d",
    "jp-MarkdownHeadingCollapsed": true,
    "tags": []
   },
   "source": [
    "# Análise por grupo"
   ]
  },
  {
   "cell_type": "markdown",
   "id": "3d6491ee",
   "metadata": {
    "canvas": {
     "comments": [],
     "componentType": "CodeCell",
     "copiedOriginId": null,
     "diskcache": false,
     "headerColor": "transparent",
     "id": "6d5c44ae-1c45-47ae-af98-c2c41c67736e",
     "isComponent": false,
     "name": "",
     "parents": []
    }
   },
   "source": [
    "As perguntas de negócio foram todas relativas aos grupos distintos de usuários: 'member' e 'casual'. Portanto, todas as análises descritivas foram repetidas, agora fazendo a devida distinção entre os grupos."
   ]
  },
  {
   "cell_type": "markdown",
   "id": "41bb100a",
   "metadata": {
    "canvas": {
     "comments": [],
     "componentType": "CodeCell",
     "copiedOriginId": null,
     "diskcache": false,
     "headerColor": "transparent",
     "id": "1a818d33-e66f-40a0-a113-17174178ec5c",
     "isComponent": false,
     "name": "",
     "parents": []
    },
    "tags": []
   },
   "source": [
    "## Análise inicial, por grupo"
   ]
  },
  {
   "cell_type": "code",
   "execution_count": null,
   "id": "2edeab93",
   "metadata": {
    "canvas": {
     "comments": [],
     "componentType": "CodeCell",
     "copiedOriginId": null,
     "diskcache": false,
     "headerColor": "transparent",
     "id": "98e632d7-f62d-4ed7-af87-0eb6b9359034",
     "isComponent": false,
     "name": "",
     "parents": []
    },
    "id": "61c79f77-fca1-40f7-b95d-ef63b08098b5",
    "outputId": "c4cb18e8-bedd-407c-dc2f-d93c99677bf4"
   },
   "outputs": [
    {
     "data": {
      "text/plain": [
       "member_casual\n",
       "casual    1422785\n",
       "member    2466510\n",
       "Name: ride_id, dtype: int64"
      ]
     },
     "execution_count": 65,
     "metadata": {},
     "output_type": "execute_result"
    }
   ],
   "source": [
    "\n",
    "#contagem de viagens por grupo\n",
    "valid_rows3.groupby('member_casual')['ride_id'].count()"
   ]
  },
  {
   "cell_type": "code",
   "execution_count": 16,
   "id": "c44a2c84",
   "metadata": {
    "canvas": {
     "comments": [],
     "componentType": "CodeCell",
     "copiedOriginId": null,
     "diskcache": false,
     "headerColor": "transparent",
     "id": "d08ed4f7-7c42-4d0a-9bc9-18c66ec45b7f",
     "isComponent": false,
     "name": "",
     "parents": []
    },
    "id": "9098ab82-c99c-46a4-896d-97caf8f58038",
    "tags": []
   },
   "outputs": [],
   "source": [
    "#criar subsets pelos membros\n",
    "df_membros =  valid_rows3[valid_rows3['member_casual'] == 'member']\n",
    "df_casual = valid_rows3[valid_rows3['member_casual'] == 'casual']"
   ]
  },
  {
   "cell_type": "code",
   "execution_count": null,
   "id": "ae2d1e5c",
   "metadata": {
    "canvas": {
     "comments": [],
     "componentType": "CodeCell",
     "copiedOriginId": null,
     "diskcache": false,
     "headerColor": "transparent",
     "id": "8518b1c8-734d-4d6d-af0b-bae391cd2a69",
     "isComponent": false,
     "name": "",
     "parents": []
    },
    "id": "c69b7133-1d34-4baf-b399-84bf83e11cd7"
   },
   "outputs": [],
   "source": [
    "# só checando o total\n",
    "# valid_rows3.shape[0]\n",
    "# df_membros.shape[0] + df_casual.shape[0]"
   ]
  },
  {
   "cell_type": "code",
   "execution_count": 17,
   "id": "c1efbc44",
   "metadata": {
    "canvas": {
     "comments": [],
     "componentType": "CodeCell",
     "copiedOriginId": null,
     "diskcache": false,
     "headerColor": "transparent",
     "id": "00014974-ceae-42d5-8dc3-14eeaf30ee5c",
     "isComponent": false,
     "name": "",
     "parents": []
    },
    "id": "641ec108-2a30-40d1-b2ac-2e36cf3756b9",
    "outputId": "3aaaa068-8c66-4053-f1a7-9584a198f477",
    "tags": []
   },
   "outputs": [
    {
     "name": "stdout",
     "output_type": "stream",
     "text": [
      "<class 'pandas.core.frame.DataFrame'>\n",
      "Index: 2466510 entries, 0 to 5133285\n",
      "Data columns (total 17 columns):\n",
      " #   Column              Dtype         \n",
      "---  ------              -----         \n",
      " 0   ride_id             object        \n",
      " 1   rideable_type       object        \n",
      " 2   started_at          datetime64[ns]\n",
      " 3   ended_at            datetime64[ns]\n",
      " 4   start_station_name  object        \n",
      " 5   start_station_id    object        \n",
      " 6   end_station_name    object        \n",
      " 7   end_station_id      object        \n",
      " 8   start_lat           float64       \n",
      " 9   start_lng           float64       \n",
      " 10  end_lat             float64       \n",
      " 11  end_lng             float64       \n",
      " 12  member_casual       object        \n",
      " 13  travel_duration     float64       \n",
      " 14  dia_semana          object        \n",
      " 15  month               int32         \n",
      " 16  season              object        \n",
      "dtypes: datetime64[ns](2), float64(5), int32(1), object(9)\n",
      "memory usage: 329.3+ MB\n",
      "<class 'pandas.core.frame.DataFrame'>\n",
      "Index: 1422785 entries, 2 to 5133280\n",
      "Data columns (total 17 columns):\n",
      " #   Column              Non-Null Count    Dtype         \n",
      "---  ------              --------------    -----         \n",
      " 0   ride_id             1422785 non-null  object        \n",
      " 1   rideable_type       1422785 non-null  object        \n",
      " 2   started_at          1422785 non-null  datetime64[ns]\n",
      " 3   ended_at            1422785 non-null  datetime64[ns]\n",
      " 4   start_station_name  1422785 non-null  object        \n",
      " 5   start_station_id    1422785 non-null  object        \n",
      " 6   end_station_name    1422785 non-null  object        \n",
      " 7   end_station_id      1422785 non-null  object        \n",
      " 8   start_lat           1422785 non-null  float64       \n",
      " 9   start_lng           1422785 non-null  float64       \n",
      " 10  end_lat             1422785 non-null  float64       \n",
      " 11  end_lng             1422785 non-null  float64       \n",
      " 12  member_casual       1422785 non-null  object        \n",
      " 13  travel_duration     1422785 non-null  float64       \n",
      " 14  dia_semana          1422785 non-null  object        \n",
      " 15  month               1422785 non-null  int32         \n",
      " 16  season              1422785 non-null  object        \n",
      "dtypes: datetime64[ns](2), float64(5), int32(1), object(9)\n",
      "memory usage: 190.0+ MB\n"
     ]
    }
   ],
   "source": [
    "# valid_rows3.columns\n",
    "df_membros.describe()\n",
    "df_casual.describe()\n",
    "df_membros.info()\n",
    "df_casual.info()"
   ]
  },
  {
   "cell_type": "code",
   "execution_count": null,
   "id": "e94efd57",
   "metadata": {
    "canvas": {
     "comments": [],
     "componentType": "CodeCell",
     "copiedOriginId": null,
     "diskcache": false,
     "headerColor": "transparent",
     "id": "70d7a165-eb39-4e71-a0e1-7e6b9a8f6ee4",
     "isComponent": false,
     "name": "",
     "parents": []
    },
    "id": "e7ef231e-833a-441f-bf36-eb1fab46bc76",
    "outputId": "998e99e2-e955-4c8c-d790-6574fbff6c0f"
   },
   "outputs": [
    {
     "data": {
      "text/plain": [
       "member_casual\n",
       "member    63.42%\n",
       "casual    36.58%\n",
       "Name: proportion, dtype: object"
      ]
     },
     "execution_count": 69,
     "metadata": {},
     "output_type": "execute_result"
    }
   ],
   "source": [
    "# Calculate the percentage of rides per member type\n",
    "percentage_rides_per_member = valid_rows3['member_casual'].value_counts(normalize=True) * 100\n",
    "percentage_rides_per_member.apply(lambda x: f'{x:.2f}%')"
   ]
  },
  {
   "cell_type": "markdown",
   "id": "6169a0c1",
   "metadata": {
    "canvas": {
     "comments": [],
     "componentType": "CodeCell",
     "copiedOriginId": null,
     "diskcache": false,
     "headerColor": "transparent",
     "id": "6bb90744-773b-45a4-ac1c-83232544a500",
     "isComponent": false,
     "name": "",
     "parents": []
    },
    "id": "0b5b2e7b-3575-4271-911c-d8f670ab26e2"
   },
   "source": [
    "Média de viagens, por grupo, por dia da semana"
   ]
  },
  {
   "cell_type": "code",
   "execution_count": 37,
   "id": "69c34f9e",
   "metadata": {
    "canvas": {
     "comments": [],
     "componentType": "CodeCell",
     "copiedOriginId": null,
     "diskcache": false,
     "headerColor": "transparent",
     "id": "bee5a457-9c36-481c-9306-f18a52a9a06c",
     "isComponent": false,
     "name": "",
     "parents": []
    },
    "id": "b0320fb5-fdba-4d03-b7c8-06e28fca5ba2"
   },
   "outputs": [],
   "source": [
    "##### média de viagens por dia da semana\n",
    "#por agrupar em 2 itens, fica um Series multiIndex\n",
    "mean_travel_duration = valid_rows3.groupby(['member_casual', 'dia_semana'])['travel_duration'].mean()"
   ]
  },
  {
   "cell_type": "markdown",
   "id": "84830207",
   "metadata": {
    "canvas": {
     "comments": [],
     "componentType": "CodeCell",
     "copiedOriginId": null,
     "diskcache": false,
     "headerColor": "transparent",
     "id": "8af1ea58-233f-4e84-a346-6d5bec6abecc",
     "isComponent": false,
     "name": "",
     "parents": []
    },
    "jp-MarkdownHeadingCollapsed": true,
    "tags": []
   },
   "source": [
    "## Plotando o gráfico"
   ]
  },
  {
   "cell_type": "code",
   "execution_count": null,
   "id": "881e1c4a",
   "metadata": {
    "canvas": {
     "comments": [],
     "componentType": "CodeCell",
     "copiedOriginId": null,
     "diskcache": false,
     "headerColor": "transparent",
     "id": "0bb6da0e-aa4c-4d22-9017-94858d89de24",
     "isComponent": false,
     "name": "",
     "parents": []
    },
    "id": "27f1969b-1793-4c49-9f23-234d3cc4c3c4",
    "outputId": "fb95918c-3f6b-4f23-b6d8-6d38a89260d2"
   },
   "outputs": [
    {
     "data": {
      "text/plain": [
       "<Axes: title={'center': 'Mean Travel Duration by Member Type and Day of the Week'}, xlabel='Member Type', ylabel='Mean Travel Duration'>"
      ]
     },
     "execution_count": 72,
     "metadata": {},
     "output_type": "execute_result"
    },
    {
     "data": {
      "image/png": "[encoded data removed]",
      "text/plain": [
       "<Figure size 1000x600 with 1 Axes>"
      ]
     },
     "metadata": {},
     "output_type": "display_data"
    }
   ],
   "source": [
    "# Pivot the table for better visualization\n",
    "mean_travel_duration2 = mean_travel_duration.unstack(level='dia_semana')\n",
    "\n",
    "# Plot the data\n",
    "mean_travel_duration2.plot(kind='bar', rot=0, title='Mean Travel Duration by Member Type and Day of the Week',\n",
    "                          xlabel='Member Type', ylabel='Mean Travel Duration', figsize=(10, 6))"
   ]
  },
  {
   "cell_type": "code",
   "execution_count": null,
   "id": "18bb3474",
   "metadata": {
    "canvas": {
     "comments": [],
     "componentType": "CodeCell",
     "copiedOriginId": null,
     "diskcache": false,
     "headerColor": "transparent",
     "id": "c56f1df9-1531-4270-bff8-5e3492dfa974",
     "isComponent": false,
     "name": "",
     "parents": []
    },
    "id": "9343d27b-c8db-4376-8922-30c61e70977f"
   },
   "outputs": [],
   "source": [
    "#CONCLUSÃO: As viagens dos casuais são mais longas do que as dos membros"
   ]
  },
  {
   "cell_type": "markdown",
   "id": "044ea233",
   "metadata": {
    "canvas": {
     "comments": [],
     "componentType": "CodeCell",
     "copiedOriginId": null,
     "diskcache": false,
     "headerColor": "transparent",
     "id": "d61d9cb2-42c4-4e4f-928a-2f71a88db164",
     "isComponent": false,
     "name": "",
     "parents": []
    },
    "id": "f34de1f0-9447-4162-9287-03d4a7d64dc6",
    "tags": []
   },
   "source": [
    "## Média de viagens, por mês, por grupo"
   ]
  },
  {
   "cell_type": "code",
   "execution_count": 18,
   "id": "0375c53b",
   "metadata": {
    "canvas": {
     "comments": [],
     "componentType": "CodeCell",
     "copiedOriginId": null,
     "diskcache": false,
     "headerColor": "transparent",
     "id": "f0298359-7727-4fb8-a2d2-4ccd42f2f627",
     "isComponent": false,
     "name": "",
     "parents": []
    },
    "id": "8767acff-625d-42c0-9e34-6c5141fa5f86",
    "outputId": "e0abd0ca-b057-4353-8377-318c8b6c617c",
    "tags": []
   },
   "outputs": [],
   "source": [
    "#inserir a coluna de mes\n",
    "valid_rows3['month'] = valid_rows3['started_at'].dt.month"
   ]
  },
  {
   "cell_type": "code",
   "execution_count": null,
   "id": "c50b99e4",
   "metadata": {
    "canvas": {
     "comments": [],
     "componentType": "CodeCell",
     "copiedOriginId": null,
     "diskcache": false,
     "headerColor": "transparent",
     "id": "bc82b042-aeb3-4fff-bab4-61729e372aa3",
     "isComponent": false,
     "name": "",
     "parents": []
    },
    "id": "94250cef-f5dd-4701-8fae-517a9a801622"
   },
   "outputs": [],
   "source": [
    "#agrupar por tipo de membro e mes\n",
    "# monthly_counts = valid_rows3.groupby(['member_casual', 'month']).mean()\n",
    "monthly_counts = valid_rows3.groupby(['member_casual', 'month'])['travel_duration'].mean()"
   ]
  },
  {
   "cell_type": "code",
   "execution_count": null,
   "id": "04edf30e",
   "metadata": {
    "canvas": {
     "comments": [],
     "componentType": "CodeCell",
     "copiedOriginId": null,
     "diskcache": false,
     "headerColor": "transparent",
     "id": "80d3dc13-5969-409e-9340-b1cdb11ae1d1",
     "isComponent": false,
     "name": "",
     "parents": []
    },
    "id": "a46e6235-8ccf-453c-9e2d-31b82739333f"
   },
   "outputs": [],
   "source": [
    "# Pivot the table for better visualization\n",
    "monthly_counts2 = monthly_counts.unstack(level='month')"
   ]
  },
  {
   "cell_type": "markdown",
   "id": "93e03b1c",
   "metadata": {
    "canvas": {
     "comments": [],
     "componentType": "CodeCell",
     "copiedOriginId": null,
     "diskcache": false,
     "headerColor": "transparent",
     "id": "e6d22c84-e1dd-4208-a465-90afb6c4d06e",
     "isComponent": false,
     "name": "",
     "parents": []
    },
    "jp-MarkdownHeadingCollapsed": true,
    "tags": []
   },
   "source": [
    "## Plotando o gráfico"
   ]
  },
  {
   "cell_type": "code",
   "execution_count": null,
   "id": "f0274329",
   "metadata": {
    "canvas": {
     "comments": [],
     "componentType": "CodeCell",
     "copiedOriginId": null,
     "diskcache": false,
     "headerColor": "transparent",
     "id": "3245969a-c9cd-4478-ba6e-fb2cd7cc1501",
     "isComponent": false,
     "name": "",
     "parents": []
    },
    "id": "a8df3dff-e3df-4025-824e-037c3a7b3c26",
    "outputId": "d41bc38c-be89-41d4-f58e-8d965411c973"
   },
   "outputs": [
    {
     "data": {
      "text/plain": [
       "<Axes: title={'center': 'Total de viagens por mês, por grupo'}, xlabel='Member Type', ylabel='média'>"
      ]
     },
     "execution_count": 78,
     "metadata": {},
     "output_type": "execute_result"
    },
    {
     "data": {
      "image/png": "[encoded data removed]",
      "text/plain": [
       "<Figure size 1000x600 with 1 Axes>"
      ]
     },
     "metadata": {},
     "output_type": "display_data"
    }
   ],
   "source": [
    "##plotando esse gráfico\n",
    "monthly_counts2.plot(kind='bar', figsize=(10,6), rot=0, title='Total de viagens por mês, por grupo', xlabel='Member Type', ylabel='média')"
   ]
  },
  {
   "cell_type": "markdown",
   "id": "009b4baa",
   "metadata": {
    "canvas": {
     "comments": [],
     "componentType": "CodeCell",
     "copiedOriginId": null,
     "diskcache": false,
     "headerColor": "transparent",
     "id": "08b85bf6-24f3-404c-a37c-9a3736936498",
     "isComponent": false,
     "name": "",
     "parents": []
    },
    "tags": []
   },
   "source": [
    "## duração média das viagens, por grupo"
   ]
  },
  {
   "cell_type": "code",
   "execution_count": null,
   "id": "2bcba010",
   "metadata": {
    "canvas": {
     "comments": [],
     "componentType": "CodeCell",
     "copiedOriginId": null,
     "diskcache": false,
     "headerColor": "transparent",
     "id": "92557e25-63ba-46a0-aa34-00ff371091c8",
     "isComponent": false,
     "name": "",
     "parents": []
    },
    "id": "3ee460da-c1db-4581-8e5b-1d6c4764ae9c"
   },
   "outputs": [],
   "source": [
    "###### Qual a duração média das viagens?\n",
    "mean_travel_duration3 = valid_rows3.groupby('member_casual')['travel_duration'].mean()"
   ]
  },
  {
   "cell_type": "markdown",
   "id": "ab15c15e",
   "metadata": {
    "canvas": {
     "comments": [],
     "componentType": "CodeCell",
     "copiedOriginId": null,
     "diskcache": false,
     "headerColor": "transparent",
     "id": "9c4fb758-929a-4f40-ac98-418c84e3aa50",
     "isComponent": false,
     "name": "",
     "parents": []
    },
    "tags": []
   },
   "source": [
    "## Estações mais usadas, por grupo"
   ]
  },
  {
   "cell_type": "code",
   "execution_count": null,
   "id": "3220f63f",
   "metadata": {
    "canvas": {
     "comments": [],
     "componentType": "CodeCell",
     "copiedOriginId": null,
     "diskcache": false,
     "headerColor": "transparent",
     "id": "c7451b38-43db-4650-a24f-67f9f9c66893",
     "isComponent": false,
     "name": "",
     "parents": []
    },
    "id": "5ec2e868-c736-4cf7-a9fb-13426a4034aa"
   },
   "outputs": [],
   "source": [
    "#Quais as estações com mais partidas ou chegadas?\n",
    "#Achei mais facil usar os dfs separados, porque senão fica agrupado por estação, e pode ser que\n",
    "#um grupo tenha dados em uma estação mas o outro grupo não tenha"
   ]
  },
  {
   "cell_type": "code",
   "execution_count": null,
   "id": "69586d06",
   "metadata": {
    "canvas": {
     "comments": [],
     "componentType": "CodeCell",
     "copiedOriginId": null,
     "diskcache": false,
     "headerColor": "transparent",
     "id": "c28fbe89-2c69-4043-8938-4ae5f15760a0",
     "isComponent": false,
     "name": "",
     "parents": []
    },
    "id": "2727c4f4-8b41-4d81-b45d-c88d6e90a9f1"
   },
   "outputs": [],
   "source": [
    "most_started_stations_membros = df_membros.groupby('start_station_id')['start_station_id'].count().sort_values(ascending=False).head(10)\n",
    "most_started_stations_casual = df_casual.groupby('start_station_id')['start_station_id'].count().sort_values(ascending=False).head(10)"
   ]
  },
  {
   "cell_type": "markdown",
   "id": "b8547f7c",
   "metadata": {
    "canvas": {
     "comments": [],
     "componentType": "CodeCell",
     "copiedOriginId": null,
     "diskcache": false,
     "headerColor": "transparent",
     "id": "6a1b8131-1506-4d69-9e2a-c0a56abaf753",
     "isComponent": false,
     "name": "",
     "parents": []
    },
    "tags": []
   },
   "source": [
    "## Rotas mais usadas, por grupo"
   ]
  },
  {
   "cell_type": "code",
   "execution_count": null,
   "id": "5f78b217",
   "metadata": {
    "canvas": {
     "comments": [],
     "componentType": "CodeCell",
     "copiedOriginId": null,
     "diskcache": false,
     "headerColor": "transparent",
     "id": "12ac32e0-a8be-49c7-a524-6aa084c3d472",
     "isComponent": false,
     "name": "",
     "parents": []
    },
    "id": "3f18d324-089c-4561-8fcc-4d629a7ae368"
   },
   "outputs": [],
   "source": [
    "most_started_destinations_membros = df_membros.groupby('end_station_id')['end_station_id'].count().sort_values(ascending=False).head(10)\n",
    "most_started_destinations_casual = df_casual.groupby('end_station_id')['end_station_id'].count().sort_values(ascending=False).head(10)"
   ]
  },
  {
   "cell_type": "code",
   "execution_count": null,
   "id": "a483d6d0",
   "metadata": {
    "canvas": {
     "comments": [],
     "componentType": "CodeCell",
     "copiedOriginId": null,
     "diskcache": false,
     "headerColor": "transparent",
     "id": "8e6e9bad-c66f-41f8-bf49-6d9b1ef89231",
     "isComponent": false,
     "name": "",
     "parents": []
    },
    "id": "530e8ff9-ce40-41e8-8e4d-73a8639f19db"
   },
   "outputs": [],
   "source": [
    "#qual a rota mais usada, por grupo?\n",
    "# Quais as estações com mais partidas ou chegadas?"
   ]
  },
  {
   "cell_type": "markdown",
   "id": "650c39bb",
   "metadata": {
    "canvas": {
     "comments": [],
     "componentType": "CodeCell",
     "copiedOriginId": null,
     "diskcache": false,
     "headerColor": "transparent",
     "id": "225c93ac-4487-456f-9524-68259864750a",
     "isComponent": false,
     "name": "",
     "parents": []
    },
    "tags": []
   },
   "source": [
    "### Viagens por estação do ano, por grupo"
   ]
  },
  {
   "cell_type": "raw",
   "id": "60cb3d09",
   "metadata": {
    "canvas": {
     "comments": [],
     "componentType": "CodeCell",
     "copiedOriginId": null,
     "diskcache": false,
     "headerColor": "transparent",
     "id": "bc01d187-ab46-4b2b-8f70-bdbbe8723587",
     "isComponent": false,
     "name": "",
     "parents": []
    },
    "id": "3d7e2215-947e-493e-9bff-86ba74584456"
   },
   "source": [
    "viagens por estação do ano, por grupo\n"
   ]
  },
  {
   "cell_type": "markdown",
   "id": "9eeb063f",
   "metadata": {
    "canvas": {
     "comments": [],
     "componentType": "CodeCell",
     "copiedOriginId": null,
     "diskcache": false,
     "headerColor": "transparent",
     "id": "1cb0629b-d2dc-4849-b195-f1dfc8af9b75",
     "isComponent": false,
     "name": "",
     "parents": []
    },
    "jp-MarkdownHeadingCollapsed": true,
    "tags": []
   },
   "source": [
    "# Análises usando SQL"
   ]
  },
  {
   "cell_type": "markdown",
   "id": "d273b9cb",
   "metadata": {
    "canvas": {
     "comments": [],
     "componentType": "CodeCell",
     "copiedOriginId": null,
     "diskcache": false,
     "headerColor": "transparent",
     "id": "94ad6829-be05-4745-a5ec-aceb9ca6c8f7",
     "isComponent": false,
     "name": "",
     "parents": []
    }
   },
   "source": [
    "Com o banco de dados criado, todas as consultas por grupo, feitas usando Pandas, também foram feitas usando SQL"
   ]
  },
  {
   "cell_type": "code",
   "execution_count": null,
   "id": "2c1900a6",
   "metadata": {
    "canvas": {
     "comments": [],
     "componentType": "CodeCell",
     "copiedOriginId": null,
     "diskcache": false,
     "headerColor": "transparent",
     "id": "e87e86f1-48f5-4f1d-b8a7-67e8df6b4aaf",
     "isComponent": false,
     "name": "",
     "parents": []
    },
    "id": "cc1ddf61-39b6-4515-bf93-8a985aa67ed0"
   },
   "outputs": [],
   "source": [
    "#Fazer as mesmas análises mas agora no SQL\n",
    "#\tDá pra ver se teve alguma época específica em que o nome dos id's mudou?\n",
    "#\t** Por último, rodar tudo de novo mas agora incluindo as linhas corrigidas"
   ]
  },
  {
   "cell_type": "markdown",
   "id": "8934f0af",
   "metadata": {
    "canvas": {
     "comments": [],
     "componentType": "CodeCell",
     "copiedOriginId": null,
     "diskcache": false,
     "headerColor": "transparent",
     "id": "0c071800-23ed-438a-b959-3681d9a9cad0",
     "isComponent": false,
     "name": "",
     "parents": []
    },
    "jp-MarkdownHeadingCollapsed": true,
    "tags": []
   },
   "source": [
    "# Plotando as viagens em um mapa"
   ]
  },
  {
   "cell_type": "code",
   "execution_count": null,
   "id": "cf6efde9",
   "metadata": {
    "canvas": {
     "comments": [],
     "componentType": "CodeCell",
     "copiedOriginId": null,
     "diskcache": false,
     "headerColor": "transparent",
     "id": "8f1fe2c9-a90a-4354-ae63-d7d8e96bad69",
     "isComponent": false,
     "name": "",
     "parents": []
    },
    "id": "6eaec73d-e38e-4eea-9d90-96fe4ddf29e1"
   },
   "outputs": [],
   "source": [
    "#Como plotar as viagens em um mapa?\n",
    "#(ver https://coderzcolumn.com/tutorials/data-science/how-to-create-connection-map-chart-in-python-jupyter-notebook-plotly-and-geopandas#google_vignette)"
   ]
  },
  {
   "cell_type": "code",
   "execution_count": 35,
   "id": "bd01c552-fcd7-4e6c-bb82-ecb78c392b4a",
   "metadata": {
    "tags": []
   },
   "outputs": [],
   "source": [
    "import geopandas as gpd\n",
    "import matplotlib.pyplot as plt\n",
    "import plotly.graph_objects as go\n"
   ]
  },
  {
   "cell_type": "code",
   "execution_count": 19,
   "id": "b5fd1f50-4cdd-4f29-b2d2-53afde9ba73e",
   "metadata": {
    "tags": []
   },
   "outputs": [
    {
     "name": "stdout",
     "output_type": "stream",
     "text": [
      "Available Pandas Datasets ['naturalearth_cities', 'naturalearth_lowres', 'nybb']\n"
     ]
    }
   ],
   "source": [
    "pd.set_option(\"display.max_columns\", 30)\n",
    "print(\"Available Pandas Datasets\", gpd.datasets.available)"
   ]
  },
  {
   "cell_type": "code",
   "execution_count": 20,
   "id": "89c5afbc-cd84-448a-b172-944b8f6062e1",
   "metadata": {
    "tags": []
   },
   "outputs": [],
   "source": [
    "# a solução sugerida é de criar uma lista única contendo os dados de origem e destino (latitude, longitude), \n",
    "# e fazer um grafico Scattergeo com as linhas configuradas para ter uma espessura proporcional ao número de viagens"
   ]
  },
  {
   "cell_type": "code",
   "execution_count": 21,
   "id": "e451d6ec-2e82-40f3-849d-9fa7968d2d9b",
   "metadata": {
    "tags": []
   },
   "outputs": [
    {
     "data": {
      "text/html": [
       "<div>\n",
       "<style scoped>\n",
       "    .dataframe tbody tr th:only-of-type {\n",
       "        vertical-align: middle;\n",
       "    }\n",
       "\n",
       "    .dataframe tbody tr th {\n",
       "        vertical-align: top;\n",
       "    }\n",
       "\n",
       "    .dataframe thead th {\n",
       "        text-align: right;\n",
       "    }\n",
       "</style>\n",
       "<table border=\"1\" class=\"dataframe\">\n",
       "  <thead>\n",
       "    <tr style=\"text-align: right;\">\n",
       "      <th>end_station_name</th>\n",
       "      <th>2112 W Peterson Ave</th>\n",
       "      <th>410</th>\n",
       "      <th>63rd St Beach</th>\n",
       "      <th>900 W Harrison St</th>\n",
       "      <th>Aberdeen St &amp; Jackson Blvd</th>\n",
       "      <th>Aberdeen St &amp; Monroe St</th>\n",
       "      <th>Aberdeen St &amp; Randolph St</th>\n",
       "      <th>Ada St &amp; 113th St</th>\n",
       "      <th>Ada St &amp; Washington Blvd</th>\n",
       "      <th>Adler Planetarium</th>\n",
       "      <th>Albany Ave &amp; 16th St</th>\n",
       "      <th>Albany Ave &amp; 26th St</th>\n",
       "      <th>Albany Ave &amp; Belmont Ave</th>\n",
       "      <th>Albany Ave &amp; Bloomingdale Ave</th>\n",
       "      <th>Albany Ave &amp; Douglas Blvd</th>\n",
       "      <th>...</th>\n",
       "      <th>Wood St &amp; 35th St</th>\n",
       "      <th>Wood St &amp; Augusta Blvd</th>\n",
       "      <th>Wood St &amp; Chicago Ave</th>\n",
       "      <th>Wood St &amp; Hubbard St</th>\n",
       "      <th>Wood St &amp; Milwaukee Ave</th>\n",
       "      <th>Wood St &amp; Taylor St (Temp)</th>\n",
       "      <th>Wood St &amp; Webster Ave</th>\n",
       "      <th>Woodlawn &amp; 103rd</th>\n",
       "      <th>Woodlawn &amp; 103rd - Olive Harvey Vaccination Site</th>\n",
       "      <th>Woodlawn Ave &amp; 55th St</th>\n",
       "      <th>Woodlawn Ave &amp; 58th St</th>\n",
       "      <th>Woodlawn Ave &amp; 75th St</th>\n",
       "      <th>Woodlawn Ave &amp; Lake Park Ave</th>\n",
       "      <th>Yates Blvd &amp; 75th St</th>\n",
       "      <th>Yates Blvd &amp; 93rd St</th>\n",
       "    </tr>\n",
       "    <tr>\n",
       "      <th>start_station_name</th>\n",
       "      <th></th>\n",
       "      <th></th>\n",
       "      <th></th>\n",
       "      <th></th>\n",
       "      <th></th>\n",
       "      <th></th>\n",
       "      <th></th>\n",
       "      <th></th>\n",
       "      <th></th>\n",
       "      <th></th>\n",
       "      <th></th>\n",
       "      <th></th>\n",
       "      <th></th>\n",
       "      <th></th>\n",
       "      <th></th>\n",
       "      <th></th>\n",
       "      <th></th>\n",
       "      <th></th>\n",
       "      <th></th>\n",
       "      <th></th>\n",
       "      <th></th>\n",
       "      <th></th>\n",
       "      <th></th>\n",
       "      <th></th>\n",
       "      <th></th>\n",
       "      <th></th>\n",
       "      <th></th>\n",
       "      <th></th>\n",
       "      <th></th>\n",
       "      <th></th>\n",
       "      <th></th>\n",
       "    </tr>\n",
       "  </thead>\n",
       "  <tbody>\n",
       "    <tr>\n",
       "      <th>2112 W Peterson Ave</th>\n",
       "      <td>50</td>\n",
       "      <td>0</td>\n",
       "      <td>0</td>\n",
       "      <td>0</td>\n",
       "      <td>0</td>\n",
       "      <td>0</td>\n",
       "      <td>0</td>\n",
       "      <td>0</td>\n",
       "      <td>0</td>\n",
       "      <td>0</td>\n",
       "      <td>0</td>\n",
       "      <td>0</td>\n",
       "      <td>0</td>\n",
       "      <td>1</td>\n",
       "      <td>0</td>\n",
       "      <td>...</td>\n",
       "      <td>0</td>\n",
       "      <td>0</td>\n",
       "      <td>0</td>\n",
       "      <td>0</td>\n",
       "      <td>0</td>\n",
       "      <td>1</td>\n",
       "      <td>0</td>\n",
       "      <td>0</td>\n",
       "      <td>0</td>\n",
       "      <td>0</td>\n",
       "      <td>0</td>\n",
       "      <td>0</td>\n",
       "      <td>0</td>\n",
       "      <td>0</td>\n",
       "      <td>0</td>\n",
       "    </tr>\n",
       "    <tr>\n",
       "      <th>410</th>\n",
       "      <td>0</td>\n",
       "      <td>0</td>\n",
       "      <td>0</td>\n",
       "      <td>0</td>\n",
       "      <td>0</td>\n",
       "      <td>0</td>\n",
       "      <td>0</td>\n",
       "      <td>0</td>\n",
       "      <td>0</td>\n",
       "      <td>0</td>\n",
       "      <td>0</td>\n",
       "      <td>0</td>\n",
       "      <td>0</td>\n",
       "      <td>0</td>\n",
       "      <td>0</td>\n",
       "      <td>...</td>\n",
       "      <td>0</td>\n",
       "      <td>0</td>\n",
       "      <td>0</td>\n",
       "      <td>0</td>\n",
       "      <td>0</td>\n",
       "      <td>0</td>\n",
       "      <td>0</td>\n",
       "      <td>0</td>\n",
       "      <td>0</td>\n",
       "      <td>0</td>\n",
       "      <td>0</td>\n",
       "      <td>0</td>\n",
       "      <td>0</td>\n",
       "      <td>0</td>\n",
       "      <td>0</td>\n",
       "    </tr>\n",
       "    <tr>\n",
       "      <th>63rd St Beach</th>\n",
       "      <td>0</td>\n",
       "      <td>0</td>\n",
       "      <td>189</td>\n",
       "      <td>0</td>\n",
       "      <td>0</td>\n",
       "      <td>0</td>\n",
       "      <td>0</td>\n",
       "      <td>0</td>\n",
       "      <td>0</td>\n",
       "      <td>1</td>\n",
       "      <td>0</td>\n",
       "      <td>0</td>\n",
       "      <td>0</td>\n",
       "      <td>0</td>\n",
       "      <td>0</td>\n",
       "      <td>...</td>\n",
       "      <td>0</td>\n",
       "      <td>0</td>\n",
       "      <td>0</td>\n",
       "      <td>0</td>\n",
       "      <td>0</td>\n",
       "      <td>0</td>\n",
       "      <td>0</td>\n",
       "      <td>0</td>\n",
       "      <td>0</td>\n",
       "      <td>18</td>\n",
       "      <td>0</td>\n",
       "      <td>0</td>\n",
       "      <td>0</td>\n",
       "      <td>0</td>\n",
       "      <td>0</td>\n",
       "    </tr>\n",
       "    <tr>\n",
       "      <th>900 W Harrison St</th>\n",
       "      <td>0</td>\n",
       "      <td>0</td>\n",
       "      <td>0</td>\n",
       "      <td>587</td>\n",
       "      <td>308</td>\n",
       "      <td>82</td>\n",
       "      <td>78</td>\n",
       "      <td>0</td>\n",
       "      <td>4</td>\n",
       "      <td>24</td>\n",
       "      <td>0</td>\n",
       "      <td>0</td>\n",
       "      <td>0</td>\n",
       "      <td>1</td>\n",
       "      <td>0</td>\n",
       "      <td>...</td>\n",
       "      <td>0</td>\n",
       "      <td>2</td>\n",
       "      <td>3</td>\n",
       "      <td>0</td>\n",
       "      <td>15</td>\n",
       "      <td>106</td>\n",
       "      <td>0</td>\n",
       "      <td>0</td>\n",
       "      <td>0</td>\n",
       "      <td>0</td>\n",
       "      <td>0</td>\n",
       "      <td>0</td>\n",
       "      <td>0</td>\n",
       "      <td>0</td>\n",
       "      <td>0</td>\n",
       "    </tr>\n",
       "    <tr>\n",
       "      <th>Aberdeen St &amp; Jackson Blvd</th>\n",
       "      <td>0</td>\n",
       "      <td>0</td>\n",
       "      <td>0</td>\n",
       "      <td>249</td>\n",
       "      <td>546</td>\n",
       "      <td>123</td>\n",
       "      <td>261</td>\n",
       "      <td>0</td>\n",
       "      <td>71</td>\n",
       "      <td>9</td>\n",
       "      <td>0</td>\n",
       "      <td>0</td>\n",
       "      <td>0</td>\n",
       "      <td>0</td>\n",
       "      <td>0</td>\n",
       "      <td>...</td>\n",
       "      <td>0</td>\n",
       "      <td>3</td>\n",
       "      <td>20</td>\n",
       "      <td>13</td>\n",
       "      <td>12</td>\n",
       "      <td>26</td>\n",
       "      <td>2</td>\n",
       "      <td>0</td>\n",
       "      <td>0</td>\n",
       "      <td>0</td>\n",
       "      <td>0</td>\n",
       "      <td>0</td>\n",
       "      <td>0</td>\n",
       "      <td>0</td>\n",
       "      <td>0</td>\n",
       "    </tr>\n",
       "  </tbody>\n",
       "</table>\n",
       "<p>5 rows × 1534 columns</p>\n",
       "</div>"
      ],
      "text/plain": [
       "end_station_name            2112 W Peterson Ave  410  63rd St Beach  \\\n",
       "start_station_name                                                    \n",
       "2112 W Peterson Ave                          50    0              0   \n",
       "410                                           0    0              0   \n",
       "63rd St Beach                                 0    0            189   \n",
       "900 W Harrison St                             0    0              0   \n",
       "Aberdeen St & Jackson Blvd                    0    0              0   \n",
       "\n",
       "end_station_name            900 W Harrison St  Aberdeen St & Jackson Blvd  \\\n",
       "start_station_name                                                          \n",
       "2112 W Peterson Ave                         0                           0   \n",
       "410                                         0                           0   \n",
       "63rd St Beach                               0                           0   \n",
       "900 W Harrison St                         587                         308   \n",
       "Aberdeen St & Jackson Blvd                249                         546   \n",
       "\n",
       "end_station_name            Aberdeen St & Monroe St  \\\n",
       "start_station_name                                    \n",
       "2112 W Peterson Ave                               0   \n",
       "410                                               0   \n",
       "63rd St Beach                                     0   \n",
       "900 W Harrison St                                82   \n",
       "Aberdeen St & Jackson Blvd                      123   \n",
       "\n",
       "end_station_name            Aberdeen St & Randolph St  Ada St & 113th St  \\\n",
       "start_station_name                                                         \n",
       "2112 W Peterson Ave                                 0                  0   \n",
       "410                                                 0                  0   \n",
       "63rd St Beach                                       0                  0   \n",
       "900 W Harrison St                                  78                  0   \n",
       "Aberdeen St & Jackson Blvd                        261                  0   \n",
       "\n",
       "end_station_name            Ada St & Washington Blvd  Adler Planetarium  \\\n",
       "start_station_name                                                        \n",
       "2112 W Peterson Ave                                0                  0   \n",
       "410                                                0                  0   \n",
       "63rd St Beach                                      0                  1   \n",
       "900 W Harrison St                                  4                 24   \n",
       "Aberdeen St & Jackson Blvd                        71                  9   \n",
       "\n",
       "end_station_name            Albany Ave & 16th St  Albany Ave & 26th St  \\\n",
       "start_station_name                                                       \n",
       "2112 W Peterson Ave                            0                     0   \n",
       "410                                            0                     0   \n",
       "63rd St Beach                                  0                     0   \n",
       "900 W Harrison St                              0                     0   \n",
       "Aberdeen St & Jackson Blvd                     0                     0   \n",
       "\n",
       "end_station_name            Albany Ave & Belmont Ave  \\\n",
       "start_station_name                                     \n",
       "2112 W Peterson Ave                                0   \n",
       "410                                                0   \n",
       "63rd St Beach                                      0   \n",
       "900 W Harrison St                                  0   \n",
       "Aberdeen St & Jackson Blvd                         0   \n",
       "\n",
       "end_station_name            Albany Ave & Bloomingdale Ave  \\\n",
       "start_station_name                                          \n",
       "2112 W Peterson Ave                                     1   \n",
       "410                                                     0   \n",
       "63rd St Beach                                           0   \n",
       "900 W Harrison St                                       1   \n",
       "Aberdeen St & Jackson Blvd                              0   \n",
       "\n",
       "end_station_name            Albany Ave & Douglas Blvd  ...  Wood St & 35th St  \\\n",
       "start_station_name                                     ...                      \n",
       "2112 W Peterson Ave                                 0  ...                  0   \n",
       "410                                                 0  ...                  0   \n",
       "63rd St Beach                                       0  ...                  0   \n",
       "900 W Harrison St                                   0  ...                  0   \n",
       "Aberdeen St & Jackson Blvd                          0  ...                  0   \n",
       "\n",
       "end_station_name            Wood St & Augusta Blvd  Wood St & Chicago Ave  \\\n",
       "start_station_name                                                          \n",
       "2112 W Peterson Ave                              0                      0   \n",
       "410                                              0                      0   \n",
       "63rd St Beach                                    0                      0   \n",
       "900 W Harrison St                                2                      3   \n",
       "Aberdeen St & Jackson Blvd                       3                     20   \n",
       "\n",
       "end_station_name            Wood St & Hubbard St  Wood St & Milwaukee Ave  \\\n",
       "start_station_name                                                          \n",
       "2112 W Peterson Ave                            0                        0   \n",
       "410                                            0                        0   \n",
       "63rd St Beach                                  0                        0   \n",
       "900 W Harrison St                              0                       15   \n",
       "Aberdeen St & Jackson Blvd                    13                       12   \n",
       "\n",
       "end_station_name            Wood St & Taylor St (Temp)  Wood St & Webster Ave  \\\n",
       "start_station_name                                                              \n",
       "2112 W Peterson Ave                                  1                      0   \n",
       "410                                                  0                      0   \n",
       "63rd St Beach                                        0                      0   \n",
       "900 W Harrison St                                  106                      0   \n",
       "Aberdeen St & Jackson Blvd                          26                      2   \n",
       "\n",
       "end_station_name            Woodlawn & 103rd  \\\n",
       "start_station_name                             \n",
       "2112 W Peterson Ave                        0   \n",
       "410                                        0   \n",
       "63rd St Beach                              0   \n",
       "900 W Harrison St                          0   \n",
       "Aberdeen St & Jackson Blvd                 0   \n",
       "\n",
       "end_station_name            Woodlawn & 103rd - Olive Harvey Vaccination Site  \\\n",
       "start_station_name                                                             \n",
       "2112 W Peterson Ave                                                        0   \n",
       "410                                                                        0   \n",
       "63rd St Beach                                                              0   \n",
       "900 W Harrison St                                                          0   \n",
       "Aberdeen St & Jackson Blvd                                                 0   \n",
       "\n",
       "end_station_name            Woodlawn Ave & 55th St  Woodlawn Ave & 58th St  \\\n",
       "start_station_name                                                           \n",
       "2112 W Peterson Ave                              0                       0   \n",
       "410                                              0                       0   \n",
       "63rd St Beach                                   18                       0   \n",
       "900 W Harrison St                                0                       0   \n",
       "Aberdeen St & Jackson Blvd                       0                       0   \n",
       "\n",
       "end_station_name            Woodlawn Ave & 75th St  \\\n",
       "start_station_name                                   \n",
       "2112 W Peterson Ave                              0   \n",
       "410                                              0   \n",
       "63rd St Beach                                    0   \n",
       "900 W Harrison St                                0   \n",
       "Aberdeen St & Jackson Blvd                       0   \n",
       "\n",
       "end_station_name            Woodlawn Ave & Lake Park Ave  \\\n",
       "start_station_name                                         \n",
       "2112 W Peterson Ave                                    0   \n",
       "410                                                    0   \n",
       "63rd St Beach                                          0   \n",
       "900 W Harrison St                                      0   \n",
       "Aberdeen St & Jackson Blvd                             0   \n",
       "\n",
       "end_station_name            Yates Blvd & 75th St  Yates Blvd & 93rd St  \n",
       "start_station_name                                                      \n",
       "2112 W Peterson Ave                            0                     0  \n",
       "410                                            0                     0  \n",
       "63rd St Beach                                  0                     0  \n",
       "900 W Harrison St                              0                     0  \n",
       "Aberdeen St & Jackson Blvd                     0                     0  \n",
       "\n",
       "[5 rows x 1534 columns]"
      ]
     },
     "execution_count": 21,
     "metadata": {},
     "output_type": "execute_result"
    }
   ],
   "source": [
    "#relembrando o tabelão origem-destino:\n",
    "pivot_table.head()"
   ]
  },
  {
   "cell_type": "code",
   "execution_count": 22,
   "id": "f384c371-c605-4d3a-8ef6-f6bdc6532c49",
   "metadata": {
    "tags": []
   },
   "outputs": [
    {
     "data": {
      "text/html": [
       "<div>\n",
       "<style scoped>\n",
       "    .dataframe tbody tr th:only-of-type {\n",
       "        vertical-align: middle;\n",
       "    }\n",
       "\n",
       "    .dataframe tbody tr th {\n",
       "        vertical-align: top;\n",
       "    }\n",
       "\n",
       "    .dataframe thead th {\n",
       "        text-align: right;\n",
       "    }\n",
       "</style>\n",
       "<table border=\"1\" class=\"dataframe\">\n",
       "  <thead>\n",
       "    <tr style=\"text-align: right;\">\n",
       "      <th></th>\n",
       "      <th>ride_id</th>\n",
       "      <th>rideable_type</th>\n",
       "      <th>started_at</th>\n",
       "      <th>ended_at</th>\n",
       "      <th>start_station_name</th>\n",
       "      <th>start_station_id</th>\n",
       "      <th>end_station_name</th>\n",
       "      <th>end_station_id</th>\n",
       "      <th>start_lat</th>\n",
       "      <th>start_lng</th>\n",
       "      <th>end_lat</th>\n",
       "      <th>end_lng</th>\n",
       "      <th>member_casual</th>\n",
       "      <th>travel_duration</th>\n",
       "      <th>dia_semana</th>\n",
       "    </tr>\n",
       "  </thead>\n",
       "  <tbody>\n",
       "    <tr>\n",
       "      <th>0</th>\n",
       "      <td>F96D5A74A3E41399</td>\n",
       "      <td>electric_bike</td>\n",
       "      <td>2023-01-21 20:05:42</td>\n",
       "      <td>2023-01-21 20:16:33</td>\n",
       "      <td>Lincoln Ave &amp; Fullerton Ave</td>\n",
       "      <td>TA1309000058</td>\n",
       "      <td>Hampden Ct &amp; Diversey Ave</td>\n",
       "      <td>202480.0</td>\n",
       "      <td>41.924074</td>\n",
       "      <td>-87.646278</td>\n",
       "      <td>41.930000</td>\n",
       "      <td>-87.640000</td>\n",
       "      <td>member</td>\n",
       "      <td>651.0</td>\n",
       "      <td>Sábado</td>\n",
       "    </tr>\n",
       "    <tr>\n",
       "      <th>1</th>\n",
       "      <td>13CB7EB698CEDB88</td>\n",
       "      <td>classic_bike</td>\n",
       "      <td>2023-01-10 15:37:36</td>\n",
       "      <td>2023-01-10 15:46:05</td>\n",
       "      <td>Kimbark Ave &amp; 53rd St</td>\n",
       "      <td>TA1309000037</td>\n",
       "      <td>Greenwood Ave &amp; 47th St</td>\n",
       "      <td>TA1308000002</td>\n",
       "      <td>41.799568</td>\n",
       "      <td>-87.594747</td>\n",
       "      <td>41.809835</td>\n",
       "      <td>-87.599383</td>\n",
       "      <td>member</td>\n",
       "      <td>509.0</td>\n",
       "      <td>Terça-feira</td>\n",
       "    </tr>\n",
       "    <tr>\n",
       "      <th>2</th>\n",
       "      <td>BD88A2E670661CE5</td>\n",
       "      <td>electric_bike</td>\n",
       "      <td>2023-01-02 07:51:57</td>\n",
       "      <td>2023-01-02 08:05:11</td>\n",
       "      <td>Western Ave &amp; Lunt Ave</td>\n",
       "      <td>RP-005</td>\n",
       "      <td>Valli Produce - Evanston Plaza</td>\n",
       "      <td>599</td>\n",
       "      <td>42.008571</td>\n",
       "      <td>-87.690483</td>\n",
       "      <td>42.039742</td>\n",
       "      <td>-87.699413</td>\n",
       "      <td>casual</td>\n",
       "      <td>794.0</td>\n",
       "      <td>Segunda-feira</td>\n",
       "    </tr>\n",
       "    <tr>\n",
       "      <th>3</th>\n",
       "      <td>C90792D034FED968</td>\n",
       "      <td>classic_bike</td>\n",
       "      <td>2023-01-22 10:52:58</td>\n",
       "      <td>2023-01-22 11:01:44</td>\n",
       "      <td>Kimbark Ave &amp; 53rd St</td>\n",
       "      <td>TA1309000037</td>\n",
       "      <td>Greenwood Ave &amp; 47th St</td>\n",
       "      <td>TA1308000002</td>\n",
       "      <td>41.799568</td>\n",
       "      <td>-87.594747</td>\n",
       "      <td>41.809835</td>\n",
       "      <td>-87.599383</td>\n",
       "      <td>member</td>\n",
       "      <td>526.0</td>\n",
       "      <td>Domingo</td>\n",
       "    </tr>\n",
       "    <tr>\n",
       "      <th>4</th>\n",
       "      <td>3397017529188E8A</td>\n",
       "      <td>classic_bike</td>\n",
       "      <td>2023-01-12 13:58:01</td>\n",
       "      <td>2023-01-12 14:13:20</td>\n",
       "      <td>Kimbark Ave &amp; 53rd St</td>\n",
       "      <td>TA1309000037</td>\n",
       "      <td>Greenwood Ave &amp; 47th St</td>\n",
       "      <td>TA1308000002</td>\n",
       "      <td>41.799568</td>\n",
       "      <td>-87.594747</td>\n",
       "      <td>41.809835</td>\n",
       "      <td>-87.599383</td>\n",
       "      <td>member</td>\n",
       "      <td>919.0</td>\n",
       "      <td>Quinta-feira</td>\n",
       "    </tr>\n",
       "  </tbody>\n",
       "</table>\n",
       "</div>"
      ],
      "text/plain": [
       "            ride_id  rideable_type          started_at            ended_at  \\\n",
       "0  F96D5A74A3E41399  electric_bike 2023-01-21 20:05:42 2023-01-21 20:16:33   \n",
       "1  13CB7EB698CEDB88   classic_bike 2023-01-10 15:37:36 2023-01-10 15:46:05   \n",
       "2  BD88A2E670661CE5  electric_bike 2023-01-02 07:51:57 2023-01-02 08:05:11   \n",
       "3  C90792D034FED968   classic_bike 2023-01-22 10:52:58 2023-01-22 11:01:44   \n",
       "4  3397017529188E8A   classic_bike 2023-01-12 13:58:01 2023-01-12 14:13:20   \n",
       "\n",
       "            start_station_name start_station_id  \\\n",
       "0  Lincoln Ave & Fullerton Ave     TA1309000058   \n",
       "1        Kimbark Ave & 53rd St     TA1309000037   \n",
       "2       Western Ave & Lunt Ave           RP-005   \n",
       "3        Kimbark Ave & 53rd St     TA1309000037   \n",
       "4        Kimbark Ave & 53rd St     TA1309000037   \n",
       "\n",
       "                 end_station_name end_station_id  start_lat  start_lng  \\\n",
       "0       Hampden Ct & Diversey Ave       202480.0  41.924074 -87.646278   \n",
       "1         Greenwood Ave & 47th St   TA1308000002  41.799568 -87.594747   \n",
       "2  Valli Produce - Evanston Plaza            599  42.008571 -87.690483   \n",
       "3         Greenwood Ave & 47th St   TA1308000002  41.799568 -87.594747   \n",
       "4         Greenwood Ave & 47th St   TA1308000002  41.799568 -87.594747   \n",
       "\n",
       "     end_lat    end_lng member_casual  travel_duration     dia_semana  \n",
       "0  41.930000 -87.640000        member            651.0         Sábado  \n",
       "1  41.809835 -87.599383        member            509.0    Terça-feira  \n",
       "2  42.039742 -87.699413        casual            794.0  Segunda-feira  \n",
       "3  41.809835 -87.599383        member            526.0        Domingo  \n",
       "4  41.809835 -87.599383        member            919.0   Quinta-feira  "
      ]
     },
     "execution_count": 22,
     "metadata": {},
     "output_type": "execute_result"
    }
   ],
   "source": [
    "#ih, o tabelão não tem as coordenadas das estações.\n",
    "#revendo as colunas do valid_rows3, são as colunas:\n",
    "#start_lat, start_lng, end_lat, end_lng\n",
    "valid_rows3.head()"
   ]
  },
  {
   "cell_type": "code",
   "execution_count": 36,
   "id": "29c5a9b1-97a3-4e0e-9fdb-a86bee7ce5af",
   "metadata": {
    "tags": []
   },
   "outputs": [],
   "source": [
    "#agrupando as linhas com mesma origem e destino, baseadas na latitude e longitude.\n",
    "#\"size\" conta as linhas, e resetando o index para reordenar, e dando o nome 'travel_count' para a coluna de contagem\n",
    "grouped_df = valid_rows3.groupby(['start_lat', 'start_lng', 'end_lat', 'end_lng']).size().reset_index(name='travel_count')"
   ]
  },
  {
   "cell_type": "code",
   "execution_count": 37,
   "id": "8d58246a-8cc8-418d-821a-47e41e806632",
   "metadata": {
    "tags": []
   },
   "outputs": [
    {
     "data": {
      "text/html": [
       "<div>\n",
       "<style scoped>\n",
       "    .dataframe tbody tr th:only-of-type {\n",
       "        vertical-align: middle;\n",
       "    }\n",
       "\n",
       "    .dataframe tbody tr th {\n",
       "        vertical-align: top;\n",
       "    }\n",
       "\n",
       "    .dataframe thead th {\n",
       "        text-align: right;\n",
       "    }\n",
       "</style>\n",
       "<table border=\"1\" class=\"dataframe\">\n",
       "  <thead>\n",
       "    <tr style=\"text-align: right;\">\n",
       "      <th></th>\n",
       "      <th>start_lat</th>\n",
       "      <th>start_lng</th>\n",
       "      <th>end_lat</th>\n",
       "      <th>end_lng</th>\n",
       "      <th>travel_count</th>\n",
       "    </tr>\n",
       "  </thead>\n",
       "  <tbody>\n",
       "    <tr>\n",
       "      <th>0</th>\n",
       "      <td>41.648501</td>\n",
       "      <td>-87.54609</td>\n",
       "      <td>41.648501</td>\n",
       "      <td>-87.546090</td>\n",
       "      <td>3</td>\n",
       "    </tr>\n",
       "    <tr>\n",
       "      <th>1</th>\n",
       "      <td>41.648501</td>\n",
       "      <td>-87.54609</td>\n",
       "      <td>41.651868</td>\n",
       "      <td>-87.539671</td>\n",
       "      <td>2</td>\n",
       "    </tr>\n",
       "    <tr>\n",
       "      <th>2</th>\n",
       "      <td>41.648501</td>\n",
       "      <td>-87.54609</td>\n",
       "      <td>41.659150</td>\n",
       "      <td>-87.550762</td>\n",
       "      <td>28</td>\n",
       "    </tr>\n",
       "    <tr>\n",
       "      <th>3</th>\n",
       "      <td>41.648501</td>\n",
       "      <td>-87.54609</td>\n",
       "      <td>41.691774</td>\n",
       "      <td>-87.530431</td>\n",
       "      <td>1</td>\n",
       "    </tr>\n",
       "    <tr>\n",
       "      <th>4</th>\n",
       "      <td>41.648501</td>\n",
       "      <td>-87.54609</td>\n",
       "      <td>41.704575</td>\n",
       "      <td>-87.528232</td>\n",
       "      <td>1</td>\n",
       "    </tr>\n",
       "  </tbody>\n",
       "</table>\n",
       "</div>"
      ],
      "text/plain": [
       "   start_lat  start_lng    end_lat    end_lng  travel_count\n",
       "0  41.648501  -87.54609  41.648501 -87.546090             3\n",
       "1  41.648501  -87.54609  41.651868 -87.539671             2\n",
       "2  41.648501  -87.54609  41.659150 -87.550762            28\n",
       "3  41.648501  -87.54609  41.691774 -87.530431             1\n",
       "4  41.648501  -87.54609  41.704575 -87.528232             1"
      ]
     },
     "execution_count": 37,
     "metadata": {},
     "output_type": "execute_result"
    }
   ],
   "source": [
    "grouped_df.head()"
   ]
  },
  {
   "cell_type": "code",
   "execution_count": 43,
   "id": "852cd510-c16e-4318-bf75-00a99e60e6d0",
   "metadata": {
    "tags": []
   },
   "outputs": [
    {
     "data": {
      "text/plain": [
       "(10, 5)"
      ]
     },
     "execution_count": 43,
     "metadata": {},
     "output_type": "execute_result"
    }
   ],
   "source": [
    "sample_grouped_df = grouped_df.sort_values(by='travel_count', ascending=False).head(10).reset_index(drop=True)\n",
    "#sample_grouped_df = grouped_df.sample(frac=0.001).reset_index(drop=True)\n",
    "sample_grouped_df.shape"
   ]
  },
  {
   "cell_type": "code",
   "execution_count": 44,
   "id": "2e81c559-93be-487a-a6fa-71effe48596c",
   "metadata": {
    "tags": []
   },
   "outputs": [
    {
     "data": {
      "text/html": [
       "<div>\n",
       "<style scoped>\n",
       "    .dataframe tbody tr th:only-of-type {\n",
       "        vertical-align: middle;\n",
       "    }\n",
       "\n",
       "    .dataframe tbody tr th {\n",
       "        vertical-align: top;\n",
       "    }\n",
       "\n",
       "    .dataframe thead th {\n",
       "        text-align: right;\n",
       "    }\n",
       "</style>\n",
       "<table border=\"1\" class=\"dataframe\">\n",
       "  <thead>\n",
       "    <tr style=\"text-align: right;\">\n",
       "      <th></th>\n",
       "      <th>start_lat</th>\n",
       "      <th>start_lng</th>\n",
       "      <th>end_lat</th>\n",
       "      <th>end_lng</th>\n",
       "      <th>travel_count</th>\n",
       "    </tr>\n",
       "  </thead>\n",
       "  <tbody>\n",
       "    <tr>\n",
       "      <th>0</th>\n",
       "      <td>41.892278</td>\n",
       "      <td>-87.612043</td>\n",
       "      <td>41.892278</td>\n",
       "      <td>-87.612043</td>\n",
       "      <td>7536</td>\n",
       "    </tr>\n",
       "    <tr>\n",
       "      <th>1</th>\n",
       "      <td>41.880958</td>\n",
       "      <td>-87.616743</td>\n",
       "      <td>41.880958</td>\n",
       "      <td>-87.616743</td>\n",
       "      <td>5480</td>\n",
       "    </tr>\n",
       "    <tr>\n",
       "      <th>2</th>\n",
       "      <td>41.785097</td>\n",
       "      <td>-87.601073</td>\n",
       "      <td>41.794301</td>\n",
       "      <td>-87.601450</td>\n",
       "      <td>5253</td>\n",
       "    </tr>\n",
       "    <tr>\n",
       "      <th>3</th>\n",
       "      <td>41.794301</td>\n",
       "      <td>-87.601450</td>\n",
       "      <td>41.785097</td>\n",
       "      <td>-87.601073</td>\n",
       "      <td>4886</td>\n",
       "    </tr>\n",
       "    <tr>\n",
       "      <th>4</th>\n",
       "      <td>41.785097</td>\n",
       "      <td>-87.601073</td>\n",
       "      <td>41.791478</td>\n",
       "      <td>-87.599861</td>\n",
       "      <td>4813</td>\n",
       "    </tr>\n",
       "  </tbody>\n",
       "</table>\n",
       "</div>"
      ],
      "text/plain": [
       "   start_lat  start_lng    end_lat    end_lng  travel_count\n",
       "0  41.892278 -87.612043  41.892278 -87.612043          7536\n",
       "1  41.880958 -87.616743  41.880958 -87.616743          5480\n",
       "2  41.785097 -87.601073  41.794301 -87.601450          5253\n",
       "3  41.794301 -87.601450  41.785097 -87.601073          4886\n",
       "4  41.785097 -87.601073  41.791478 -87.599861          4813"
      ]
     },
     "execution_count": 44,
     "metadata": {},
     "output_type": "execute_result"
    }
   ],
   "source": [
    "sample_grouped_df.head()"
   ]
  },
  {
   "cell_type": "code",
   "execution_count": 23,
   "id": "b5a369ad-5d3d-4031-97cf-06a472c54858",
   "metadata": {
    "tags": []
   },
   "outputs": [
    {
     "data": {
      "text/plain": [
       "Renderers configuration\n",
       "-----------------------\n",
       "    Default renderer: 'plotly_mimetype+notebook'\n",
       "    Available renderers:\n",
       "        ['plotly_mimetype', 'jupyterlab', 'nteract', 'vscode',\n",
       "         'notebook', 'notebook_connected', 'kaggle', 'azure', 'colab',\n",
       "         'cocalc', 'databricks', 'json', 'png', 'jpeg', 'jpg', 'svg',\n",
       "         'pdf', 'browser', 'firefox', 'chrome', 'chromium', 'iframe',\n",
       "         'iframe_connected', 'sphinx_gallery', 'sphinx_gallery_png']"
      ]
     },
     "execution_count": 23,
     "metadata": {},
     "output_type": "execute_result"
    }
   ],
   "source": [
    "#import plotly.io as pio\n",
    "#pio.renderers"
   ]
  },
  {
   "cell_type": "code",
   "execution_count": 33,
   "id": "9022231e-e11a-483c-bd02-42026fd3ec58",
   "metadata": {
    "tags": []
   },
   "outputs": [],
   "source": [
    "#import plotly.io as pio\n",
    "#pio.renderers.default = 'svg'"
   ]
  },
  {
   "cell_type": "code",
   "execution_count": 31,
   "id": "99064de0-da46-4f4e-851e-301888d35ffa",
   "metadata": {
    "tags": []
   },
   "outputs": [
    {
     "data": {
      "text/html": [
       "        <script type=\"text/javascript\">\n",
       "        window.PlotlyConfig = {MathJaxConfig: 'local'};\n",
       "        if (window.MathJax && window.MathJax.Hub && window.MathJax.Hub.Config) {window.MathJax.Hub.Config({SVG: {font: \"STIX-Web\"}});}\n",
       "        if (typeof require !== 'undefined') {\n",
       "        require.undef(\"plotly\");\n",
       "        requirejs.config({\n",
       "            paths: {\n",
       "                'plotly': ['https://cdn.plot.ly/plotly-2.27.0.min']\n",
       "            }\n",
       "        });\n",
       "        require(['plotly'], function(Plotly) {\n",
       "            window._Plotly = Plotly;\n",
       "        });\n",
       "        }\n",
       "        </script>\n",
       "        "
      ]
     },
     "metadata": {},
     "output_type": "display_data"
    }
   ],
   "source": [
    "#import plotly.offline as pyo\n",
    "#pyo.init_notebook_mode(connected=True)"
   ]
  },
  {
   "cell_type": "code",
   "execution_count": 56,
   "id": "e4640b49-37b7-4e4e-b824-dedaa6b8fb0e",
   "metadata": {
    "tags": []
   },
   "outputs": [
    {
     "data": {
      "application/vnd.plotly.v1+json": {
       "config": {
        "plotlyServerURL": "https://plot.ly"
       },
       "data": [
        {
         "lat": [
          41.892278,
          41.892278
         ],
         "line": {
          "color": "mediumblue",
          "width": 7.536
         },
         "lon": [
          -87.612043,
          -87.612043
         ],
         "mode": "lines",
         "type": "scattergeo"
        },
        {
         "lat": [
          41.880958,
          41.880958
         ],
         "line": {
          "color": "mediumblue",
          "width": 5.48
         },
         "lon": [
          -87.616743,
          -87.616743
         ],
         "mode": "lines",
         "type": "scattergeo"
        },
        {
         "lat": [
          41.78509714636,
          41.79430062054
         ],
         "line": {
          "color": "mediumblue",
          "width": 5.253
         },
         "lon": [
          -87.6010727606,
          -87.6014497734
         ],
         "mode": "lines",
         "type": "scattergeo"
        },
        {
         "lat": [
          41.79430062054,
          41.78509714636
         ],
         "line": {
          "color": "mediumblue",
          "width": 4.886
         },
         "lon": [
          -87.6014497734,
          -87.6010727606
         ],
         "mode": "lines",
         "type": "scattergeo"
        },
        {
         "lat": [
          41.78509714636,
          41.791478
         ],
         "line": {
          "color": "mediumblue",
          "width": 4.813
         },
         "lon": [
          -87.6010727606,
          -87.599861
         ],
         "mode": "lines",
         "type": "scattergeo"
        },
        {
         "lat": [
          41.791478,
          41.78509714636
         ],
         "line": {
          "color": "mediumblue",
          "width": 4.414
         },
         "lon": [
          -87.599861,
          -87.6010727606
         ],
         "mode": "lines",
         "type": "scattergeo"
        },
        {
         "lat": [
          41.880958,
          41.892278
         ],
         "line": {
          "color": "mediumblue",
          "width": 3.921
         },
         "lon": [
          -87.616743,
          -87.612043
         ],
         "mode": "lines",
         "type": "scattergeo"
        },
        {
         "lat": [
          41.90096039,
          41.90096039
         ],
         "line": {
          "color": "mediumblue",
          "width": 3.317
         },
         "lon": [
          -87.62377664,
          -87.62377664
         ],
         "mode": "lines",
         "type": "scattergeo"
        },
        {
         "lat": [
          41.8349,
          41.834734
         ],
         "line": {
          "color": "mediumblue",
          "width": 3.212
         },
         "lon": [
          -87.61793,
          -87.625813
         ],
         "mode": "lines",
         "type": "scattergeo"
        },
        {
         "lat": [
          41.834734,
          41.8349
         ],
         "line": {
          "color": "mediumblue",
          "width": 3.196
         },
         "lon": [
          -87.625813,
          -87.61793
         ],
         "mode": "lines",
         "type": "scattergeo"
        }
       ],
       "layout": {
        "geo": {
         "center": {
          "lat": 45.37665440985059,
          "lon": -96.27430083036276
         },
         "fitbounds": false,
         "projection": {
          "scale": 1,
          "type": "natural earth"
         },
         "scope": "north america"
        },
        "height": 400,
        "margin": {
         "b": 0,
         "l": 0,
         "pad": 0,
         "r": 0,
         "t": 0
        },
        "showlegend": false,
        "template": {
         "data": {
          "bar": [
           {
            "error_x": {
             "color": "#2a3f5f"
            },
            "error_y": {
             "color": "#2a3f5f"
            },
            "marker": {
             "line": {
              "color": "#E5ECF6",
              "width": 0.5
             },
             "pattern": {
              "fillmode": "overlay",
              "size": 10,
              "solidity": 0.2
             }
            },
            "type": "bar"
           }
          ],
          "barpolar": [
           {
            "marker": {
             "line": {
              "color": "#E5ECF6",
              "width": 0.5
             },
             "pattern": {
              "fillmode": "overlay",
              "size": 10,
              "solidity": 0.2
             }
            },
            "type": "barpolar"
           }
          ],
          "carpet": [
           {
            "aaxis": {
             "endlinecolor": "#2a3f5f",
             "gridcolor": "white",
             "linecolor": "white",
             "minorgridcolor": "white",
             "startlinecolor": "#2a3f5f"
            },
            "baxis": {
             "endlinecolor": "#2a3f5f",
             "gridcolor": "white",
             "linecolor": "white",
             "minorgridcolor": "white",
             "startlinecolor": "#2a3f5f"
            },
            "type": "carpet"
           }
          ],
          "choropleth": [
           {
            "colorbar": {
             "outlinewidth": 0,
             "ticks": ""
            },
            "type": "choropleth"
           }
          ],
          "contour": [
           {
            "colorbar": {
             "outlinewidth": 0,
             "ticks": ""
            },
            "colorscale": [
             [
              0,
              "#0d0887"
             ],
             [
              0.1111111111111111,
              "#46039f"
             ],
             [
              0.2222222222222222,
              "#7201a8"
             ],
             [
              0.3333333333333333,
              "#9c179e"
             ],
             [
              0.4444444444444444,
              "#bd3786"
             ],
             [
              0.5555555555555556,
              "#d8576b"
             ],
             [
              0.6666666666666666,
              "#ed7953"
             ],
             [
              0.7777777777777778,
              "#fb9f3a"
             ],
             [
              0.8888888888888888,
              "#fdca26"
             ],
             [
              1,
              "#f0f921"
             ]
            ],
            "type": "contour"
           }
          ],
          "contourcarpet": [
           {
            "colorbar": {
             "outlinewidth": 0,
             "ticks": ""
            },
            "type": "contourcarpet"
           }
          ],
          "heatmap": [
           {
            "colorbar": {
             "outlinewidth": 0,
             "ticks": ""
            },
            "colorscale": [
             [
              0,
              "#0d0887"
             ],
             [
              0.1111111111111111,
              "#46039f"
             ],
             [
              0.2222222222222222,
              "#7201a8"
             ],
             [
              0.3333333333333333,
              "#9c179e"
             ],
             [
              0.4444444444444444,
              "#bd3786"
             ],
             [
              0.5555555555555556,
              "#d8576b"
             ],
             [
              0.6666666666666666,
              "#ed7953"
             ],
             [
              0.7777777777777778,
              "#fb9f3a"
             ],
             [
              0.8888888888888888,
              "#fdca26"
             ],
             [
              1,
              "#f0f921"
             ]
            ],
            "type": "heatmap"
           }
          ],
          "heatmapgl": [
           {
            "colorbar": {
             "outlinewidth": 0,
             "ticks": ""
            },
            "colorscale": [
             [
              0,
              "#0d0887"
             ],
             [
              0.1111111111111111,
              "#46039f"
             ],
             [
              0.2222222222222222,
              "#7201a8"
             ],
             [
              0.3333333333333333,
              "#9c179e"
             ],
             [
              0.4444444444444444,
              "#bd3786"
             ],
             [
              0.5555555555555556,
              "#d8576b"
             ],
             [
              0.6666666666666666,
              "#ed7953"
             ],
             [
              0.7777777777777778,
              "#fb9f3a"
             ],
             [
              0.8888888888888888,
              "#fdca26"
             ],
             [
              1,
              "#f0f921"
             ]
            ],
            "type": "heatmapgl"
           }
          ],
          "histogram": [
           {
            "marker": {
             "pattern": {
              "fillmode": "overlay",
              "size": 10,
              "solidity": 0.2
             }
            },
            "type": "histogram"
           }
          ],
          "histogram2d": [
           {
            "colorbar": {
             "outlinewidth": 0,
             "ticks": ""
            },
            "colorscale": [
             [
              0,
              "#0d0887"
             ],
             [
              0.1111111111111111,
              "#46039f"
             ],
             [
              0.2222222222222222,
              "#7201a8"
             ],
             [
              0.3333333333333333,
              "#9c179e"
             ],
             [
              0.4444444444444444,
              "#bd3786"
             ],
             [
              0.5555555555555556,
              "#d8576b"
             ],
             [
              0.6666666666666666,
              "#ed7953"
             ],
             [
              0.7777777777777778,
              "#fb9f3a"
             ],
             [
              0.8888888888888888,
              "#fdca26"
             ],
             [
              1,
              "#f0f921"
             ]
            ],
            "type": "histogram2d"
           }
          ],
          "histogram2dcontour": [
           {
            "colorbar": {
             "outlinewidth": 0,
             "ticks": ""
            },
            "colorscale": [
             [
              0,
              "#0d0887"
             ],
             [
              0.1111111111111111,
              "#46039f"
             ],
             [
              0.2222222222222222,
              "#7201a8"
             ],
             [
              0.3333333333333333,
              "#9c179e"
             ],
             [
              0.4444444444444444,
              "#bd3786"
             ],
             [
              0.5555555555555556,
              "#d8576b"
             ],
             [
              0.6666666666666666,
              "#ed7953"
             ],
             [
              0.7777777777777778,
              "#fb9f3a"
             ],
             [
              0.8888888888888888,
              "#fdca26"
             ],
             [
              1,
              "#f0f921"
             ]
            ],
            "type": "histogram2dcontour"
           }
          ],
          "mesh3d": [
           {
            "colorbar": {
             "outlinewidth": 0,
             "ticks": ""
            },
            "type": "mesh3d"
           }
          ],
          "parcoords": [
           {
            "line": {
             "colorbar": {
              "outlinewidth": 0,
              "ticks": ""
             }
            },
            "type": "parcoords"
           }
          ],
          "pie": [
           {
            "automargin": true,
            "type": "pie"
           }
          ],
          "scatter": [
           {
            "fillpattern": {
             "fillmode": "overlay",
             "size": 10,
             "solidity": 0.2
            },
            "type": "scatter"
           }
          ],
          "scatter3d": [
           {
            "line": {
             "colorbar": {
              "outlinewidth": 0,
              "ticks": ""
             }
            },
            "marker": {
             "colorbar": {
              "outlinewidth": 0,
              "ticks": ""
             }
            },
            "type": "scatter3d"
           }
          ],
          "scattercarpet": [
           {
            "marker": {
             "colorbar": {
              "outlinewidth": 0,
              "ticks": ""
             }
            },
            "type": "scattercarpet"
           }
          ],
          "scattergeo": [
           {
            "marker": {
             "colorbar": {
              "outlinewidth": 0,
              "ticks": ""
             }
            },
            "type": "scattergeo"
           }
          ],
          "scattergl": [
           {
            "marker": {
             "colorbar": {
              "outlinewidth": 0,
              "ticks": ""
             }
            },
            "type": "scattergl"
           }
          ],
          "scattermapbox": [
           {
            "marker": {
             "colorbar": {
              "outlinewidth": 0,
              "ticks": ""
             }
            },
            "type": "scattermapbox"
           }
          ],
          "scatterpolar": [
           {
            "marker": {
             "colorbar": {
              "outlinewidth": 0,
              "ticks": ""
             }
            },
            "type": "scatterpolar"
           }
          ],
          "scatterpolargl": [
           {
            "marker": {
             "colorbar": {
              "outlinewidth": 0,
              "ticks": ""
             }
            },
            "type": "scatterpolargl"
           }
          ],
          "scatterternary": [
           {
            "marker": {
             "colorbar": {
              "outlinewidth": 0,
              "ticks": ""
             }
            },
            "type": "scatterternary"
           }
          ],
          "surface": [
           {
            "colorbar": {
             "outlinewidth": 0,
             "ticks": ""
            },
            "colorscale": [
             [
              0,
              "#0d0887"
             ],
             [
              0.1111111111111111,
              "#46039f"
             ],
             [
              0.2222222222222222,
              "#7201a8"
             ],
             [
              0.3333333333333333,
              "#9c179e"
             ],
             [
              0.4444444444444444,
              "#bd3786"
             ],
             [
              0.5555555555555556,
              "#d8576b"
             ],
             [
              0.6666666666666666,
              "#ed7953"
             ],
             [
              0.7777777777777778,
              "#fb9f3a"
             ],
             [
              0.8888888888888888,
              "#fdca26"
             ],
             [
              1,
              "#f0f921"
             ]
            ],
            "type": "surface"
           }
          ],
          "table": [
           {
            "cells": {
             "fill": {
              "color": "#EBF0F8"
             },
             "line": {
              "color": "white"
             }
            },
            "header": {
             "fill": {
              "color": "#C8D4E3"
             },
             "line": {
              "color": "white"
             }
            },
            "type": "table"
           }
          ]
         },
         "layout": {
          "annotationdefaults": {
           "arrowcolor": "#2a3f5f",
           "arrowhead": 0,
           "arrowwidth": 1
          },
          "autotypenumbers": "strict",
          "coloraxis": {
           "colorbar": {
            "outlinewidth": 0,
            "ticks": ""
           }
          },
          "colorscale": {
           "diverging": [
            [
             0,
             "#8e0152"
            ],
            [
             0.1,
             "#c51b7d"
            ],
            [
             0.2,
             "#de77ae"
            ],
            [
             0.3,
             "#f1b6da"
            ],
            [
             0.4,
             "#fde0ef"
            ],
            [
             0.5,
             "#f7f7f7"
            ],
            [
             0.6,
             "#e6f5d0"
            ],
            [
             0.7,
             "#b8e186"
            ],
            [
             0.8,
             "#7fbc41"
            ],
            [
             0.9,
             "#4d9221"
            ],
            [
             1,
             "#276419"
            ]
           ],
           "sequential": [
            [
             0,
             "#0d0887"
            ],
            [
             0.1111111111111111,
             "#46039f"
            ],
            [
             0.2222222222222222,
             "#7201a8"
            ],
            [
             0.3333333333333333,
             "#9c179e"
            ],
            [
             0.4444444444444444,
             "#bd3786"
            ],
            [
             0.5555555555555556,
             "#d8576b"
            ],
            [
             0.6666666666666666,
             "#ed7953"
            ],
            [
             0.7777777777777778,
             "#fb9f3a"
            ],
            [
             0.8888888888888888,
             "#fdca26"
            ],
            [
             1,
             "#f0f921"
            ]
           ],
           "sequentialminus": [
            [
             0,
             "#0d0887"
            ],
            [
             0.1111111111111111,
             "#46039f"
            ],
            [
             0.2222222222222222,
             "#7201a8"
            ],
            [
             0.3333333333333333,
             "#9c179e"
            ],
            [
             0.4444444444444444,
             "#bd3786"
            ],
            [
             0.5555555555555556,
             "#d8576b"
            ],
            [
             0.6666666666666666,
             "#ed7953"
            ],
            [
             0.7777777777777778,
             "#fb9f3a"
            ],
            [
             0.8888888888888888,
             "#fdca26"
            ],
            [
             1,
             "#f0f921"
            ]
           ]
          },
          "colorway": [
           "#636efa",
           "#EF553B",
           "#00cc96",
           "#ab63fa",
           "#FFA15A",
           "#19d3f3",
           "#FF6692",
           "#B6E880",
           "#FF97FF",
           "#FECB52"
          ],
          "font": {
           "color": "#2a3f5f"
          },
          "geo": {
           "bgcolor": "white",
           "lakecolor": "white",
           "landcolor": "#E5ECF6",
           "showlakes": true,
           "showland": true,
           "subunitcolor": "white"
          },
          "hoverlabel": {
           "align": "left"
          },
          "hovermode": "closest",
          "mapbox": {
           "style": "light"
          },
          "paper_bgcolor": "white",
          "plot_bgcolor": "#E5ECF6",
          "polar": {
           "angularaxis": {
            "gridcolor": "white",
            "linecolor": "white",
            "ticks": ""
           },
           "bgcolor": "#E5ECF6",
           "radialaxis": {
            "gridcolor": "white",
            "linecolor": "white",
            "ticks": ""
           }
          },
          "scene": {
           "xaxis": {
            "backgroundcolor": "#E5ECF6",
            "gridcolor": "white",
            "gridwidth": 2,
            "linecolor": "white",
            "showbackground": true,
            "ticks": "",
            "zerolinecolor": "white"
           },
           "yaxis": {
            "backgroundcolor": "#E5ECF6",
            "gridcolor": "white",
            "gridwidth": 2,
            "linecolor": "white",
            "showbackground": true,
            "ticks": "",
            "zerolinecolor": "white"
           },
           "zaxis": {
            "backgroundcolor": "#E5ECF6",
            "gridcolor": "white",
            "gridwidth": 2,
            "linecolor": "white",
            "showbackground": true,
            "ticks": "",
            "zerolinecolor": "white"
           }
          },
          "shapedefaults": {
           "line": {
            "color": "#2a3f5f"
           }
          },
          "ternary": {
           "aaxis": {
            "gridcolor": "white",
            "linecolor": "white",
            "ticks": ""
           },
           "baxis": {
            "gridcolor": "white",
            "linecolor": "white",
            "ticks": ""
           },
           "bgcolor": "#E5ECF6",
           "caxis": {
            "gridcolor": "white",
            "linecolor": "white",
            "ticks": ""
           }
          },
          "title": {
           "x": 0.05
          },
          "xaxis": {
           "automargin": true,
           "gridcolor": "white",
           "linecolor": "white",
           "ticks": "",
           "title": {
            "standoff": 15
           },
           "zerolinecolor": "white",
           "zerolinewidth": 2
          },
          "yaxis": {
           "automargin": true,
           "gridcolor": "white",
           "linecolor": "white",
           "ticks": "",
           "title": {
            "standoff": 15
           },
           "zerolinecolor": "white",
           "zerolinewidth": 2
          }
         }
        },
        "title": {
         "text": "Viagens entre estações"
        },
        "width": 700
       }
      },
      "image/png": "[encoded data removed]",
      "text/html": [
       "<div>                            <div id=\"2a68f996-cd26-426b-836b-1b0a4bd201f7\" class=\"plotly-graph-div\" style=\"height:400px; width:700px;\"></div>            <script type=\"text/javascript\">                require([\"plotly\"], function(Plotly) {                    window.PLOTLYENV=window.PLOTLYENV || {};                                    if (document.getElementById(\"2a68f996-cd26-426b-836b-1b0a4bd201f7\")) {                    Plotly.newPlot(                        \"2a68f996-cd26-426b-836b-1b0a4bd201f7\",                        [{\"lat\":[41.892278,41.892278],\"line\":{\"color\":\"mediumblue\",\"width\":7.536},\"lon\":[-87.612043,-87.612043],\"mode\":\"lines\",\"type\":\"scattergeo\"},{\"lat\":[41.880958,41.880958],\"line\":{\"color\":\"mediumblue\",\"width\":5.48},\"lon\":[-87.616743,-87.616743],\"mode\":\"lines\",\"type\":\"scattergeo\"},{\"lat\":[41.78509714636,41.79430062054],\"line\":{\"color\":\"mediumblue\",\"width\":5.253},\"lon\":[-87.6010727606,-87.6014497734],\"mode\":\"lines\",\"type\":\"scattergeo\"},{\"lat\":[41.79430062054,41.78509714636],\"line\":{\"color\":\"mediumblue\",\"width\":4.886},\"lon\":[-87.6014497734,-87.6010727606],\"mode\":\"lines\",\"type\":\"scattergeo\"},{\"lat\":[41.78509714636,41.791478],\"line\":{\"color\":\"mediumblue\",\"width\":4.813},\"lon\":[-87.6010727606,-87.599861],\"mode\":\"lines\",\"type\":\"scattergeo\"},{\"lat\":[41.791478,41.78509714636],\"line\":{\"color\":\"mediumblue\",\"width\":4.414},\"lon\":[-87.599861,-87.6010727606],\"mode\":\"lines\",\"type\":\"scattergeo\"},{\"lat\":[41.880958,41.892278],\"line\":{\"color\":\"mediumblue\",\"width\":3.921},\"lon\":[-87.616743,-87.612043],\"mode\":\"lines\",\"type\":\"scattergeo\"},{\"lat\":[41.90096039,41.90096039],\"line\":{\"color\":\"mediumblue\",\"width\":3.317},\"lon\":[-87.62377664,-87.62377664],\"mode\":\"lines\",\"type\":\"scattergeo\"},{\"lat\":[41.8349,41.834734],\"line\":{\"color\":\"mediumblue\",\"width\":3.212},\"lon\":[-87.61793,-87.625813],\"mode\":\"lines\",\"type\":\"scattergeo\"},{\"lat\":[41.834734,41.8349],\"line\":{\"color\":\"mediumblue\",\"width\":3.196},\"lon\":[-87.625813,-87.61793],\"mode\":\"lines\",\"type\":\"scattergeo\"}],                        {\"template\":{\"data\":{\"histogram2dcontour\":[{\"type\":\"histogram2dcontour\",\"colorbar\":{\"outlinewidth\":0,\"ticks\":\"\"},\"colorscale\":[[0.0,\"#0d0887\"],[0.1111111111111111,\"#46039f\"],[0.2222222222222222,\"#7201a8\"],[0.3333333333333333,\"#9c179e\"],[0.4444444444444444,\"#bd3786\"],[0.5555555555555556,\"#d8576b\"],[0.6666666666666666,\"#ed7953\"],[0.7777777777777778,\"#fb9f3a\"],[0.8888888888888888,\"#fdca26\"],[1.0,\"#f0f921\"]]}],\"choropleth\":[{\"type\":\"choropleth\",\"colorbar\":{\"outlinewidth\":0,\"ticks\":\"\"}}],\"histogram2d\":[{\"type\":\"histogram2d\",\"colorbar\":{\"outlinewidth\":0,\"ticks\":\"\"},\"colorscale\":[[0.0,\"#0d0887\"],[0.1111111111111111,\"#46039f\"],[0.2222222222222222,\"#7201a8\"],[0.3333333333333333,\"#9c179e\"],[0.4444444444444444,\"#bd3786\"],[0.5555555555555556,\"#d8576b\"],[0.6666666666666666,\"#ed7953\"],[0.7777777777777778,\"#fb9f3a\"],[0.8888888888888888,\"#fdca26\"],[1.0,\"#f0f921\"]]}],\"heatmap\":[{\"type\":\"heatmap\",\"colorbar\":{\"outlinewidth\":0,\"ticks\":\"\"},\"colorscale\":[[0.0,\"#0d0887\"],[0.1111111111111111,\"#46039f\"],[0.2222222222222222,\"#7201a8\"],[0.3333333333333333,\"#9c179e\"],[0.4444444444444444,\"#bd3786\"],[0.5555555555555556,\"#d8576b\"],[0.6666666666666666,\"#ed7953\"],[0.7777777777777778,\"#fb9f3a\"],[0.8888888888888888,\"#fdca26\"],[1.0,\"#f0f921\"]]}],\"heatmapgl\":[{\"type\":\"heatmapgl\",\"colorbar\":{\"outlinewidth\":0,\"ticks\":\"\"},\"colorscale\":[[0.0,\"#0d0887\"],[0.1111111111111111,\"#46039f\"],[0.2222222222222222,\"#7201a8\"],[0.3333333333333333,\"#9c179e\"],[0.4444444444444444,\"#bd3786\"],[0.5555555555555556,\"#d8576b\"],[0.6666666666666666,\"#ed7953\"],[0.7777777777777778,\"#fb9f3a\"],[0.8888888888888888,\"#fdca26\"],[1.0,\"#f0f921\"]]}],\"contourcarpet\":[{\"type\":\"contourcarpet\",\"colorbar\":{\"outlinewidth\":0,\"ticks\":\"\"}}],\"contour\":[{\"type\":\"contour\",\"colorbar\":{\"outlinewidth\":0,\"ticks\":\"\"},\"colorscale\":[[0.0,\"#0d0887\"],[0.1111111111111111,\"#46039f\"],[0.2222222222222222,\"#7201a8\"],[0.3333333333333333,\"#9c179e\"],[0.4444444444444444,\"#bd3786\"],[0.5555555555555556,\"#d8576b\"],[0.6666666666666666,\"#ed7953\"],[0.7777777777777778,\"#fb9f3a\"],[0.8888888888888888,\"#fdca26\"],[1.0,\"#f0f921\"]]}],\"surface\":[{\"type\":\"surface\",\"colorbar\":{\"outlinewidth\":0,\"ticks\":\"\"},\"colorscale\":[[0.0,\"#0d0887\"],[0.1111111111111111,\"#46039f\"],[0.2222222222222222,\"#7201a8\"],[0.3333333333333333,\"#9c179e\"],[0.4444444444444444,\"#bd3786\"],[0.5555555555555556,\"#d8576b\"],[0.6666666666666666,\"#ed7953\"],[0.7777777777777778,\"#fb9f3a\"],[0.8888888888888888,\"#fdca26\"],[1.0,\"#f0f921\"]]}],\"mesh3d\":[{\"type\":\"mesh3d\",\"colorbar\":{\"outlinewidth\":0,\"ticks\":\"\"}}],\"scatter\":[{\"fillpattern\":{\"fillmode\":\"overlay\",\"size\":10,\"solidity\":0.2},\"type\":\"scatter\"}],\"parcoords\":[{\"type\":\"parcoords\",\"line\":{\"colorbar\":{\"outlinewidth\":0,\"ticks\":\"\"}}}],\"scatterpolargl\":[{\"type\":\"scatterpolargl\",\"marker\":{\"colorbar\":{\"outlinewidth\":0,\"ticks\":\"\"}}}],\"bar\":[{\"error_x\":{\"color\":\"#2a3f5f\"},\"error_y\":{\"color\":\"#2a3f5f\"},\"marker\":{\"line\":{\"color\":\"#E5ECF6\",\"width\":0.5},\"pattern\":{\"fillmode\":\"overlay\",\"size\":10,\"solidity\":0.2}},\"type\":\"bar\"}],\"scattergeo\":[{\"type\":\"scattergeo\",\"marker\":{\"colorbar\":{\"outlinewidth\":0,\"ticks\":\"\"}}}],\"scatterpolar\":[{\"type\":\"scatterpolar\",\"marker\":{\"colorbar\":{\"outlinewidth\":0,\"ticks\":\"\"}}}],\"histogram\":[{\"marker\":{\"pattern\":{\"fillmode\":\"overlay\",\"size\":10,\"solidity\":0.2}},\"type\":\"histogram\"}],\"scattergl\":[{\"type\":\"scattergl\",\"marker\":{\"colorbar\":{\"outlinewidth\":0,\"ticks\":\"\"}}}],\"scatter3d\":[{\"type\":\"scatter3d\",\"line\":{\"colorbar\":{\"outlinewidth\":0,\"ticks\":\"\"}},\"marker\":{\"colorbar\":{\"outlinewidth\":0,\"ticks\":\"\"}}}],\"scattermapbox\":[{\"type\":\"scattermapbox\",\"marker\":{\"colorbar\":{\"outlinewidth\":0,\"ticks\":\"\"}}}],\"scatterternary\":[{\"type\":\"scatterternary\",\"marker\":{\"colorbar\":{\"outlinewidth\":0,\"ticks\":\"\"}}}],\"scattercarpet\":[{\"type\":\"scattercarpet\",\"marker\":{\"colorbar\":{\"outlinewidth\":0,\"ticks\":\"\"}}}],\"carpet\":[{\"aaxis\":{\"endlinecolor\":\"#2a3f5f\",\"gridcolor\":\"white\",\"linecolor\":\"white\",\"minorgridcolor\":\"white\",\"startlinecolor\":\"#2a3f5f\"},\"baxis\":{\"endlinecolor\":\"#2a3f5f\",\"gridcolor\":\"white\",\"linecolor\":\"white\",\"minorgridcolor\":\"white\",\"startlinecolor\":\"#2a3f5f\"},\"type\":\"carpet\"}],\"table\":[{\"cells\":{\"fill\":{\"color\":\"#EBF0F8\"},\"line\":{\"color\":\"white\"}},\"header\":{\"fill\":{\"color\":\"#C8D4E3\"},\"line\":{\"color\":\"white\"}},\"type\":\"table\"}],\"barpolar\":[{\"marker\":{\"line\":{\"color\":\"#E5ECF6\",\"width\":0.5},\"pattern\":{\"fillmode\":\"overlay\",\"size\":10,\"solidity\":0.2}},\"type\":\"barpolar\"}],\"pie\":[{\"automargin\":true,\"type\":\"pie\"}]},\"layout\":{\"autotypenumbers\":\"strict\",\"colorway\":[\"#636efa\",\"#EF553B\",\"#00cc96\",\"#ab63fa\",\"#FFA15A\",\"#19d3f3\",\"#FF6692\",\"#B6E880\",\"#FF97FF\",\"#FECB52\"],\"font\":{\"color\":\"#2a3f5f\"},\"hovermode\":\"closest\",\"hoverlabel\":{\"align\":\"left\"},\"paper_bgcolor\":\"white\",\"plot_bgcolor\":\"#E5ECF6\",\"polar\":{\"bgcolor\":\"#E5ECF6\",\"angularaxis\":{\"gridcolor\":\"white\",\"linecolor\":\"white\",\"ticks\":\"\"},\"radialaxis\":{\"gridcolor\":\"white\",\"linecolor\":\"white\",\"ticks\":\"\"}},\"ternary\":{\"bgcolor\":\"#E5ECF6\",\"aaxis\":{\"gridcolor\":\"white\",\"linecolor\":\"white\",\"ticks\":\"\"},\"baxis\":{\"gridcolor\":\"white\",\"linecolor\":\"white\",\"ticks\":\"\"},\"caxis\":{\"gridcolor\":\"white\",\"linecolor\":\"white\",\"ticks\":\"\"}},\"coloraxis\":{\"colorbar\":{\"outlinewidth\":0,\"ticks\":\"\"}},\"colorscale\":{\"sequential\":[[0.0,\"#0d0887\"],[0.1111111111111111,\"#46039f\"],[0.2222222222222222,\"#7201a8\"],[0.3333333333333333,\"#9c179e\"],[0.4444444444444444,\"#bd3786\"],[0.5555555555555556,\"#d8576b\"],[0.6666666666666666,\"#ed7953\"],[0.7777777777777778,\"#fb9f3a\"],[0.8888888888888888,\"#fdca26\"],[1.0,\"#f0f921\"]],\"sequentialminus\":[[0.0,\"#0d0887\"],[0.1111111111111111,\"#46039f\"],[0.2222222222222222,\"#7201a8\"],[0.3333333333333333,\"#9c179e\"],[0.4444444444444444,\"#bd3786\"],[0.5555555555555556,\"#d8576b\"],[0.6666666666666666,\"#ed7953\"],[0.7777777777777778,\"#fb9f3a\"],[0.8888888888888888,\"#fdca26\"],[1.0,\"#f0f921\"]],\"diverging\":[[0,\"#8e0152\"],[0.1,\"#c51b7d\"],[0.2,\"#de77ae\"],[0.3,\"#f1b6da\"],[0.4,\"#fde0ef\"],[0.5,\"#f7f7f7\"],[0.6,\"#e6f5d0\"],[0.7,\"#b8e186\"],[0.8,\"#7fbc41\"],[0.9,\"#4d9221\"],[1,\"#276419\"]]},\"xaxis\":{\"gridcolor\":\"white\",\"linecolor\":\"white\",\"ticks\":\"\",\"title\":{\"standoff\":15},\"zerolinecolor\":\"white\",\"automargin\":true,\"zerolinewidth\":2},\"yaxis\":{\"gridcolor\":\"white\",\"linecolor\":\"white\",\"ticks\":\"\",\"title\":{\"standoff\":15},\"zerolinecolor\":\"white\",\"automargin\":true,\"zerolinewidth\":2},\"scene\":{\"xaxis\":{\"backgroundcolor\":\"#E5ECF6\",\"gridcolor\":\"white\",\"linecolor\":\"white\",\"showbackground\":true,\"ticks\":\"\",\"zerolinecolor\":\"white\",\"gridwidth\":2},\"yaxis\":{\"backgroundcolor\":\"#E5ECF6\",\"gridcolor\":\"white\",\"linecolor\":\"white\",\"showbackground\":true,\"ticks\":\"\",\"zerolinecolor\":\"white\",\"gridwidth\":2},\"zaxis\":{\"backgroundcolor\":\"#E5ECF6\",\"gridcolor\":\"white\",\"linecolor\":\"white\",\"showbackground\":true,\"ticks\":\"\",\"zerolinecolor\":\"white\",\"gridwidth\":2}},\"shapedefaults\":{\"line\":{\"color\":\"#2a3f5f\"}},\"annotationdefaults\":{\"arrowcolor\":\"#2a3f5f\",\"arrowhead\":0,\"arrowwidth\":1},\"geo\":{\"bgcolor\":\"white\",\"landcolor\":\"#E5ECF6\",\"subunitcolor\":\"white\",\"showland\":true,\"showlakes\":true,\"lakecolor\":\"white\"},\"title\":{\"x\":0.05},\"mapbox\":{\"style\":\"light\"}}},\"title\":{\"text\":\"Viagens entre esta\\u00e7\\u00f5es\"},\"geo\":{\"projection\":{\"type\":\"natural earth\"},\"scope\":\"north america\"},\"margin\":{\"t\":0,\"b\":0,\"l\":0,\"r\":0,\"pad\":0},\"height\":400,\"width\":700,\"showlegend\":false},                        {\"responsive\": true}                    ).then(function(){\n",
       "                            \n",
       "var gd = document.getElementById('2a68f996-cd26-426b-836b-1b0a4bd201f7');\n",
       "var x = new MutationObserver(function (mutations, observer) {{\n",
       "        var display = window.getComputedStyle(gd).display;\n",
       "        if (!display || display === 'none') {{\n",
       "            console.log([gd, 'removed!']);\n",
       "            Plotly.purge(gd);\n",
       "            observer.disconnect();\n",
       "        }}\n",
       "}});\n",
       "\n",
       "// Listen for the removal of the full notebook cells\n",
       "var notebookContainer = gd.closest('#notebook-container');\n",
       "if (notebookContainer) {{\n",
       "    x.observe(notebookContainer, {childList: true});\n",
       "}}\n",
       "\n",
       "// Listen for the clearing of the current output cell\n",
       "var outputEl = gd.closest('.output');\n",
       "if (outputEl) {{\n",
       "    x.observe(outputEl, {childList: true});\n",
       "}}\n",
       "\n",
       "                        })                };                });            </script>        </div>"
      ]
     },
     "metadata": {},
     "output_type": "display_data"
    }
   ],
   "source": [
    "fig = go.Figure()\n",
    "\n",
    "source_to_dest = zip(sample_grouped_df[\"start_lat\"], sample_grouped_df[\"end_lat\"],\n",
    "                     sample_grouped_df[\"start_lng\"], sample_grouped_df[\"end_lng\"],\n",
    "                     sample_grouped_df[\"travel_count\"])\n",
    "\n",
    "## Loop thorugh each flight entry\n",
    "for slat,dlat, slon, dlon, travel_count in source_to_dest:\n",
    "    fig.add_trace(go.Scattergeo(\n",
    "                        lat = [slat,dlat],\n",
    "                        lon = [slon, dlon],\n",
    "                        mode = 'lines',\n",
    "                        line = dict(width = travel_count/1000, color=\"mediumblue\")                    \n",
    "                        ))\n",
    "\n",
    "fig.update_layout(title_text = 'Viagens entre estações',\n",
    "                  height=400, width=700,\n",
    "                  geo = dict(projection_type = 'natural earth',scope = 'north america'),\n",
    "                  margin={\"t\":0,\"b\":0,\"l\":0, \"r\":0, \"pad\":0},\n",
    "                  showlegend=False)\n",
    "\n",
    "fig.show()"
   ]
  },
  {
   "cell_type": "markdown",
   "id": "4a9b6432",
   "metadata": {
    "canvas": {
     "comments": [],
     "componentType": "CodeCell",
     "copiedOriginId": null,
     "diskcache": false,
     "headerColor": "transparent",
     "id": "b9d356dd-4a7d-4529-b18c-6cbdd4d73e57",
     "isComponent": false,
     "name": "",
     "parents": []
    },
    "id": "c191c5b2-eecd-4433-a439-d4828b3491e3",
    "tags": []
   },
   "source": [
    "# Teste de exportação"
   ]
  },
  {
   "cell_type": "markdown",
   "id": "f799c15c-cd26-401f-b769-7d8bb4ac1292",
   "metadata": {
    "canvas": {
     "comments": [],
     "componentType": "CodeCell",
     "copiedOriginId": null,
     "diskcache": false,
     "headerColor": "transparent",
     "id": "c033cf1c-b769-4c4c-b358-4211adcb96a1",
     "isComponent": false,
     "name": "",
     "parents": []
    }
   },
   "source": [
    "# Agora com o pygwalker"
   ]
  },
  {
   "cell_type": "code",
   "execution_count": 19,
   "id": "661a59b6",
   "metadata": {
    "canvas": {
     "comments": [],
     "componentType": "CodeCell",
     "copiedOriginId": null,
     "diskcache": false,
     "headerColor": "transparent",
     "id": "cb334af5-04ba-4b4a-bfe7-867792413b69",
     "isComponent": false,
     "name": "",
     "parents": []
    },
    "tags": []
   },
   "outputs": [],
   "source": [
    "import pygwalker as pyg"
   ]
  },
  {
   "cell_type": "code",
   "execution_count": null,
   "id": "1ed50373-4322-4875-a93d-8427a24b18c0",
   "metadata": {
    "canvas": {
     "comments": [],
     "componentType": "CodeCell",
     "copiedOriginId": null,
     "diskcache": false,
     "headerColor": "transparent",
     "id": "7318cf55-f40d-483a-ace7-a368b36a1678",
     "isComponent": false,
     "name": "",
     "parents": []
    },
    "tags": []
   },
   "outputs": [],
   "source": [
    "walk = pyg.walk(valid_rows3.sample(frac=.01), use_kernel_calc=True, use_preview=False)\n",
    "#usando o df todo ele travou no Jupyter Desktop"
   ]
  }
 ],
 "metadata": {
  "canvas": {
   "colorPalette": [
    "inherit",
    "inherit",
    "inherit",
    "inherit",
    "inherit",
    "inherit",
    "inherit",
    "inherit",
    "inherit",
    "inherit"
   ],
   "parameters": [],
   "version": "1.0"
  },
  "colab": {
   "provenance": []
  },
  "kernelspec": {
   "display_name": "Python 3 (ipykernel)",
   "language": "python",
   "name": "python3"
  },
  "language_info": {
   "codemirror_mode": {
    "name": "ipython",
    "version": 3
   },
   "file_extension": ".py",
   "mimetype": "text/x-python",
   "name": "python",
   "nbconvert_exporter": "python",
   "pygments_lexer": "ipython3",
   "version": "3.11.7"
  },
  "toc": {
   "base_numbering": 1,
   "nav_menu": {
    "height": "405px",
    "width": "422px"
   },
   "number_sections": true,
   "sideBar": true,
   "skip_h1_title": false,
   "title_cell": "Table of Contents ",
   "title_sidebar": "Contents ",
   "toc_cell": true,
   "toc_position": {
    "height": "calc(100% - 180px)",
    "left": "10px",
    "top": "150px",
    "width": "257.594px"
   },
   "toc_section_display": true,
   "toc_window_display": true
  },
  "toc-autonumbering": true,
  "toc-showcode": false,
  "toc-showmarkdowntxt": false,
  "toc-showtags": false,
  "widgets": {
   "application/vnd.jupyter.widget-state+json": {
    "state": {},
    "version_major": 2,
    "version_minor": 0
   }
  }
 },
 "nbformat": 4,
 "nbformat_minor": 5
}
